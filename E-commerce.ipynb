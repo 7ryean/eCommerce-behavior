{
 "cells": [
  {
   "cell_type": "markdown",
   "id": "6e8b4ceb",
   "metadata": {},
   "source": [
    "## Import Libraries and Load data"
   ]
  },
  {
   "cell_type": "code",
   "execution_count": 1,
   "id": "3dffd73a",
   "metadata": {
    "ExecuteTime": {
     "end_time": "2022-09-11T09:19:54.569872Z",
     "start_time": "2022-09-11T09:19:51.196256Z"
    }
   },
   "outputs": [],
   "source": [
    "import os\n",
    "import sys\n",
    "import pandas as pd\n",
    "from pandas import DataFrame\n",
    "import numpy as np\n",
    "import matplotlib\n",
    "import matplotlib.pyplot as plt\n",
    "import matplotlib.ticker as mtick\n",
    "import seaborn as sns \n",
    "from mpl_toolkits.mplot3d import Axes3D\n",
    "import math\n",
    "from IPython.core.interactiveshell import InteractiveShell\n",
    "from datetime import *\n",
    "import statistics as stats\n",
    "InteractiveShell.ast_node_interactivity = \"all\" \n",
    "\n",
    "%matplotlib inline\n",
    "\n",
    "# pyspark 관련\n",
    "import pyspark\n",
    "from pyspark.rdd import RDD\n",
    "from pyspark.sql import Row\n",
    "from pyspark.sql import DataFrame\n",
    "from pyspark.sql import SparkSession\n",
    "from pyspark.sql.types import StringType\n",
    "from pyspark.sql import SQLContext\n",
    "from pyspark.sql.functions import *\n",
    "from pyspark.sql.types import *"
   ]
  },
  {
   "cell_type": "code",
   "execution_count": 2,
   "id": "0664d1c2",
   "metadata": {
    "ExecuteTime": {
     "end_time": "2022-09-11T09:20:17.262716Z",
     "start_time": "2022-09-11T09:19:57.019068Z"
    }
   },
   "outputs": [],
   "source": [
    "# SparkSession 만들기\n",
    "\n",
    "spark = SparkSession.builder.appName('eCommerce - Consumer Behavior Analysis').getOrCreate()"
   ]
  },
  {
   "cell_type": "code",
   "execution_count": 3,
   "id": "33587f14",
   "metadata": {
    "ExecuteTime": {
     "end_time": "2022-09-11T09:20:28.441275Z",
     "start_time": "2022-09-11T09:20:28.417278Z"
    }
   },
   "outputs": [
    {
     "data": {
      "text/html": [
       "\n",
       "            <div>\n",
       "                <p><b>SparkSession - in-memory</b></p>\n",
       "                \n",
       "        <div>\n",
       "            <p><b>SparkContext</b></p>\n",
       "\n",
       "            <p><a href=\"http://7ryean:4040\">Spark UI</a></p>\n",
       "\n",
       "            <dl>\n",
       "              <dt>Version</dt>\n",
       "                <dd><code>v3.1.3</code></dd>\n",
       "              <dt>Master</dt>\n",
       "                <dd><code>local[*]</code></dd>\n",
       "              <dt>AppName</dt>\n",
       "                <dd><code>eCommerce - Consumer Behavior Analysis</code></dd>\n",
       "            </dl>\n",
       "        </div>\n",
       "        \n",
       "            </div>\n",
       "        "
      ],
      "text/plain": [
       "<pyspark.sql.session.SparkSession at 0x267dd8f7130>"
      ]
     },
     "execution_count": 3,
     "metadata": {},
     "output_type": "execute_result"
    }
   ],
   "source": [
    "spark"
   ]
  },
  {
   "cell_type": "code",
   "execution_count": 4,
   "id": "0323732b",
   "metadata": {
    "ExecuteTime": {
     "end_time": "2022-09-11T09:20:36.281836Z",
     "start_time": "2022-09-11T09:20:36.242820Z"
    }
   },
   "outputs": [],
   "source": [
    "# 폰트 설정\n",
    "\n",
    "from matplotlib import font_manager, rc\n",
    "import platform\n",
    "\n",
    "if platform.system() == 'Windows' :\n",
    "    font_name = font_manager.FontProperties(fname = 'C:\\Windows\\\\Fonts\\\\NanumBarunGothic.ttf').get_name()\n",
    "    rc('font', family = font_name)\n",
    "else :\n",
    "    rc('font', family = 'AppleGothic')"
   ]
  },
  {
   "cell_type": "code",
   "execution_count": 5,
   "id": "5935dd94",
   "metadata": {
    "ExecuteTime": {
     "end_time": "2022-09-11T09:20:45.554049Z",
     "start_time": "2022-09-11T09:20:38.187945Z"
    }
   },
   "outputs": [
    {
     "name": "stdout",
     "output_type": "stream",
     "text": [
      "Data frame type: <class 'pyspark.sql.dataframe.DataFrame'>\n"
     ]
    }
   ],
   "source": [
    "#commerce_df = spark.read.option('header', 'true').csv('C:\\\\Users\\\\u7rye\\\\Desktop\\\\e-commerce\\\\2019-Nov.csv')\n",
    "commerce_df = spark.read.option('header', 'true').csv('2019-Nov.csv')\n",
    "print('Data frame type: ' + str(type(commerce_df)))"
   ]
  },
  {
   "cell_type": "code",
   "execution_count": 93,
   "id": "e6c8738c",
   "metadata": {
    "ExecuteTime": {
     "end_time": "2022-09-11T12:25:54.779210Z",
     "start_time": "2022-09-11T12:25:54.695178Z"
    }
   },
   "outputs": [
    {
     "data": {
      "text/plain": [
       "DataFrame[event_time: string, event_type: string, product_id: string, category_id: string, category_code: string, brand: string, price: double, user_id: string, user_session: string]"
      ]
     },
     "execution_count": 93,
     "metadata": {},
     "output_type": "execute_result"
    }
   ],
   "source": [
    "commerce_df.cache()"
   ]
  },
  {
   "cell_type": "markdown",
   "id": "3745fb32",
   "metadata": {},
   "source": [
    "## Overview of Dataset"
   ]
  },
  {
   "cell_type": "code",
   "execution_count": 6,
   "id": "65da5090",
   "metadata": {
    "ExecuteTime": {
     "end_time": "2022-09-11T09:20:48.333065Z",
     "start_time": "2022-09-11T09:20:48.323122Z"
    }
   },
   "outputs": [
    {
     "name": "stdout",
     "output_type": "stream",
     "text": [
      "Data overview\n",
      "root\n",
      " |-- event_time: string (nullable = true)\n",
      " |-- event_type: string (nullable = true)\n",
      " |-- product_id: string (nullable = true)\n",
      " |-- category_id: string (nullable = true)\n",
      " |-- category_code: string (nullable = true)\n",
      " |-- brand: string (nullable = true)\n",
      " |-- price: string (nullable = true)\n",
      " |-- user_id: string (nullable = true)\n",
      " |-- user_session: string (nullable = true)\n",
      "\n"
     ]
    }
   ],
   "source": [
    "print('Data overview')\n",
    "commerce_df.printSchema()"
   ]
  },
  {
   "cell_type": "code",
   "execution_count": 7,
   "id": "78387f64",
   "metadata": {
    "ExecuteTime": {
     "end_time": "2022-09-11T09:20:51.791391Z",
     "start_time": "2022-09-11T09:20:51.502398Z"
    }
   },
   "outputs": [
    {
     "name": "stdout",
     "output_type": "stream",
     "text": [
      "Change Data overview\n",
      "root\n",
      " |-- event_time: string (nullable = true)\n",
      " |-- event_type: string (nullable = true)\n",
      " |-- product_id: string (nullable = true)\n",
      " |-- category_id: string (nullable = true)\n",
      " |-- category_code: string (nullable = true)\n",
      " |-- brand: string (nullable = true)\n",
      " |-- price: double (nullable = true)\n",
      " |-- user_id: string (nullable = true)\n",
      " |-- user_session: string (nullable = true)\n",
      "\n"
     ]
    }
   ],
   "source": [
    "# price double 형변환\n",
    "\n",
    "commerce_df = commerce_df.withColumn('price', commerce_df.price.cast('double'))\n",
    "print('Change Data overview')\n",
    "commerce_df.printSchema()"
   ]
  },
  {
   "cell_type": "code",
   "execution_count": 8,
   "id": "23747fe4",
   "metadata": {
    "ExecuteTime": {
     "end_time": "2022-09-11T09:33:03.020501Z",
     "start_time": "2022-09-11T09:21:01.660069Z"
    }
   },
   "outputs": [
    {
     "name": "stdout",
     "output_type": "stream",
     "text": [
      "Data frame describe:\n"
     ]
    },
    {
     "data": {
      "text/html": [
       "<div>\n",
       "<style scoped>\n",
       "    .dataframe tbody tr th:only-of-type {\n",
       "        vertical-align: middle;\n",
       "    }\n",
       "\n",
       "    .dataframe tbody tr th {\n",
       "        vertical-align: top;\n",
       "    }\n",
       "\n",
       "    .dataframe thead th {\n",
       "        text-align: right;\n",
       "    }\n",
       "</style>\n",
       "<table border=\"1\" class=\"dataframe\">\n",
       "  <thead>\n",
       "    <tr style=\"text-align: right;\">\n",
       "      <th></th>\n",
       "      <th>summary</th>\n",
       "      <th>event_time</th>\n",
       "      <th>event_type</th>\n",
       "      <th>product_id</th>\n",
       "      <th>category_id</th>\n",
       "      <th>category_code</th>\n",
       "      <th>brand</th>\n",
       "      <th>price</th>\n",
       "      <th>user_id</th>\n",
       "      <th>user_session</th>\n",
       "    </tr>\n",
       "  </thead>\n",
       "  <tbody>\n",
       "    <tr>\n",
       "      <th>0</th>\n",
       "      <td>count</td>\n",
       "      <td>67501979</td>\n",
       "      <td>67501979</td>\n",
       "      <td>67501979</td>\n",
       "      <td>67501979</td>\n",
       "      <td>45603808</td>\n",
       "      <td>58283744</td>\n",
       "      <td>67501979</td>\n",
       "      <td>67501979</td>\n",
       "      <td>67501969</td>\n",
       "    </tr>\n",
       "    <tr>\n",
       "      <th>1</th>\n",
       "      <td>mean</td>\n",
       "      <td>None</td>\n",
       "      <td>None</td>\n",
       "      <td>1.2514064889882294E7</td>\n",
       "      <td>2.05789764431909837E18</td>\n",
       "      <td>None</td>\n",
       "      <td>NaN</td>\n",
       "      <td>292.45931656461437</td>\n",
       "      <td>5.386397456296759E8</td>\n",
       "      <td>None</td>\n",
       "    </tr>\n",
       "    <tr>\n",
       "      <th>2</th>\n",
       "      <td>stddev</td>\n",
       "      <td>None</td>\n",
       "      <td>None</td>\n",
       "      <td>1.725741362984622E7</td>\n",
       "      <td>2.0125490328842856E16</td>\n",
       "      <td>None</td>\n",
       "      <td>NaN</td>\n",
       "      <td>355.67449958606784</td>\n",
       "      <td>2.288516105152206E7</td>\n",
       "      <td>None</td>\n",
       "    </tr>\n",
       "    <tr>\n",
       "      <th>3</th>\n",
       "      <td>min</td>\n",
       "      <td>2019-11-01 00:00:00 UTC</td>\n",
       "      <td>cart</td>\n",
       "      <td>100000000</td>\n",
       "      <td>2053013552226107603</td>\n",
       "      <td>accessories.bag</td>\n",
       "      <td>a-case</td>\n",
       "      <td>0.0</td>\n",
       "      <td>100963605</td>\n",
       "      <td>0000007c-adbf-4ed7-af17-d1fef9763d67</td>\n",
       "    </tr>\n",
       "    <tr>\n",
       "      <th>4</th>\n",
       "      <td>max</td>\n",
       "      <td>2019-11-30 23:59:59 UTC</td>\n",
       "      <td>view</td>\n",
       "      <td>9900463</td>\n",
       "      <td>2187707861038006932</td>\n",
       "      <td>stationery.cartrige</td>\n",
       "      <td>zyxel</td>\n",
       "      <td>2574.07</td>\n",
       "      <td>97129396</td>\n",
       "      <td>fffffde2-4522-4b44-8a32-510c55739ba1</td>\n",
       "    </tr>\n",
       "  </tbody>\n",
       "</table>\n",
       "</div>"
      ],
      "text/plain": [
       "  summary               event_time event_type            product_id  \\\n",
       "0   count                 67501979   67501979              67501979   \n",
       "1    mean                     None       None  1.2514064889882294E7   \n",
       "2  stddev                     None       None   1.725741362984622E7   \n",
       "3     min  2019-11-01 00:00:00 UTC       cart             100000000   \n",
       "4     max  2019-11-30 23:59:59 UTC       view               9900463   \n",
       "\n",
       "              category_id        category_code     brand               price  \\\n",
       "0                67501979             45603808  58283744            67501979   \n",
       "1  2.05789764431909837E18                 None       NaN  292.45931656461437   \n",
       "2   2.0125490328842856E16                 None       NaN  355.67449958606784   \n",
       "3     2053013552226107603      accessories.bag    a-case                 0.0   \n",
       "4     2187707861038006932  stationery.cartrige     zyxel             2574.07   \n",
       "\n",
       "               user_id                          user_session  \n",
       "0             67501979                              67501969  \n",
       "1  5.386397456296759E8                                  None  \n",
       "2  2.288516105152206E7                                  None  \n",
       "3            100963605  0000007c-adbf-4ed7-af17-d1fef9763d67  \n",
       "4             97129396  fffffde2-4522-4b44-8a32-510c55739ba1  "
      ]
     },
     "execution_count": 8,
     "metadata": {},
     "output_type": "execute_result"
    },
    {
     "name": "stdout",
     "output_type": "stream",
     "text": [
      "There are total 67501979 row, Let print first 5 data rows:\n",
      "+--------------------+----------+----------+-------------------+--------------------+------+------+---------+--------------------+\n",
      "|          event_time|event_type|product_id|        category_id|       category_code| brand| price|  user_id|        user_session|\n",
      "+--------------------+----------+----------+-------------------+--------------------+------+------+---------+--------------------+\n",
      "|2019-11-01 00:00:...|      view|   1003461|2053013555631882655|electronics.smart...|xiaomi|489.07|520088904|4d3b30da-a5e4-49d...|\n",
      "|2019-11-01 00:00:...|      view|   5000088|2053013566100866035|appliances.sewing...|janome|293.65|530496790|8e5f4f83-366c-4f7...|\n",
      "|2019-11-01 00:00:...|      view|  17302664|2053013553853497655|                null| creed| 28.31|561587266|755422e7-9040-477...|\n",
      "|2019-11-01 00:00:...|      view|   3601530|2053013563810775923|appliances.kitche...|    lg|712.87|518085591|3bfb58cd-7892-48c...|\n",
      "|2019-11-01 00:00:...|      view|   1004775|2053013555631882655|electronics.smart...|xiaomi|183.27|558856683|313628f1-68b8-460...|\n",
      "+--------------------+----------+----------+-------------------+--------------------+------+------+---------+--------------------+\n",
      "only showing top 5 rows\n",
      "\n"
     ]
    }
   ],
   "source": [
    "print('Data frame describe:')\n",
    "commerce_df.describe().toPandas()\n",
    "\n",
    "print(f'There are total {commerce_df.count()} row, Let print first 5 data rows:')\n",
    "commerce_df.show(5)"
   ]
  },
  {
   "cell_type": "markdown",
   "id": "bad5b89c",
   "metadata": {},
   "source": [
    "확인 결과 'category_code', 'brand', 'user_session'에서 null값이 존재한다.\n",
    "\n",
    "우선, 'user_id'와 'user_session'의 관계에 대해 확인해보고자 한다."
   ]
  },
  {
   "cell_type": "markdown",
   "id": "e17cd2ea",
   "metadata": {},
   "source": [
    "## Detect missing values and abnormal zeroes"
   ]
  },
  {
   "cell_type": "code",
   "execution_count": 13,
   "id": "f807d282",
   "metadata": {
    "ExecuteTime": {
     "end_time": "2022-09-10T10:43:14.851640Z",
     "start_time": "2022-09-10T10:36:30.120725Z"
    }
   },
   "outputs": [
    {
     "name": "stdout",
     "output_type": "stream",
     "text": [
      "+----------+----------+----------+-----------+-------------+-------+-----+-------+------------+\n",
      "|event_time|event_type|product_id|category_id|category_code|  brand|price|user_id|user_session|\n",
      "+----------+----------+----------+-----------+-------------+-------+-----+-------+------------+\n",
      "|         0|         0|         0|          0|     21898171|9224078|    0|      0|          10|\n",
      "+----------+----------+----------+-----------+-------------+-------+-----+-------+------------+\n",
      "\n"
     ]
    }
   ],
   "source": [
    "# null 갯수 확인하기\n",
    "\n",
    "commerce_df.select([functions.count(functions.when(isnan(c) | col(c).isNull(), c)).alias(c) for c in commerce_df.columns]).show()"
   ]
  },
  {
   "cell_type": "markdown",
   "id": "1674bdf2",
   "metadata": {},
   "source": [
    "### category_code"
   ]
  },
  {
   "cell_type": "markdown",
   "id": "9adf01bf",
   "metadata": {},
   "source": [
    "'category_id'는 모두 존재하지만 'category_code'는 null 값이 존재한다."
   ]
  },
  {
   "cell_type": "code",
   "execution_count": 77,
   "id": "9f6a1ddf",
   "metadata": {
    "ExecuteTime": {
     "end_time": "2022-09-11T11:17:24.344074Z",
     "start_time": "2022-09-11T11:15:54.471077Z"
    }
   },
   "outputs": [
    {
     "name": "stdout",
     "output_type": "stream",
     "text": [
      "+-------------------+-------------+----------+-------+\n",
      "|        category_id|category_code|product_id|  price|\n",
      "+-------------------+-------------+----------+-------+\n",
      "|2053013552259662037|         null| 100006048| 504.13|\n",
      "|2053013552259662037|         null| 100006048| 504.08|\n",
      "|2053013552259662037|         null| 100006048| 504.22|\n",
      "|2053013552259662037|         null| 100006048| 504.11|\n",
      "|2053013552259662037|         null| 100006048| 504.14|\n",
      "|2053013552259662037|         null| 100006048|    0.0|\n",
      "|2053013552259662037|         null| 100006048| 504.24|\n",
      "|2053013552259662037|         null| 100007646|    0.0|\n",
      "|2053013552259662037|         null| 100007646| 707.59|\n",
      "|2053013552259662037|         null| 100014817|    0.0|\n",
      "|2053013552259662037|         null| 100016854|    0.0|\n",
      "|2053013552259662037|         null| 100016854| 1851.5|\n",
      "|2053013552259662037|         null| 100018391| 818.78|\n",
      "|2053013552259662037|         null| 100018391|    0.0|\n",
      "|2053013552259662037|         null| 100018756|1364.63|\n",
      "|2053013552259662037|         null| 100018756|    0.0|\n",
      "|2053013552259662037|         null| 100018856| 994.23|\n",
      "|2053013552259662037|         null| 100018887|    0.0|\n",
      "|2053013552259662037|         null| 100018887|  93.25|\n",
      "|2053013552259662037|         null| 100018901|1189.18|\n",
      "+-------------------+-------------+----------+-------+\n",
      "only showing top 20 rows\n",
      "\n"
     ]
    }
   ],
   "source": [
    "commerce_df.select(commerce_df.category_id, commerce_df.category_code, commerce_df.product_id, commerce_df.price).distinct() \\\n",
    "                        .orderBy(commerce_df.category_id, commerce_df.category_code, commerce_df.product_id).show()"
   ]
  },
  {
   "cell_type": "markdown",
   "id": "3bbcf254",
   "metadata": {},
   "source": [
    "#### 동일한 값이 있으면 대체하기"
   ]
  },
  {
   "cell_type": "markdown",
   "id": "c6bfe7b3",
   "metadata": {},
   "source": [
    "'product_id'가 같으면 'category_id'와 'price'가 모두 같은 동일 상품이다. 따라서 'category_code'가 null인 상품의 'product_id'를 찾아준 후 'category_code'를 추가해준다."
   ]
  },
  {
   "cell_type": "code",
   "execution_count": 61,
   "id": "10db0445",
   "metadata": {
    "ExecuteTime": {
     "end_time": "2022-09-11T10:48:17.967381Z",
     "start_time": "2022-09-11T10:48:17.647362Z"
    }
   },
   "outputs": [
    {
     "name": "stdout",
     "output_type": "stream",
     "text": [
      "+-------------+\n",
      "|category_code|\n",
      "+-------------+\n",
      "|         null|\n",
      "|         null|\n",
      "|         null|\n",
      "|         null|\n",
      "|         null|\n",
      "|         null|\n",
      "|         null|\n",
      "|         null|\n",
      "|         null|\n",
      "|         null|\n",
      "|         null|\n",
      "|         null|\n",
      "|         null|\n",
      "|         null|\n",
      "|         null|\n",
      "|         null|\n",
      "|         null|\n",
      "|         null|\n",
      "|         null|\n",
      "|         null|\n",
      "+-------------+\n",
      "only showing top 20 rows\n",
      "\n"
     ]
    }
   ],
   "source": [
    "checked_category_code = commerce_df.select(commerce_df.category_code) \\\n",
    "                        .filter(commerce_df.category_id == '2053013562753811257')\n",
    "\n",
    "checked_category_code.show()"
   ]
  },
  {
   "cell_type": "markdown",
   "id": "f29b9179",
   "metadata": {},
   "source": [
    "동일한 값은 없다."
   ]
  },
  {
   "cell_type": "markdown",
   "id": "be7bb8a6",
   "metadata": {},
   "source": [
    "#### product_id로 category_id, category_code 유추하기"
   ]
  },
  {
   "cell_type": "markdown",
   "id": "7d0aab3c",
   "metadata": {},
   "source": [
    "같은 'category_id'를 가진 'product_id'들은 서로 어떠한 범위를 가지고 있을 것이다. 라는 가정 "
   ]
  },
  {
   "cell_type": "code",
   "execution_count": 66,
   "id": "608ea7fd",
   "metadata": {
    "ExecuteTime": {
     "end_time": "2022-09-11T10:59:20.069436Z",
     "start_time": "2022-09-11T10:58:06.987438Z"
    }
   },
   "outputs": [
    {
     "name": "stdout",
     "output_type": "stream",
     "text": [
      "+-------------------+----------+\n",
      "|category_id        |product_id|\n",
      "+-------------------+----------+\n",
      "|2053013552226107603|100001537 |\n",
      "|2053013552226107603|100019954 |\n",
      "|2053013552226107603|8600006   |\n",
      "|2053013552226107603|8600036   |\n",
      "|2053013552226107603|8600037   |\n",
      "|2053013552226107603|8600043   |\n",
      "|2053013552226107603|8600044   |\n",
      "|2053013552226107603|8600067   |\n",
      "|2053013552226107603|8600076   |\n",
      "|2053013552226107603|8600087   |\n",
      "|2053013552226107603|8600094   |\n",
      "|2053013552226107603|8600116   |\n",
      "|2053013552226107603|8600117   |\n",
      "|2053013552226107603|8600118   |\n",
      "|2053013552226107603|8600134   |\n",
      "|2053013552226107603|8600135   |\n",
      "|2053013552226107603|8600139   |\n",
      "|2053013552226107603|8600140   |\n",
      "|2053013552226107603|8600143   |\n",
      "|2053013552226107603|8600146   |\n",
      "+-------------------+----------+\n",
      "only showing top 20 rows\n",
      "\n"
     ]
    }
   ],
   "source": [
    "checked_category_id_for_code = commerce_df.select(commerce_df.category_id, commerce_df.product_id) \\\n",
    "                        .distinct() \\\n",
    "                        .orderBy(commerce_df.category_id, commerce_df.product_id)\n",
    "\n",
    "checked_category_id_for_code.show(truncate=False)"
   ]
  },
  {
   "cell_type": "markdown",
   "id": "feec6581",
   "metadata": {},
   "source": [
    "어느정도 연관성이 보이는 것 같다!"
   ]
  },
  {
   "cell_type": "markdown",
   "id": "1faa6bbb",
   "metadata": {},
   "source": [
    "product_id가 범위로 존재한다고 가정했을 때, 사이에 없는 product_id를 확인해본다. "
   ]
  },
  {
   "cell_type": "code",
   "execution_count": 67,
   "id": "2cb99367",
   "metadata": {
    "ExecuteTime": {
     "end_time": "2022-09-11T11:01:09.314037Z",
     "start_time": "2022-09-11T11:00:35.069418Z"
    }
   },
   "outputs": [
    {
     "name": "stdout",
     "output_type": "stream",
     "text": [
      "+-----------+\n",
      "|category_id|\n",
      "+-----------+\n",
      "+-----------+\n",
      "\n"
     ]
    }
   ],
   "source": [
    "commerce_df.select(commerce_df.category_id).filter(commerce_df.product_id == '8600119').show()"
   ]
  },
  {
   "cell_type": "code",
   "execution_count": 68,
   "id": "5aa69afe",
   "metadata": {
    "ExecuteTime": {
     "end_time": "2022-09-11T11:02:22.238805Z",
     "start_time": "2022-09-11T11:01:47.612842Z"
    }
   },
   "outputs": [
    {
     "name": "stdout",
     "output_type": "stream",
     "text": [
      "+-----------+\n",
      "|category_id|\n",
      "+-----------+\n",
      "+-----------+\n",
      "\n"
     ]
    }
   ],
   "source": [
    "commerce_df.select(commerce_df.category_id).filter(commerce_df.product_id == '8600141').show()"
   ]
  },
  {
   "cell_type": "code",
   "execution_count": 69,
   "id": "eaa20cf9",
   "metadata": {
    "ExecuteTime": {
     "end_time": "2022-09-11T11:03:38.331364Z",
     "start_time": "2022-09-11T11:02:48.768364Z"
    }
   },
   "outputs": [
    {
     "name": "stdout",
     "output_type": "stream",
     "text": [
      "+----------+----------+----------+-----------+-------------+-----+-----+-------+------------+\n",
      "|event_time|event_type|product_id|category_id|category_code|brand|price|user_id|user_session|\n",
      "+----------+----------+----------+-----------+-------------+-----+-----+-------+------------+\n",
      "+----------+----------+----------+-----------+-------------+-----+-----+-------+------------+\n",
      "\n"
     ]
    }
   ],
   "source": [
    "commerce_df.filter(commerce_df.product_id == '8600119').show()"
   ]
  },
  {
   "cell_type": "markdown",
   "id": "b04a44cf",
   "metadata": {},
   "source": [
    "연관된 'product_id'중 빈 숫자는 아예 존재하지 않는 값인 것 같다."
   ]
  },
  {
   "cell_type": "markdown",
   "id": "03c79efe",
   "metadata": {
    "ExecuteTime": {
     "end_time": "2022-09-11T11:22:08.876063Z",
     "start_time": "2022-09-11T11:22:08.855022Z"
    }
   },
   "source": [
    "product_id의 숫자 범위를 확인해보자."
   ]
  },
  {
   "cell_type": "code",
   "execution_count": 63,
   "id": "c063f260",
   "metadata": {
    "ExecuteTime": {
     "end_time": "2022-09-11T10:49:56.269607Z",
     "start_time": "2022-09-11T10:48:48.991610Z"
    }
   },
   "outputs": [
    {
     "name": "stdout",
     "output_type": "stream",
     "text": [
      "+----------+-------------------+-------------+-----+\n",
      "|product_id|category_id        |category_code|price|\n",
      "+----------+-------------------+-------------+-----+\n",
      "|100000000 |2053013562393101093|null         |0.0  |\n",
      "|100000000 |2053013562393101093|null         |9.63 |\n",
      "|100000001 |2053013562753811257|null         |9.63 |\n",
      "|100000002 |2053013562393101093|null         |9.86 |\n",
      "|100000003 |2053013562393101093|null         |8.28 |\n",
      "|100000008 |2053013561814287111|null         |28.42|\n",
      "|100000008 |2053013561814287111|null         |0.0  |\n",
      "|100000008 |2053013561814287111|null         |31.34|\n",
      "|100000008 |2053013561814287111|null         |26.64|\n",
      "|100000009 |2053013561814287111|null         |28.39|\n",
      "|100000009 |2053013561814287111|null         |31.31|\n",
      "|100000009 |2053013561814287111|null         |26.62|\n",
      "|100000010 |2053013562812531517|null         |3.74 |\n",
      "|100000010 |2053013562812531517|null         |4.43 |\n",
      "|100000011 |2053013561814287111|null         |28.44|\n",
      "|100000011 |2053013561814287111|null         |31.37|\n",
      "|100000011 |2053013561814287111|null         |26.66|\n",
      "|100000011 |2053013561814287111|null         |0.0  |\n",
      "|100000014 |2053013562837697343|null         |9.86 |\n",
      "|100000016 |2053013561277416167|null         |45.04|\n",
      "+----------+-------------------+-------------+-----+\n",
      "only showing top 20 rows\n",
      "\n"
     ]
    }
   ],
   "source": [
    "checked_category_code = commerce_df.select(commerce_df.product_id, commerce_df.category_id, commerce_df.category_code, commerce_df.price) \\\n",
    "                        .filter(commerce_df.category_code.isNull()) \\\n",
    "                        .distinct() \\\n",
    "                        .orderBy(commerce_df.product_id)\n",
    "\n",
    "checked_category_code.show(truncate=False)"
   ]
  },
  {
   "cell_type": "markdown",
   "id": "6e2ac8e9",
   "metadata": {},
   "source": [
    "- 같은 product_id를 가지고 있음에도 price가 존재하는 경우, 존재하지 않는 경우가 있다.\n",
    "- 같은 product_id, category_code를 가진 경우에 price가 다른 경우도 있다. 할인, 이벤트 등을 고려하여 날짜와 함께 보는 것이 좋겠다."
   ]
  },
  {
   "cell_type": "code",
   "execution_count": 73,
   "id": "1a6528bf",
   "metadata": {
    "ExecuteTime": {
     "end_time": "2022-09-11T11:08:53.473452Z",
     "start_time": "2022-09-11T11:07:27.968454Z"
    }
   },
   "outputs": [
    {
     "name": "stdout",
     "output_type": "stream",
     "text": [
      "+-------------------+--------------+--------------+\n",
      "|category_id        |min_product_id|max_product_id|\n",
      "+-------------------+--------------+--------------+\n",
      "|2053013552226107603|100001537     |8600236       |\n",
      "|2053013552259662037|100006048     |8500589       |\n",
      "|2053013552293216471|100000811     |6201398       |\n",
      "|2053013552326770905|100000368     |3901205       |\n",
      "|2053013552351936731|100004381     |4201635       |\n",
      "|2053013552385491165|100014566     |4300490       |\n",
      "|2053013552427434207|22300002      |22300023      |\n",
      "|2053013552469377249|100014018     |22500381      |\n",
      "|2053013552502931683|9000118       |9500152       |\n",
      "|2053013552570040549|100006004     |9900463       |\n",
      "|2053013552603594983|2100016       |2100105       |\n",
      "|2053013552637149417|100003318     |21800314      |\n",
      "|2053013552662315243|100022627     |15300399      |\n",
      "|2053013552695869677|18500001      |18500081      |\n",
      "|2053013552737812719|100003566     |12901549      |\n",
      "|2053013552788144369|100017349     |12800877      |\n",
      "|2053013552821698803|100006136     |7600574       |\n",
      "|2053013552863641845|100006260     |7400061       |\n",
      "|2053013552888807671|100003313     |9101679       |\n",
      "|2053013552913973497|100006534     |9200775       |\n",
      "+-------------------+--------------+--------------+\n",
      "only showing top 20 rows\n",
      "\n"
     ]
    }
   ],
   "source": [
    "gussed_category_code = commerce_df.groupBy(\"category_id\") \\\n",
    "                        .agg(min(\"product_id\").alias(\"min_product_id\") \\\n",
    "                        , max(\"product_id\").alias(\"max_product_id\")) \\\n",
    "                        .orderBy('category_id')\n",
    "\n",
    "gussed_category_code.show(truncate=False)"
   ]
  },
  {
   "cell_type": "markdown",
   "id": "d5ea9f14",
   "metadata": {},
   "source": [
    "'product_id'를 숫자형으로 변경하고 진행해보자."
   ]
  },
  {
   "cell_type": "code",
   "execution_count": 135,
   "id": "282f252f",
   "metadata": {
    "ExecuteTime": {
     "end_time": "2022-09-11T13:25:47.450070Z",
     "start_time": "2022-09-11T13:25:47.426072Z"
    }
   },
   "outputs": [
    {
     "name": "stdout",
     "output_type": "stream",
     "text": [
      "Change Data overview\n",
      "root\n",
      " |-- event_time: string (nullable = true)\n",
      " |-- event_type: string (nullable = true)\n",
      " |-- product_id: integer (nullable = true)\n",
      " |-- category_id: string (nullable = true)\n",
      " |-- category_code: string (nullable = true)\n",
      " |-- brand: string (nullable = true)\n",
      " |-- price: double (nullable = true)\n",
      " |-- user_id: string (nullable = true)\n",
      " |-- user_session: string (nullable = true)\n",
      "\n"
     ]
    }
   ],
   "source": [
    "commerce_df_int = commerce_df.withColumn('product_id', commerce_df.product_id.cast('int'))\n",
    "print('Change Data overview')\n",
    "commerce_df_int.printSchema()"
   ]
  },
  {
   "cell_type": "code",
   "execution_count": 136,
   "id": "8b3325ba",
   "metadata": {
    "ExecuteTime": {
     "end_time": "2022-09-11T13:25:50.887053Z",
     "start_time": "2022-09-11T13:25:50.856038Z"
    }
   },
   "outputs": [
    {
     "name": "stdout",
     "output_type": "stream",
     "text": [
      "Change Data overview\n",
      "root\n",
      " |-- event_time: string (nullable = true)\n",
      " |-- event_type: string (nullable = true)\n",
      " |-- product_id: integer (nullable = true)\n",
      " |-- category_id: integer (nullable = true)\n",
      " |-- category_code: string (nullable = true)\n",
      " |-- brand: string (nullable = true)\n",
      " |-- price: double (nullable = true)\n",
      " |-- user_id: string (nullable = true)\n",
      " |-- user_session: string (nullable = true)\n",
      "\n"
     ]
    }
   ],
   "source": [
    "commerce_df_int = commerce_df_int.withColumn('category_id', commerce_df.category_id.cast('int'))\n",
    "print('Change Data overview')\n",
    "commerce_df_int.printSchema()"
   ]
  },
  {
   "cell_type": "code",
   "execution_count": 104,
   "id": "0aba94df",
   "metadata": {
    "ExecuteTime": {
     "end_time": "2022-09-11T12:47:18.141320Z",
     "start_time": "2022-09-11T12:46:50.182317Z"
    }
   },
   "outputs": [
    {
     "name": "stdout",
     "output_type": "stream",
     "text": [
      "+-------------------+--------------+--------------+\n",
      "|category_id        |min_product_id|max_product_id|\n",
      "+-------------------+--------------+--------------+\n",
      "|2053013552226107603|8600006       |100019954     |\n",
      "|2053013552259662037|8500001       |100027800     |\n",
      "|2053013552293216471|5600042       |100026992     |\n",
      "|2053013552326770905|3900002       |100007037     |\n",
      "|2053013552351936731|4200034       |100018846     |\n",
      "|2053013552385491165|4300000       |100023701     |\n",
      "|2053013552427434207|22300002      |22300023      |\n",
      "|2053013552469377249|22500001      |100019052     |\n",
      "|2053013552502931683|9000118       |9500152       |\n",
      "|2053013552570040549|9900009       |100015189     |\n",
      "|2053013552603594983|2100016       |2100105       |\n",
      "|2053013552637149417|21800000      |100003318     |\n",
      "|2053013552662315243|15300000      |100022901     |\n",
      "|2053013552695869677|18500001      |18500081      |\n",
      "|2053013552737812719|12900004      |100020524     |\n",
      "|2053013552788144369|12800002      |100022352     |\n",
      "|2053013552821698803|7600002       |100024270     |\n",
      "|2053013552863641845|7300004       |100023410     |\n",
      "|2053013552888807671|9000115       |100024103     |\n",
      "|2053013552913973497|9000158       |100022517     |\n",
      "+-------------------+--------------+--------------+\n",
      "only showing top 20 rows\n",
      "\n"
     ]
    }
   ],
   "source": [
    "gussed_category_code = commerce_df_int.groupBy(commerce_df_int.category_id).agg(\n",
    "                                            min(commerce_df_int.product_id).alias('min_product_id') \\\n",
    "                                            , max(commerce_df_int.product_id).alias('max_product_id')) \\\n",
    "                        .orderBy(commerce_df_int.category_id)\n",
    "\n",
    "gussed_category_code.show(truncate=False)"
   ]
  },
  {
   "cell_type": "code",
   "execution_count": 120,
   "id": "cc445681",
   "metadata": {
    "ExecuteTime": {
     "end_time": "2022-09-11T13:12:38.899812Z",
     "start_time": "2022-09-11T13:12:38.879771Z"
    }
   },
   "outputs": [],
   "source": [
    "import seaborn as sns\n",
    "import matplotlib.pyplot as plt"
   ]
  },
  {
   "cell_type": "code",
   "execution_count": 86,
   "id": "4cd6e0a4",
   "metadata": {
    "ExecuteTime": {
     "end_time": "2022-09-11T11:31:37.263052Z",
     "start_time": "2022-09-11T11:30:58.632461Z"
    }
   },
   "outputs": [
    {
     "name": "stdout",
     "output_type": "stream",
     "text": [
      "+----------+\n",
      "|product_id|\n",
      "+----------+\n",
      "|   2100016|\n",
      "|   2100028|\n",
      "|   2100029|\n",
      "|   2100035|\n",
      "|   2100036|\n",
      "|   2100079|\n",
      "|   2100080|\n",
      "|   2100093|\n",
      "|   2100097|\n",
      "|   2100099|\n",
      "|   2100104|\n",
      "|   2100105|\n",
      "+----------+\n",
      "\n"
     ]
    }
   ],
   "source": [
    "# 범위 추출이 가장 그럴듯 한 category_id = 2053013552603594983를 가지고 확인해보자.\n",
    "\n",
    "commerce_df.select(commerce_df.product_id).filter(commerce_df.category_id == '2053013552603594983').distinct().orderBy(commerce_df.product_id).show()"
   ]
  },
  {
   "cell_type": "code",
   "execution_count": 110,
   "id": "6a1f6913",
   "metadata": {
    "ExecuteTime": {
     "end_time": "2022-09-11T12:53:16.784786Z",
     "start_time": "2022-09-11T12:53:04.600785Z"
    }
   },
   "outputs": [
    {
     "name": "stdout",
     "output_type": "stream",
     "text": [
      "+----------+\n",
      "|product_id|\n",
      "+----------+\n",
      "+----------+\n",
      "\n"
     ]
    }
   ],
   "source": [
    "commerce_df.select(commerce_df.product_id).filter((commerce_df.category_id == '2053013552603594983') & (commerce_df.category_code.isNull())).distinct().show()"
   ]
  },
  {
   "cell_type": "code",
   "execution_count": 89,
   "id": "31917184",
   "metadata": {
    "ExecuteTime": {
     "end_time": "2022-09-11T12:19:33.933805Z",
     "start_time": "2022-09-11T12:18:50.426806Z"
    }
   },
   "outputs": [
    {
     "name": "stdout",
     "output_type": "stream",
     "text": [
      "+----------+----------+----------+-----------+-------------+-----+-----+-------+------------+\n",
      "|event_time|event_type|product_id|category_id|category_code|brand|price|user_id|user_session|\n",
      "+----------+----------+----------+-----------+-------------+-----+-----+-------+------------+\n",
      "+----------+----------+----------+-----------+-------------+-----+-----+-------+------------+\n",
      "\n"
     ]
    }
   ],
   "source": [
    "# 한번 더 product_id의 빈 값을 확인해보자.\n",
    "\n",
    "commerce_df.filter(commerce_df.product_id == '2100032').orderBy(commerce_df.product_id).show()"
   ]
  },
  {
   "cell_type": "markdown",
   "id": "ea2cfb50",
   "metadata": {},
   "source": [
    "값의 차이가 없다."
   ]
  },
  {
   "cell_type": "markdown",
   "id": "3d7327c3",
   "metadata": {},
   "source": [
    "### price"
   ]
  },
  {
   "cell_type": "code",
   "execution_count": 11,
   "id": "bdc60033",
   "metadata": {
    "ExecuteTime": {
     "end_time": "2022-09-10T10:31:25.072105Z",
     "start_time": "2022-09-10T10:25:03.266878Z"
    }
   },
   "outputs": [
    {
     "data": {
      "text/html": [
       "<div>\n",
       "<style scoped>\n",
       "    .dataframe tbody tr th:only-of-type {\n",
       "        vertical-align: middle;\n",
       "    }\n",
       "\n",
       "    .dataframe tbody tr th {\n",
       "        vertical-align: top;\n",
       "    }\n",
       "\n",
       "    .dataframe thead th {\n",
       "        text-align: right;\n",
       "    }\n",
       "</style>\n",
       "<table border=\"1\" class=\"dataframe\">\n",
       "  <thead>\n",
       "    <tr style=\"text-align: right;\">\n",
       "      <th></th>\n",
       "      <th>event_time</th>\n",
       "      <th>event_type</th>\n",
       "      <th>product_id</th>\n",
       "      <th>category_id</th>\n",
       "      <th>category_code</th>\n",
       "      <th>brand</th>\n",
       "      <th>price</th>\n",
       "      <th>user_id</th>\n",
       "      <th>user_session</th>\n",
       "    </tr>\n",
       "  </thead>\n",
       "  <tbody>\n",
       "    <tr>\n",
       "      <th>0</th>\n",
       "      <td>0</td>\n",
       "      <td>0</td>\n",
       "      <td>0</td>\n",
       "      <td>0</td>\n",
       "      <td>21898171</td>\n",
       "      <td>9218235</td>\n",
       "      <td>188088</td>\n",
       "      <td>0</td>\n",
       "      <td>10</td>\n",
       "    </tr>\n",
       "  </tbody>\n",
       "</table>\n",
       "</div>"
      ],
      "text/plain": [
       "   event_time  event_type  product_id  category_id  category_code    brand  \\\n",
       "0           0           0           0            0       21898171  9218235   \n",
       "\n",
       "    price  user_id  user_session  \n",
       "0  188088        0            10  "
      ]
     },
     "execution_count": 11,
     "metadata": {},
     "output_type": "execute_result"
    }
   ],
   "source": [
    "# price가 0인 경우도 확인\n",
    "\n",
    "string_columns = ['event_time', 'event_type', 'product_id', 'category_id', 'category_code', 'brand', 'user_id', 'user_session']\n",
    "numeric_columns = ['price']\n",
    "missing_values = {}\n",
    "\n",
    "for index, column in enumerate(commerce_df.columns) :\n",
    "    if column in string_columns :\n",
    "        missing_count = commerce_df.filter(col(column).eqNullSafe(None)|col(column).isNull()).count()\n",
    "        missing_values.update({column:missing_count})\n",
    "    if column in numeric_columns :\n",
    "        missing_count = commerce_df.where(col(column).isin([0,None,np.nan])).count()\n",
    "        missing_values.update({column:missing_count})\n",
    "        \n",
    "missing_df = pd.DataFrame.from_dict([missing_values])\n",
    "missing_df"
   ]
  },
  {
   "cell_type": "code",
   "execution_count": 28,
   "id": "23c8b6e1",
   "metadata": {
    "ExecuteTime": {
     "end_time": "2022-09-10T11:05:59.482416Z",
     "start_time": "2022-09-10T11:05:59.199421Z"
    }
   },
   "outputs": [
    {
     "name": "stdout",
     "output_type": "stream",
     "text": [
      "+--------------------+----------+----------+-------------------+--------------------+-----+-----+---------+--------------------+\n",
      "|          event_time|event_type|product_id|        category_id|       category_code|brand|price|  user_id|        user_session|\n",
      "+--------------------+----------+----------+-------------------+--------------------+-----+-----+---------+--------------------+\n",
      "|2019-11-01 00:38:...|      view|  33100000|2058719826188173878|                null| null|  0.0|546996930|969ea68f-a919-4d3...|\n",
      "|2019-11-01 00:42:...|      view|  33100000|2058719826188173878|                null| null|  0.0|546996930|b1ab3863-bbf5-437...|\n",
      "|2019-11-01 01:07:...|      view|  12720812|2053013553559896355|                null| null|  0.0|516269492|9bf68f2a-fd78-4b1...|\n",
      "|2019-11-01 01:07:...|      view|  12720812|2053013553559896355|                null| null|  0.0|516269492|9bf68f2a-fd78-4b1...|\n",
      "|2019-11-01 01:26:...|      view|  38900075|2085718636156158307|                null| null|  0.0|539587206|4d91487b-2b8d-41e...|\n",
      "|2019-11-01 01:40:...|      view|  13902536|2053013557343158789|construction.comp...| null|  0.0|514119888|793320f2-aab3-469...|\n",
      "|2019-11-01 01:43:...|      view|   2702683|2053013563911439225|appliances.kitche...| null|  0.0|552636285|ed87f60a-412c-4d2...|\n",
      "|2019-11-01 01:46:...|      view|   1307551|2053013558920217191|  computers.notebook| null|  0.0|518736272|bc56ca44-6875-4b5...|\n",
      "|2019-11-01 01:48:...|      view|   4300485|2053013552385491165|                null| null|  0.0|530173538|600b6494-b8b3-455...|\n",
      "|2019-11-01 01:48:...|      view|   4300485|2053013552385491165|                null| null|  0.0|530173538|600b6494-b8b3-455...|\n",
      "|2019-11-01 01:50:...|      view|   1307554|2053013558920217191|  computers.notebook| null|  0.0|542471879|2a566bb8-a449-4fe...|\n",
      "|2019-11-01 01:59:...|      view|  21000174|2053013561420022511|     accessories.bag| null|  0.0|548452938|4151a619-65fb-4bb...|\n",
      "|2019-11-01 02:07:...|      view|  44700056|2104564977229628393|                null| null|  0.0|564572914|14077407-3fda-401...|\n",
      "|2019-11-01 02:13:...|      view|  49600010|2134905045538308115|                null| null|  0.0|564988160|65938930-176a-423...|\n",
      "|2019-11-01 02:14:...|      view|  49600006|2134905045538308115|                null| null|  0.0|564988160|65938930-176a-423...|\n",
      "|2019-11-01 02:16:...|      view|  13100082|2053013553526341921|                null| null|  0.0|522260090|93d6287c-70ea-422...|\n",
      "|2019-11-01 02:17:...|      view|  33100000|2058719826188173878|                null| null|  0.0|553127751|0b1cf0bc-51d3-180...|\n",
      "|2019-11-01 02:19:...|      view|  33100000|2058719826188173878|                null| null|  0.0|553127751|0b1cf0bc-51d3-180...|\n",
      "|2019-11-01 02:19:...|      view|  33100001|2180736567012753620|                null| null|  0.0|553127751|0b1cf0bc-51d3-180...|\n",
      "|2019-11-01 02:19:...|      view|  33100000|2058719826188173878|                null| null|  0.0|546273062|e200d925-6aa9-4e5...|\n",
      "+--------------------+----------+----------+-------------------+--------------------+-----+-----+---------+--------------------+\n",
      "only showing top 20 rows\n",
      "\n"
     ]
    }
   ],
   "source": [
    "# price가 0인 경우 상세 확인하기\n",
    "\n",
    "checked_price = commerce_df.filter(\n",
    "    commerce_df.price == 0\n",
    ")\n",
    "checked_price.show(30)"
   ]
  },
  {
   "cell_type": "markdown",
   "id": "7ed6ecb8",
   "metadata": {},
   "source": [
    "앞서\n",
    "- 같은 product_id를 가지고 있음에도 price가 존재하는 경우, 존재하지 않는 경우가 있다.\n",
    "- 같은 product_id, category_code를 가진 경우에 price가 다른 경우도 있다. 할인, 이벤트 등을 고려하여 날짜와 함께 보는 것이 좋겠다.\n",
    "라는 결과를 확인했다."
   ]
  },
  {
   "cell_type": "markdown",
   "id": "78d1406e",
   "metadata": {},
   "source": [
    "이 경우에 대해서는 'product_id', 'category_id'가 동일한 행이 존재하는지 확인해서 price를 채워주거나 만약 시기별로 할인율 등이 반영되어 가격이 다르다면 어떻게 처리할지 확인해봐야 한다."
   ]
  },
  {
   "cell_type": "code",
   "execution_count": 78,
   "id": "ba5dc882",
   "metadata": {
    "ExecuteTime": {
     "end_time": "2022-09-11T11:19:30.749633Z",
     "start_time": "2022-09-11T11:19:29.337648Z"
    }
   },
   "outputs": [
    {
     "name": "stdout",
     "output_type": "stream",
     "text": [
      "+--------------------+----------+----------+-------------------+-------------+-------+-----+---------+--------------------+\n",
      "|          event_time|event_type|product_id|        category_id|category_code|  brand|price|  user_id|        user_session|\n",
      "+--------------------+----------+----------+-------------------+-------------+-------+-----+---------+--------------------+\n",
      "|2019-11-01 00:38:...|      view|  33100000|2058719826188173878|         null|   null|  0.0|546996930|969ea68f-a919-4d3...|\n",
      "|2019-11-01 00:42:...|      view|  33100000|2058719826188173878|         null|   null|  0.0|546996930|b1ab3863-bbf5-437...|\n",
      "|2019-11-01 02:17:...|      view|  33100000|2058719826188173878|         null|   null|  0.0|553127751|0b1cf0bc-51d3-180...|\n",
      "|2019-11-01 02:19:...|      view|  33100000|2058719826188173878|         null|   null|  0.0|553127751|0b1cf0bc-51d3-180...|\n",
      "|2019-11-01 02:19:...|      view|  33100000|2058719826188173878|         null|   null|  0.0|546273062|e200d925-6aa9-4e5...|\n",
      "|2019-11-01 02:20:...|      view|  33100000|2058719826188173878|         null|   null|  0.0|546273062|e200d925-6aa9-4e5...|\n",
      "|2019-11-01 02:50:...|      view|  33100000|2058719826188173878|         null|   null|  0.0|512467087|2ea5dfd4-4702-48f...|\n",
      "|2019-11-01 03:39:...|      view|  33100000|2058719826188173878|         null|   null|  0.0|512920422|cc127c80-302e-4d3...|\n",
      "|2019-11-01 04:32:...|      view|  33100000|2058719826188173878|         null|   null|  0.0|529378497|6114c198-dfec-45c...|\n",
      "|2019-11-01 05:05:...|      view|  33100000|2058719826188173878|         null|   null|  0.0|546985333|ad3bc18d-31ef-40c...|\n",
      "|2019-11-01 05:53:...|      view|  33100000|2058719826188173878|         null|   null|  0.0|515660933|5d128a66-4771-465...|\n",
      "|2019-11-01 06:10:...|      view|  33100000|2058719826188173878|         null|witerra|26.97|546273062|e200d925-6aa9-4e5...|\n",
      "|2019-11-01 07:20:...|      view|  33100000|2058719826188173878|         null|witerra|26.97|513186499|323617a7-573a-4da...|\n",
      "|2019-11-01 07:26:...|      view|  33100000|2058719826188173878|         null|witerra|26.97|563174803|b1e74d48-a524-498...|\n",
      "|2019-11-01 07:39:...|      view|  33100000|2058719826188173878|         null|witerra|26.97|512708604|6e1fd849-db78-46c...|\n",
      "|2019-11-01 07:42:...|      view|  33100000|2058719826188173878|         null|witerra|26.97|512699302|9552052b-395a-4aa...|\n",
      "|2019-11-01 07:54:...|      view|  33100000|2058719826188173878|         null|witerra|26.97|514783779|cb32b1f6-2287-440...|\n",
      "|2019-11-01 09:10:...|      view|  33100000|2058719826188173878|         null|witerra|26.97|565626121|79ee38e1-3f55-43f...|\n",
      "|2019-11-01 10:22:...|      view|  33100000|2058719826188173878|         null|witerra|26.97|566407041|39726344-0ba2-4f9...|\n",
      "|2019-11-01 10:22:...|      view|  33100000|2058719826188173878|         null|witerra|26.97|559177123|a0e54b01-0639-4a0...|\n",
      "+--------------------+----------+----------+-------------------+-------------+-------+-----+---------+--------------------+\n",
      "only showing top 20 rows\n",
      "\n"
     ]
    }
   ],
   "source": [
    "commerce_df.filter(commerce_df.product_id == '33100000').show()"
   ]
  },
  {
   "cell_type": "markdown",
   "id": "34041443",
   "metadata": {
    "ExecuteTime": {
     "end_time": "2022-09-11T11:23:16.480438Z",
     "start_time": "2022-09-11T11:23:16.455453Z"
    }
   },
   "source": [
    "'price' 심지어 'brand'도 존재한다!"
   ]
  },
  {
   "cell_type": "code",
   "execution_count": 80,
   "id": "ddfb4931",
   "metadata": {
    "ExecuteTime": {
     "end_time": "2022-09-11T11:22:58.439985Z",
     "start_time": "2022-09-11T11:22:56.153615Z"
    }
   },
   "outputs": [
    {
     "name": "stdout",
     "output_type": "stream",
     "text": [
      "+--------------------+----------+----------+-------------------+-------------+-------+-----+---------+--------------------+\n",
      "|          event_time|event_type|product_id|        category_id|category_code|  brand|price|  user_id|        user_session|\n",
      "+--------------------+----------+----------+-------------------+-------------+-------+-----+---------+--------------------+\n",
      "|2019-11-01 02:19:...|      view|  33100001|2180736567012753620|         null|   null|  0.0|553127751|0b1cf0bc-51d3-180...|\n",
      "|2019-11-01 03:35:...|      view|  33100001|2180736567012753620|         null|   null|  0.0|512483076|8075ada0-1669-413...|\n",
      "|2019-11-01 04:16:...|      view|  33100001|2180736567012753620|         null|   null|  0.0|517119568|b08e1dab-f3ff-4ea...|\n",
      "|2019-11-01 04:16:...|      view|  33100001|2180736567012753620|         null|   null|  0.0|517119568|b08e1dab-f3ff-4ea...|\n",
      "|2019-11-01 04:32:...|      view|  33100001|2180736567012753620|         null|   null|  0.0|529378497|6114c198-dfec-45c...|\n",
      "|2019-11-01 05:05:...|      view|  33100001|2180736567012753620|         null|   null|  0.0|546985333|ad3bc18d-31ef-40c...|\n",
      "|2019-11-01 05:06:...|      view|  33100001|2180736567012753620|         null|   null|  0.0|546985333|ad3bc18d-31ef-40c...|\n",
      "|2019-11-01 05:08:...|      view|  33100001|2180736567012753620|         null|   null|  0.0|512393921|00733671-5c02-410...|\n",
      "|2019-11-01 05:08:...|      view|  33100001|2180736567012753620|         null|   null|  0.0|512393921|00733671-5c02-410...|\n",
      "|2019-11-01 05:19:...|      view|  33100001|2180736567012753620|         null|   null|  0.0|512541542|579443f9-e4c8-49e...|\n",
      "|2019-11-01 07:40:...|      view|  33100001|2180736567012753620|         null|witerra|26.92|541463185|9ab73a61-e552-468...|\n",
      "|2019-11-01 08:15:...|      view|  33100001|2180736567012753620|         null|witerra|26.92|560195166|f0ba2086-6772-40f...|\n",
      "|2019-11-01 09:37:...|      view|  33100001|2180736567012753620|         null|witerra|26.92|512787240|96125cb2-3de7-4a1...|\n",
      "|2019-11-01 10:22:...|      view|  33100001|2180736567012753620|         null|witerra|26.92|559177123|a0e54b01-0639-4a0...|\n",
      "|2019-11-01 12:45:...|      view|  33100001|2180736567012753620|         null|witerra|26.92|552860112|6e3b49e4-bb26-43f...|\n",
      "|2019-11-01 13:04:...|      view|  33100001|2180736567012753620|         null|witerra|26.92|529500104|eb9ab063-7895-41a...|\n",
      "|2019-11-01 13:33:...|      view|  33100001|2180736567012753620|         null|witerra|26.92|549922696|8466d3e2-b2a3-4bb...|\n",
      "|2019-11-01 13:53:...|      view|  33100001|2180736567012753620|         null|witerra|26.92|554118548|d4f4a58d-0148-4c3...|\n",
      "|2019-11-01 14:31:...|      view|  33100001|2180736567012753620|         null|witerra|26.92|517256236|95bd19be-c414-4ba...|\n",
      "|2019-11-01 15:00:...|      view|  33100001|2180736567012753620|         null|witerra|26.92|558707645|418d5dbf-e3dc-471...|\n",
      "+--------------------+----------+----------+-------------------+-------------+-------+-----+---------+--------------------+\n",
      "only showing top 20 rows\n",
      "\n"
     ]
    }
   ],
   "source": [
    "commerce_df.filter(commerce_df.product_id == '33100001').show()"
   ]
  },
  {
   "cell_type": "markdown",
   "id": "86b7030d",
   "metadata": {},
   "source": [
    "### user_session에 관한 분석"
   ]
  },
  {
   "cell_type": "code",
   "execution_count": 11,
   "id": "8d6bee59",
   "metadata": {
    "ExecuteTime": {
     "end_time": "2022-09-11T09:42:19.051949Z",
     "start_time": "2022-09-11T09:40:34.173953Z"
    }
   },
   "outputs": [
    {
     "name": "stdout",
     "output_type": "stream",
     "text": [
      "+--------------+-------------------+-----------------------+----------------------------+\n",
      "|count(user_id)|count(user_session)|count(DISTINCT user_id)|count(DISTINCT user_session)|\n",
      "+--------------+-------------------+-----------------------+----------------------------+\n",
      "|      67501979|           67501969|                3696117|                    13776050|\n",
      "+--------------+-------------------+-----------------------+----------------------------+\n",
      "\n"
     ]
    }
   ],
   "source": [
    "checked_count_user = commerce_df.select(count('user_id'), count('user_session'), \\\n",
    "                                            countDistinct('user_id'), countDistinct('user_session'))\n",
    "\n",
    "checked_count_user.show()"
   ]
  },
  {
   "cell_type": "code",
   "execution_count": 21,
   "id": "77cf512e",
   "metadata": {
    "ExecuteTime": {
     "end_time": "2022-09-11T09:57:57.131717Z",
     "start_time": "2022-09-11T09:56:32.623817Z"
    }
   },
   "outputs": [
    {
     "name": "stdout",
     "output_type": "stream",
     "text": [
      "+------------------------------------+-----+\n",
      "|user_session                        |count|\n",
      "+------------------------------------+-----+\n",
      "|d99d91bf-40f8-4e29-9593-54b4a1826542|4128 |\n",
      "|fc749a4e-c432-4dae-a0a1-04de89f1e4ea|2466 |\n",
      "|b556f0c7-3a23-44f5-9f34-e713fefa9686|1963 |\n",
      "|d6433d7b-3846-456a-88de-748c3fac2675|1658 |\n",
      "|88206fc3-b5ea-4e3b-be68-67edfbf7009b|1373 |\n",
      "+------------------------------------+-----+\n",
      "\n"
     ]
    }
   ],
   "source": [
    "# 'user_session'에 따른 행의 갯수를 파악하고 세부 내역 확인을 통해 관게를 파악\n",
    "\n",
    "checked_user_relation = commerce_df.select(commerce_df.user_session) \\\n",
    "                        .groupBy(commerce_df.user_session) \\\n",
    "                        .count() \\\n",
    "                        .orderBy(\"count\", ascending=False) \\\n",
    "                        .limit(5)\n",
    "\n",
    "checked_user_relation.show(truncate=False)"
   ]
  },
  {
   "cell_type": "code",
   "execution_count": 40,
   "id": "da11d324",
   "metadata": {
    "ExecuteTime": {
     "end_time": "2022-09-11T10:23:06.710355Z",
     "start_time": "2022-09-11T10:21:17.599353Z"
    }
   },
   "outputs": [
    {
     "name": "stdout",
     "output_type": "stream",
     "text": [
      "+---------+\n",
      "|user_id  |\n",
      "+---------+\n",
      "|573277455|\n",
      "+---------+\n",
      "\n"
     ]
    }
   ],
   "source": [
    "checked_user_relation_detail = commerce_df.select(commerce_df.user_id) \\\n",
    "                            .distinct() \\\n",
    "                            .filter(commerce_df.user_session == 'd99d91bf-40f8-4e29-9593-54b4a1826542') \\\n",
    "\n",
    "checked_user_relation_detail.show(truncate=False)"
   ]
  },
  {
   "cell_type": "markdown",
   "id": "19f681b7",
   "metadata": {},
   "source": [
    "'user_id'와 'user_session'이 1:N 관계이다."
   ]
  },
  {
   "cell_type": "markdown",
   "id": "7b4a9722",
   "metadata": {},
   "source": [
    "그렇다면 세션이 null인 경우는 어떤 경우일지?"
   ]
  },
  {
   "cell_type": "code",
   "execution_count": 14,
   "id": "6ac9afb2",
   "metadata": {
    "ExecuteTime": {
     "end_time": "2022-09-10T10:44:50.950824Z",
     "start_time": "2022-09-10T10:43:42.007361Z"
    }
   },
   "outputs": [
    {
     "name": "stdout",
     "output_type": "stream",
     "text": [
      "+--------------------+----------+----------+-------------------+--------------------+-------+-------+---------+------------+\n",
      "|          event_time|event_type|product_id|        category_id|       category_code|  brand|  price|  user_id|user_session|\n",
      "+--------------------+----------+----------+-------------------+--------------------+-------+-------+---------+------------+\n",
      "|2019-11-09 15:32:...|      cart|  19700004|2053013559104766575|                null|kabrita|  37.77|539704497|        null|\n",
      "|2019-11-09 17:15:...|      cart|   1005083|2053013555631882655|electronics.smart...|  honor| 566.27|568843390|        null|\n",
      "|2019-11-13 04:02:...|      cart|   4804008|2053013554658804075|electronics.audio...|bluedio|  97.81|570411102|        null|\n",
      "|2019-11-13 07:18:...|      cart|   1004767|2053013555631882655|electronics.smart...|samsung| 243.51|570878749|        null|\n",
      "|2019-11-23 12:53:...|      cart|   7600528|2053013552821698803|                null|tp-link|  16.73|575357602|        null|\n",
      "|2019-11-25 05:04:...|      cart|   1802104|2053013554415534427|electronics.video.tv|    arg| 360.09|573722572|        null|\n",
      "|2019-11-25 07:03:...|      cart|  21403753|2053013561579406073|  electronics.clocks|   null| 181.47|576301354|        null|\n",
      "|2019-11-26 07:48:...|      cart|   4804718|2053013554658804075|electronics.audio...|  apple| 334.58|576935861|        null|\n",
      "|2019-11-27 07:02:...|      cart|  12719553|2053013553559896355|                null|   null|   55.6|577167045|        null|\n",
      "|2019-11-29 17:25:...|      cart|   1005116|2053013555631882655|electronics.smart...|  apple|1001.42|579123407|        null|\n",
      "+--------------------+----------+----------+-------------------+--------------------+-------+-------+---------+------------+\n",
      "\n"
     ]
    }
   ],
   "source": [
    "# user_session이 null인 경우 확인하기\n",
    "\n",
    "commerce_df.filter(commerce_df.user_session.isNull()).show()"
   ]
  },
  {
   "cell_type": "markdown",
   "id": "f76f9d18",
   "metadata": {
    "ExecuteTime": {
     "end_time": "2022-09-11T09:33:04.227892Z",
     "start_time": "2022-09-11T09:33:04.227892Z"
    }
   },
   "source": [
    "모든 경우가 'event_type'이 'cart'인 경우에서 발생했다. 'user_session' 에 대해서는 일정 시간 이상 행동이 없는 경우 종료된다고 나와있기 때문에 아마 선행된 view와 연결된 경우라고 생각된다."
   ]
  },
  {
   "cell_type": "code",
   "execution_count": null,
   "id": "3252d074",
   "metadata": {},
   "outputs": [],
   "source": [
    "commerce_df.filter(commerce_df.user_id == '539704497').show()"
   ]
  },
  {
   "cell_type": "code",
   "execution_count": 16,
   "id": "38a6069d",
   "metadata": {
    "ExecuteTime": {
     "end_time": "2022-09-10T10:50:14.455878Z",
     "start_time": "2022-09-10T10:47:53.827617Z"
    }
   },
   "outputs": [
    {
     "name": "stdout",
     "output_type": "stream",
     "text": [
      "+---------+-----+\n",
      "|  user_id|count|\n",
      "+---------+-----+\n",
      "|568778435|22542|\n",
      "|569335945|14810|\n",
      "|512475445| 6074|\n",
      "|568793129| 4453|\n",
      "|567475167| 3617|\n",
      "+---------+-----+\n",
      "\n"
     ]
    }
   ],
   "source": [
    "# id, session 관계 확인 - 수정\n",
    "\n",
    "checked_id_session = commerce_df.select(commerce_df.user_id, commerce_df.user_session) \\\n",
    "    .distinct() \\\n",
    "    .count()\n",
    "\n",
    "checked_id_session.show()"
   ]
  },
  {
   "cell_type": "code",
   "execution_count": 29,
   "id": "38008145",
   "metadata": {
    "ExecuteTime": {
     "end_time": "2022-09-10T11:13:29.707451Z",
     "start_time": "2022-09-10T11:12:04.192449Z"
    }
   },
   "outputs": [
    {
     "name": "stdout",
     "output_type": "stream",
     "text": [
      "+---------+--------------------+-----+\n",
      "|  user_id|        user_session|count|\n",
      "+---------+--------------------+-----+\n",
      "|520772685|816a59f3-f5ae-4cc...|    1|\n",
      "|513200477|742aba02-727b-4d1...|    1|\n",
      "|553802615|e09684bb-0c95-4f6...|    1|\n",
      "|542346595|75c35801-ce60-44b...|    1|\n",
      "|558726315|e43aa696-aefc-406...|    1|\n",
      "+---------+--------------------+-----+\n",
      "\n"
     ]
    }
   ],
   "source": [
    "# id, session 관계 확인\n",
    "\n",
    "checked_id_session = commerce_df.select(commerce_df.user_id, commerce_df.user_session) \\\n",
    "    .distinct() \\\n",
    "    .groupBy(commerce_df.user_id, commerce_df.user_session) \\\n",
    "    .count() \\\n",
    "    .orderBy(\"count\", ascending=False) \\\n",
    "    .limit(5)\n",
    "    \n",
    "checked_id_session.show()"
   ]
  },
  {
   "cell_type": "markdown",
   "id": "b80bb071",
   "metadata": {},
   "source": [
    "event type 관련 확인하기."
   ]
  },
  {
   "cell_type": "code",
   "execution_count": 15,
   "id": "382ad59f",
   "metadata": {
    "ExecuteTime": {
     "end_time": "2022-09-10T04:39:56.628833Z",
     "start_time": "2022-09-10T04:38:10.878186Z"
    }
   },
   "outputs": [
    {
     "data": {
      "text/html": [
       "<div>\n",
       "<style scoped>\n",
       "    .dataframe tbody tr th:only-of-type {\n",
       "        vertical-align: middle;\n",
       "    }\n",
       "\n",
       "    .dataframe tbody tr th {\n",
       "        vertical-align: top;\n",
       "    }\n",
       "\n",
       "    .dataframe thead th {\n",
       "        text-align: right;\n",
       "    }\n",
       "</style>\n",
       "<table border=\"1\" class=\"dataframe\">\n",
       "  <thead>\n",
       "    <tr style=\"text-align: right;\">\n",
       "      <th></th>\n",
       "      <th>event_type</th>\n",
       "      <th>count</th>\n",
       "    </tr>\n",
       "  </thead>\n",
       "  <tbody>\n",
       "    <tr>\n",
       "      <th>0</th>\n",
       "      <td>view</td>\n",
       "      <td>13767353</td>\n",
       "    </tr>\n",
       "    <tr>\n",
       "      <th>1</th>\n",
       "      <td>cart</td>\n",
       "      <td>1743354</td>\n",
       "    </tr>\n",
       "    <tr>\n",
       "      <th>2</th>\n",
       "      <td>purchase</td>\n",
       "      <td>773214</td>\n",
       "    </tr>\n",
       "  </tbody>\n",
       "</table>\n",
       "</div>"
      ],
      "text/plain": [
       "  event_type     count\n",
       "0       view  13767353\n",
       "1       cart   1743354\n",
       "2   purchase    773214"
      ]
     },
     "execution_count": 15,
     "metadata": {},
     "output_type": "execute_result"
    }
   ],
   "source": [
    "checked_event_type = commerce_df.select(commerce_df.event_type, commerce_df.user_id, commerce_df.user_session) \\\n",
    "    .distinct() \\\n",
    "    .groupBy(commerce_df.event_type) \\\n",
    "    .count() \\\n",
    "    .orderBy(\"count\", ascending=False)\n",
    "    \n",
    "checked_event_type_df = checked_event_type.toPandas()\n",
    "checked_event_type_df"
   ]
  },
  {
   "cell_type": "code",
   "execution_count": 16,
   "id": "f0f399c6",
   "metadata": {
    "ExecuteTime": {
     "end_time": "2022-09-10T04:42:07.511182Z",
     "start_time": "2022-09-10T04:41:21.424488Z"
    }
   },
   "outputs": [
    {
     "data": {
      "text/html": [
       "<div>\n",
       "<style scoped>\n",
       "    .dataframe tbody tr th:only-of-type {\n",
       "        vertical-align: middle;\n",
       "    }\n",
       "\n",
       "    .dataframe tbody tr th {\n",
       "        vertical-align: top;\n",
       "    }\n",
       "\n",
       "    .dataframe thead th {\n",
       "        text-align: right;\n",
       "    }\n",
       "</style>\n",
       "<table border=\"1\" class=\"dataframe\">\n",
       "  <thead>\n",
       "    <tr style=\"text-align: right;\">\n",
       "      <th></th>\n",
       "      <th>event_type</th>\n",
       "      <th>count</th>\n",
       "    </tr>\n",
       "  </thead>\n",
       "  <tbody>\n",
       "    <tr>\n",
       "      <th>0</th>\n",
       "      <td>view</td>\n",
       "      <td>63556110</td>\n",
       "    </tr>\n",
       "    <tr>\n",
       "      <th>1</th>\n",
       "      <td>cart</td>\n",
       "      <td>3028930</td>\n",
       "    </tr>\n",
       "    <tr>\n",
       "      <th>2</th>\n",
       "      <td>purchase</td>\n",
       "      <td>916939</td>\n",
       "    </tr>\n",
       "  </tbody>\n",
       "</table>\n",
       "</div>"
      ],
      "text/plain": [
       "  event_type     count\n",
       "0       view  63556110\n",
       "1       cart   3028930\n",
       "2   purchase    916939"
      ]
     },
     "execution_count": 16,
     "metadata": {},
     "output_type": "execute_result"
    }
   ],
   "source": [
    "checked_event_type_not_distinct = commerce_df.select(commerce_df.event_type, commerce_df.user_id, commerce_df.user_session) \\\n",
    "    .groupBy(commerce_df.event_type) \\\n",
    "    .count() \\\n",
    "    .orderBy(\"count\", ascending=False)\n",
    "    \n",
    "checked_event_type_not_distinct_df = checked_event_type_not_distinct.toPandas()\n",
    "checked_event_type_not_distinct_df"
   ]
  },
  {
   "cell_type": "code",
   "execution_count": null,
   "id": "3dd68eab",
   "metadata": {},
   "outputs": [],
   "source": [
    "# Top 5 workout types\n",
    "\n",
    "highest_sport_users_df = ranked_sport_users_df.limit(5).toPandas()\n",
    "\n",
    "# Rename column name : 'count' --> Users count\n",
    "highest_sport_users_df.rename(columns = {'count':'Users count'}, inplace = True)\n",
    "\n",
    "# Caculate the total users, we will this result to compute percentage later\n",
    "total_sports_users = ranked_sport_users_df.groupBy().sum().collect()[0][0]"
   ]
  },
  {
   "cell_type": "code",
   "execution_count": 125,
   "id": "21eac7b4",
   "metadata": {
    "ExecuteTime": {
     "end_time": "2022-09-11T13:16:38.595752Z",
     "start_time": "2022-09-11T13:16:38.542759Z"
    }
   },
   "outputs": [
    {
     "ename": "NameError",
     "evalue": "name 'Funnel' is not defined",
     "output_type": "error",
     "traceback": [
      "\u001b[1;31m---------------------------------------------------------------------------\u001b[0m",
      "\u001b[1;31mNameError\u001b[0m                                 Traceback (most recent call last)",
      "Input \u001b[1;32mIn [125]\u001b[0m, in \u001b[0;36m<cell line: 5>\u001b[1;34m()\u001b[0m\n\u001b[0;32m      3\u001b[0m attr \u001b[38;5;241m=\u001b[39m [\u001b[38;5;124m\"\u001b[39m\u001b[38;5;124mA\u001b[39m\u001b[38;5;124m\"\u001b[39m, \u001b[38;5;124m\"\u001b[39m\u001b[38;5;124mB\u001b[39m\u001b[38;5;124m\"\u001b[39m, \u001b[38;5;124m\"\u001b[39m\u001b[38;5;124mC\u001b[39m\u001b[38;5;124m\"\u001b[39m, \u001b[38;5;124m\"\u001b[39m\u001b[38;5;124mD\u001b[39m\u001b[38;5;124m\"\u001b[39m, \u001b[38;5;124m\"\u001b[39m\u001b[38;5;124mE\u001b[39m\u001b[38;5;124m\"\u001b[39m, \u001b[38;5;124m\"\u001b[39m\u001b[38;5;124mF\u001b[39m\u001b[38;5;124m\"\u001b[39m]\n\u001b[0;32m      4\u001b[0m value \u001b[38;5;241m=\u001b[39m [\u001b[38;5;241m20\u001b[39m, \u001b[38;5;241m40\u001b[39m, \u001b[38;5;241m60\u001b[39m, \u001b[38;5;241m80\u001b[39m, \u001b[38;5;241m100\u001b[39m, \u001b[38;5;241m120\u001b[39m]\n\u001b[1;32m----> 5\u001b[0m funnel \u001b[38;5;241m=\u001b[39m \u001b[43mFunnel\u001b[49m(\u001b[38;5;124m\"\u001b[39m\u001b[38;5;124m퍼널 그래프\u001b[39m\u001b[38;5;124m\"\u001b[39m)\n\u001b[0;32m      6\u001b[0m funnel\u001b[38;5;241m.\u001b[39madd(\n\u001b[0;32m      7\u001b[0m     \u001b[38;5;124m\"\u001b[39m\u001b[38;5;124m퍼널\u001b[39m\u001b[38;5;124m\"\u001b[39m,\n\u001b[0;32m      8\u001b[0m     attr,\n\u001b[1;32m   (...)\u001b[0m\n\u001b[0;32m     12\u001b[0m     label_text_color\u001b[38;5;241m=\u001b[39m\u001b[38;5;124m\"\u001b[39m\u001b[38;5;124m#fff\u001b[39m\u001b[38;5;124m\"\u001b[39m,\n\u001b[0;32m     13\u001b[0m )\n\u001b[0;32m     14\u001b[0m funnel\u001b[38;5;241m.\u001b[39mwidth\u001b[38;5;241m=\u001b[39m\u001b[38;5;241m700\u001b[39m\n",
      "\u001b[1;31mNameError\u001b[0m: name 'Funnel' is not defined"
     ]
    }
   ],
   "source": [
    "# 퍼널 차트 그려보기\n",
    "\n",
    "attr = [\"A\", \"B\", \"C\", \"D\", \"E\", \"F\"]\n",
    "value = [20, 40, 60, 80, 100, 120]\n",
    "funnel = Funnel(\"퍼널 그래프\")\n",
    "funnel.add(\n",
    "    \"퍼널\",\n",
    "    attr,\n",
    "    value,\n",
    "    is_label_show=True,\n",
    "    label_pos=\"inside\",\n",
    "    label_text_color=\"#fff\",\n",
    ")\n",
    "funnel.width=700\n",
    "funnel.height=500\n",
    "funnel"
   ]
  },
  {
   "cell_type": "code",
   "execution_count": 124,
   "id": "d7200071",
   "metadata": {
    "ExecuteTime": {
     "end_time": "2022-09-11T13:16:35.603600Z",
     "start_time": "2022-09-11T13:16:25.079691Z"
    }
   },
   "outputs": [
    {
     "name": "stdout",
     "output_type": "stream",
     "text": [
      "Collecting pyecharts\n",
      "  Downloading pyecharts-1.9.1-py3-none-any.whl (135 kB)\n",
      "     -------------------------------------- 135.6/135.6 kB 4.0 MB/s eta 0:00:00\n",
      "Collecting prettytable\n",
      "  Downloading prettytable-3.4.1-py3-none-any.whl (26 kB)\n",
      "Collecting simplejson\n",
      "  Downloading simplejson-3.17.6-cp39-cp39-win_amd64.whl (75 kB)\n",
      "     ---------------------------------------- 75.8/75.8 kB 4.1 MB/s eta 0:00:00\n",
      "Requirement already satisfied: jinja2 in c:\\users\\u7rye\\anaconda3\\lib\\site-packages (from pyecharts) (2.11.3)\n",
      "Requirement already satisfied: MarkupSafe>=0.23 in c:\\users\\u7rye\\anaconda3\\lib\\site-packages (from jinja2->pyecharts) (1.1.1)\n",
      "Requirement already satisfied: wcwidth in c:\\users\\u7rye\\anaconda3\\lib\\site-packages (from prettytable->pyecharts) (0.2.5)\n",
      "Installing collected packages: simplejson, prettytable, pyecharts\n",
      "Successfully installed prettytable-3.4.1 pyecharts-1.9.1 simplejson-3.17.6\n"
     ]
    },
    {
     "name": "stderr",
     "output_type": "stream",
     "text": [
      "WARNING: Ignoring invalid distribution -onlpy (c:\\users\\u7rye\\anaconda3\\lib\\site-packages)\n",
      "WARNING: Ignoring invalid distribution -onlpy (c:\\users\\u7rye\\anaconda3\\lib\\site-packages)\n",
      "WARNING: Ignoring invalid distribution -onlpy (c:\\users\\u7rye\\anaconda3\\lib\\site-packages)\n",
      "WARNING: Ignoring invalid distribution -onlpy (c:\\users\\u7rye\\anaconda3\\lib\\site-packages)\n",
      "WARNING: Ignoring invalid distribution -onlpy (c:\\users\\u7rye\\anaconda3\\lib\\site-packages)\n",
      "WARNING: Ignoring invalid distribution -onlpy (c:\\users\\u7rye\\anaconda3\\lib\\site-packages)\n",
      "WARNING: Ignoring invalid distribution -onlpy (c:\\users\\u7rye\\anaconda3\\lib\\site-packages)\n",
      "WARNING: Ignoring invalid distribution -onlpy (c:\\users\\u7rye\\anaconda3\\lib\\site-packages)\n",
      "WARNING: Ignoring invalid distribution -onlpy (c:\\users\\u7rye\\anaconda3\\lib\\site-packages)\n",
      "WARNING: There was an error checking the latest version of pip.\n"
     ]
    }
   ],
   "source": [
    "!pip install pyecharts"
   ]
  },
  {
   "cell_type": "code",
   "execution_count": 127,
   "id": "a16572f3",
   "metadata": {
    "ExecuteTime": {
     "end_time": "2022-09-11T13:17:29.353509Z",
     "start_time": "2022-09-11T13:17:29.311511Z"
    }
   },
   "outputs": [
    {
     "ename": "ModuleNotFoundError",
     "evalue": "No module named 'pyecharts'",
     "output_type": "error",
     "traceback": [
      "\u001b[1;31m---------------------------------------------------------------------------\u001b[0m",
      "\u001b[1;31mModuleNotFoundError\u001b[0m                       Traceback (most recent call last)",
      "Input \u001b[1;32mIn [127]\u001b[0m, in \u001b[0;36m<cell line: 1>\u001b[1;34m()\u001b[0m\n\u001b[1;32m----> 1\u001b[0m \u001b[38;5;28;01mfrom\u001b[39;00m \u001b[38;5;21;01mpyecharts\u001b[39;00m \u001b[38;5;28;01mimport\u001b[39;00m Funnel\n",
      "\u001b[1;31mModuleNotFoundError\u001b[0m: No module named 'pyecharts'"
     ]
    }
   ],
   "source": [
    "from pyecharts import Funnel"
   ]
  },
  {
   "cell_type": "code",
   "execution_count": null,
   "id": "45956dba",
   "metadata": {},
   "outputs": [],
   "source": []
  },
  {
   "cell_type": "code",
   "execution_count": null,
   "id": "c91edab1",
   "metadata": {},
   "outputs": [],
   "source": []
  },
  {
   "cell_type": "code",
   "execution_count": null,
   "id": "29da1cfd",
   "metadata": {},
   "outputs": [],
   "source": []
  },
  {
   "cell_type": "code",
   "execution_count": null,
   "id": "4406be5a",
   "metadata": {
    "ExecuteTime": {
     "end_time": "2022-09-09T11:59:18.271518Z",
     "start_time": "2022-09-09T11:58:36.636852Z"
    }
   },
   "outputs": [],
   "source": [
    "# event_type 종류 확인\n",
    "\n",
    "commerce_df.select('event_type').distinct().show()"
   ]
  },
  {
   "cell_type": "markdown",
   "id": "d1f693c4",
   "metadata": {},
   "source": [
    "kaggle data 설명에는 event_type에 'remove_from_cart'가 있었으나 해당 데이터셋에서는 확인되지 않았음."
   ]
  },
  {
   "cell_type": "code",
   "execution_count": null,
   "id": "f713bc95",
   "metadata": {
    "ExecuteTime": {
     "end_time": "2022-09-09T12:00:28.410200Z",
     "start_time": "2022-09-09T11:59:29.388620Z"
    }
   },
   "outputs": [],
   "source": [
    "# evnet_type == remove_from_cart 값 확인\n",
    "\n",
    "df_event_type_remove_cart = commerce_df.select('*').where(commerce_df.event_type == 'remove_from_cart')\n",
    "df_event_type_remove_cart.show()"
   ]
  },
  {
   "cell_type": "markdown",
   "id": "0e05a2bd",
   "metadata": {},
   "source": [
    "### 전체 데이터셋 시각화"
   ]
  },
  {
   "cell_type": "code",
   "execution_count": null,
   "id": "4c5099da",
   "metadata": {
    "ExecuteTime": {
     "end_time": "2022-09-09T12:03:07.566968Z",
     "start_time": "2022-09-09T12:02:59.683233Z"
    }
   },
   "outputs": [],
   "source": [
    "!pip install dask[dataframe]"
   ]
  },
  {
   "cell_type": "code",
   "execution_count": null,
   "id": "7fee14aa",
   "metadata": {
    "ExecuteTime": {
     "end_time": "2022-09-09T12:03:45.923312Z",
     "start_time": "2022-09-09T12:03:45.910277Z"
    }
   },
   "outputs": [],
   "source": [
    "import dask.dataframe as dd"
   ]
  },
  {
   "cell_type": "code",
   "execution_count": null,
   "id": "74d14f04",
   "metadata": {
    "ExecuteTime": {
     "end_time": "2022-09-09T12:08:03.896305Z",
     "start_time": "2022-09-09T12:04:11.390946Z"
    }
   },
   "outputs": [],
   "source": [
    "commerce_df_dask = dd.read_csv(\"2019-Nov.csv\")\n",
    "commerce_df_dask = commerce_df_dask.compute()\n",
    "commerce_df_dask.head()"
   ]
  },
  {
   "cell_type": "code",
   "execution_count": null,
   "id": "c09d5087",
   "metadata": {
    "ExecuteTime": {
     "end_time": "2022-09-09T12:31:27.371152Z",
     "start_time": "2022-09-09T12:09:46.238042Z"
    }
   },
   "outputs": [],
   "source": [
    "create_report(commerce_df_dask)"
   ]
  },
  {
   "cell_type": "code",
   "execution_count": null,
   "id": "bb9f9fd5",
   "metadata": {},
   "outputs": [],
   "source": [
    "print(commerce_df_pandas.info())"
   ]
  },
  {
   "cell_type": "code",
   "execution_count": null,
   "id": "7e9e1ad2",
   "metadata": {},
   "outputs": [],
   "source": [
    "df = df.astype({'price':'float', 'event_time':'datetime'})"
   ]
  },
  {
   "cell_type": "code",
   "execution_count": null,
   "id": "7b6e4906",
   "metadata": {},
   "outputs": [],
   "source": [
    "# evnet_type == view 값 확인\n",
    "\n",
    "df_event_type_view = commerce_df.select('*').where(commerce_df.event_type == 'view')\n",
    "df_event_type_view.show()"
   ]
  },
  {
   "cell_type": "code",
   "execution_count": null,
   "id": "7aed3b81",
   "metadata": {},
   "outputs": [],
   "source": [
    "# evnet_type == purchase 값 확인\n",
    "\n",
    "df_event_type_purchase = commerce_df.select('*').where(commerce_df.event_type == 'purchase')\n",
    "df_event_type_purchase.show()"
   ]
  },
  {
   "cell_type": "code",
   "execution_count": null,
   "id": "2244ddab",
   "metadata": {},
   "outputs": [],
   "source": [
    "# evnet_type == cart 값 확인\n",
    "\n",
    "df_event_type_cart = commerce_df.select('*').where(commerce_df.event_type == 'cart')\n",
    "df_event_type_cart.show()"
   ]
  },
  {
   "cell_type": "markdown",
   "id": "b4197960",
   "metadata": {},
   "source": [
    "kaggle 데이터 설명에는 event_type에 'remove_from_cart'가 있다고 하였지만 실제로는 확인되지 않음."
   ]
  },
  {
   "cell_type": "code",
   "execution_count": null,
   "id": "75adea02",
   "metadata": {},
   "outputs": [],
   "source": [
    "df_event_type_purchase.count()"
   ]
  },
  {
   "cell_type": "code",
   "execution_count": null,
   "id": "b2fb5092",
   "metadata": {},
   "outputs": [],
   "source": [
    "df_event_type_cart.count()"
   ]
  },
  {
   "cell_type": "code",
   "execution_count": null,
   "id": "7cc9093c",
   "metadata": {},
   "outputs": [],
   "source": [
    "df_event_type_view.count()"
   ]
  },
  {
   "cell_type": "code",
   "execution_count": null,
   "id": "08e60d35",
   "metadata": {},
   "outputs": [],
   "source": []
  },
  {
   "cell_type": "code",
   "execution_count": null,
   "id": "a4a65e49",
   "metadata": {},
   "outputs": [],
   "source": []
  },
  {
   "cell_type": "code",
   "execution_count": null,
   "id": "62e30c30",
   "metadata": {},
   "outputs": [],
   "source": [
    "# brand null값 확인\n",
    "\n",
    "commerce_df.select(*(sum(col(c).isNull().cast(\"int\")).alias(c) for c in commerce_df.columns)).show()"
   ]
  },
  {
   "cell_type": "markdown",
   "id": "506a0b1d",
   "metadata": {},
   "source": [
    "'category_id', 'category_code', 'brand'의 미싱값이 이상함. id, brand는 있는데 코드는 없거나. id, code, "
   ]
  },
  {
   "cell_type": "code",
   "execution_count": null,
   "id": "edb3a114",
   "metadata": {},
   "outputs": [],
   "source": [
    "# category_code, brand 종류 확인\n",
    "\n",
    "commerce_df.select(\"category_code\",\"brand\").distinct().show()"
   ]
  }
 ],
 "metadata": {
  "kernelspec": {
   "display_name": "test_pyspark",
   "language": "python",
   "name": "test_pyspark"
  },
  "language_info": {
   "codemirror_mode": {
    "name": "ipython",
    "version": 3
   },
   "file_extension": ".py",
   "mimetype": "text/x-python",
   "name": "python",
   "nbconvert_exporter": "python",
   "pygments_lexer": "ipython3",
   "version": "3.10.4"
  },
  "toc": {
   "base_numbering": 1,
   "nav_menu": {},
   "number_sections": true,
   "sideBar": true,
   "skip_h1_title": false,
   "title_cell": "Table of Contents",
   "title_sidebar": "Contents",
   "toc_cell": false,
   "toc_position": {},
   "toc_section_display": true,
   "toc_window_display": false
  },
  "varInspector": {
   "cols": {
    "lenName": 16,
    "lenType": 16,
    "lenVar": 40
   },
   "kernels_config": {
    "python": {
     "delete_cmd_postfix": "",
     "delete_cmd_prefix": "del ",
     "library": "var_list.py",
     "varRefreshCmd": "print(var_dic_list())"
    },
    "r": {
     "delete_cmd_postfix": ") ",
     "delete_cmd_prefix": "rm(",
     "library": "var_list.r",
     "varRefreshCmd": "cat(var_dic_list()) "
    }
   },
   "types_to_exclude": [
    "module",
    "function",
    "builtin_function_or_method",
    "instance",
    "_Feature"
   ],
   "window_display": false
  }
 },
 "nbformat": 4,
 "nbformat_minor": 5
}
