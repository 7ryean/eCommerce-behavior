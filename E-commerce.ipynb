{
 "cells": [
  {
   "cell_type": "markdown",
   "id": "6e8b4ceb",
   "metadata": {},
   "source": [
    "# Import Libraries and Load data"
   ]
  },
  {
   "cell_type": "code",
   "execution_count": 1,
   "id": "3dffd73a",
   "metadata": {
    "ExecuteTime": {
     "end_time": "2022-09-15T01:41:32.289005Z",
     "start_time": "2022-09-15T01:41:26.784949Z"
    }
   },
   "outputs": [],
   "source": [
    "import os\n",
    "import sys\n",
    "import pandas as pd\n",
    "from pandas import DataFrame\n",
    "import numpy as np\n",
    "import matplotlib\n",
    "import matplotlib.pyplot as plt\n",
    "import matplotlib.ticker as mtick\n",
    "import seaborn as sns \n",
    "from mpl_toolkits.mplot3d import Axes3D\n",
    "import math\n",
    "from IPython.core.interactiveshell import InteractiveShell\n",
    "from datetime import *\n",
    "import statistics as stats\n",
    "from pyecharts.charts import Bar\n",
    "from pyecharts.charts import Funnel\n",
    "from pyecharts import options as opts\n",
    "InteractiveShell.ast_node_interactivity = \"all\" \n",
    "\n",
    "%matplotlib inline\n",
    "\n",
    "# pyspark 관련\n",
    "import pyspark\n",
    "from pyspark.rdd import RDD\n",
    "from pyspark.sql import Row\n",
    "from pyspark.sql import DataFrame\n",
    "from pyspark.sql import SparkSession\n",
    "from pyspark.sql.types import StringType\n",
    "from pyspark.sql import SQLContext\n",
    "from pyspark.sql.functions import *\n",
    "from pyspark.sql.types import *"
   ]
  },
  {
   "cell_type": "code",
   "execution_count": 2,
   "id": "0664d1c2",
   "metadata": {
    "ExecuteTime": {
     "end_time": "2022-09-15T01:42:02.835261Z",
     "start_time": "2022-09-15T01:41:37.001433Z"
    }
   },
   "outputs": [],
   "source": [
    "# SparkSession 만들기\n",
    "\n",
    "spark = SparkSession.builder.appName('eCommerce - Consumer Behavior Analysis').getOrCreate()"
   ]
  },
  {
   "cell_type": "code",
   "execution_count": 3,
   "id": "33587f14",
   "metadata": {
    "ExecuteTime": {
     "end_time": "2022-09-15T01:44:12.940388Z",
     "start_time": "2022-09-15T01:44:12.905356Z"
    }
   },
   "outputs": [
    {
     "data": {
      "text/html": [
       "\n",
       "            <div>\n",
       "                <p><b>SparkSession - in-memory</b></p>\n",
       "                \n",
       "        <div>\n",
       "            <p><b>SparkContext</b></p>\n",
       "\n",
       "            <p><a href=\"http://7ryean:4040\">Spark UI</a></p>\n",
       "\n",
       "            <dl>\n",
       "              <dt>Version</dt>\n",
       "                <dd><code>v3.1.3</code></dd>\n",
       "              <dt>Master</dt>\n",
       "                <dd><code>local[*]</code></dd>\n",
       "              <dt>AppName</dt>\n",
       "                <dd><code>eCommerce - Consumer Behavior Analysis</code></dd>\n",
       "            </dl>\n",
       "        </div>\n",
       "        \n",
       "            </div>\n",
       "        "
      ],
      "text/plain": [
       "<pyspark.sql.session.SparkSession at 0x20b7cbbb220>"
      ]
     },
     "execution_count": 3,
     "metadata": {},
     "output_type": "execute_result"
    }
   ],
   "source": [
    "spark"
   ]
  },
  {
   "cell_type": "code",
   "execution_count": 4,
   "id": "0323732b",
   "metadata": {
    "ExecuteTime": {
     "end_time": "2022-09-15T01:44:29.476100Z",
     "start_time": "2022-09-15T01:44:29.429086Z"
    }
   },
   "outputs": [],
   "source": [
    "# 폰트 설정\n",
    "\n",
    "from matplotlib import font_manager, rc\n",
    "import platform\n",
    "\n",
    "if platform.system() == 'Windows' :\n",
    "    font_name = font_manager.FontProperties(fname = 'C:\\Windows\\\\Fonts\\\\NanumBarunGothic.ttf').get_name()\n",
    "    rc('font', family = font_name)\n",
    "else :\n",
    "    rc('font', family = 'AppleGothic')"
   ]
  },
  {
   "cell_type": "code",
   "execution_count": 5,
   "id": "5935dd94",
   "metadata": {
    "ExecuteTime": {
     "end_time": "2022-09-15T01:44:38.107262Z",
     "start_time": "2022-09-15T01:44:30.560260Z"
    }
   },
   "outputs": [
    {
     "name": "stdout",
     "output_type": "stream",
     "text": [
      "Data frame type: <class 'pyspark.sql.dataframe.DataFrame'>\n"
     ]
    }
   ],
   "source": [
    "#commerce_df = spark.read.option('header', 'true').csv('C:\\\\Users\\\\u7rye\\\\Desktop\\\\e-commerce\\\\2019-Nov.csv')\n",
    "commerce_df = spark.read.option('header', 'true').csv('2019-Nov.csv')\n",
    "print('Data frame type: ' + str(type(commerce_df)))"
   ]
  },
  {
   "cell_type": "code",
   "execution_count": 6,
   "id": "e6c8738c",
   "metadata": {
    "ExecuteTime": {
     "end_time": "2022-09-15T01:44:49.121032Z",
     "start_time": "2022-09-15T01:44:49.060015Z"
    }
   },
   "outputs": [
    {
     "data": {
      "text/plain": [
       "DataFrame[event_time: string, event_type: string, product_id: string, category_id: string, category_code: string, brand: string, price: string, user_id: string, user_session: string]"
      ]
     },
     "execution_count": 6,
     "metadata": {},
     "output_type": "execute_result"
    }
   ],
   "source": [
    "commerce_df.cache()"
   ]
  },
  {
   "cell_type": "markdown",
   "id": "3745fb32",
   "metadata": {},
   "source": [
    "# Overview of Dataset"
   ]
  },
  {
   "cell_type": "code",
   "execution_count": 7,
   "id": "65da5090",
   "metadata": {
    "ExecuteTime": {
     "end_time": "2022-09-15T01:44:52.684606Z",
     "start_time": "2022-09-15T01:44:52.661609Z"
    }
   },
   "outputs": [
    {
     "name": "stdout",
     "output_type": "stream",
     "text": [
      "Data overview\n",
      "root\n",
      " |-- event_time: string (nullable = true)\n",
      " |-- event_type: string (nullable = true)\n",
      " |-- product_id: string (nullable = true)\n",
      " |-- category_id: string (nullable = true)\n",
      " |-- category_code: string (nullable = true)\n",
      " |-- brand: string (nullable = true)\n",
      " |-- price: string (nullable = true)\n",
      " |-- user_id: string (nullable = true)\n",
      " |-- user_session: string (nullable = true)\n",
      "\n"
     ]
    }
   ],
   "source": [
    "print('Data overview')\n",
    "commerce_df.printSchema()"
   ]
  },
  {
   "cell_type": "code",
   "execution_count": 8,
   "id": "78387f64",
   "metadata": {
    "ExecuteTime": {
     "end_time": "2022-09-15T01:45:03.533996Z",
     "start_time": "2022-09-15T01:45:03.260003Z"
    }
   },
   "outputs": [
    {
     "name": "stdout",
     "output_type": "stream",
     "text": [
      "Change Data overview\n",
      "root\n",
      " |-- event_time: string (nullable = true)\n",
      " |-- event_type: string (nullable = true)\n",
      " |-- product_id: string (nullable = true)\n",
      " |-- category_id: string (nullable = true)\n",
      " |-- category_code: string (nullable = true)\n",
      " |-- brand: string (nullable = true)\n",
      " |-- price: double (nullable = true)\n",
      " |-- user_id: string (nullable = true)\n",
      " |-- user_session: string (nullable = true)\n",
      "\n"
     ]
    }
   ],
   "source": [
    "# price double 형변환\n",
    "\n",
    "commerce_df = commerce_df.withColumn('price', commerce_df.price.cast('double'))\n",
    "print('Change Data overview')\n",
    "commerce_df.printSchema()"
   ]
  },
  {
   "cell_type": "code",
   "execution_count": 10,
   "id": "23747fe4",
   "metadata": {
    "ExecuteTime": {
     "end_time": "2022-09-15T02:03:37.303042Z",
     "start_time": "2022-09-15T01:50:53.865998Z"
    }
   },
   "outputs": [
    {
     "name": "stdout",
     "output_type": "stream",
     "text": [
      "There are total 67501979 row, Let print first 5 data rows:\n",
      "+--------------------+----------+----------+-------------------+--------------------+------+------+---------+--------------------+\n",
      "|          event_time|event_type|product_id|        category_id|       category_code| brand| price|  user_id|        user_session|\n",
      "+--------------------+----------+----------+-------------------+--------------------+------+------+---------+--------------------+\n",
      "|2019-11-01 00:00:...|      view|   1003461|2053013555631882655|electronics.smart...|xiaomi|489.07|520088904|4d3b30da-a5e4-49d...|\n",
      "|2019-11-01 00:00:...|      view|   5000088|2053013566100866035|appliances.sewing...|janome|293.65|530496790|8e5f4f83-366c-4f7...|\n",
      "|2019-11-01 00:00:...|      view|  17302664|2053013553853497655|                null| creed| 28.31|561587266|755422e7-9040-477...|\n",
      "|2019-11-01 00:00:...|      view|   3601530|2053013563810775923|appliances.kitche...|    lg|712.87|518085591|3bfb58cd-7892-48c...|\n",
      "|2019-11-01 00:00:...|      view|   1004775|2053013555631882655|electronics.smart...|xiaomi|183.27|558856683|313628f1-68b8-460...|\n",
      "+--------------------+----------+----------+-------------------+--------------------+------+------+---------+--------------------+\n",
      "only showing top 5 rows\n",
      "\n",
      "Low Data describe:\n"
     ]
    },
    {
     "data": {
      "text/html": [
       "<div>\n",
       "<style scoped>\n",
       "    .dataframe tbody tr th:only-of-type {\n",
       "        vertical-align: middle;\n",
       "    }\n",
       "\n",
       "    .dataframe tbody tr th {\n",
       "        vertical-align: top;\n",
       "    }\n",
       "\n",
       "    .dataframe thead th {\n",
       "        text-align: right;\n",
       "    }\n",
       "</style>\n",
       "<table border=\"1\" class=\"dataframe\">\n",
       "  <thead>\n",
       "    <tr style=\"text-align: right;\">\n",
       "      <th></th>\n",
       "      <th>summary</th>\n",
       "      <th>event_time</th>\n",
       "      <th>event_type</th>\n",
       "      <th>product_id</th>\n",
       "      <th>category_id</th>\n",
       "      <th>category_code</th>\n",
       "      <th>brand</th>\n",
       "      <th>price</th>\n",
       "      <th>user_id</th>\n",
       "      <th>user_session</th>\n",
       "    </tr>\n",
       "  </thead>\n",
       "  <tbody>\n",
       "    <tr>\n",
       "      <th>0</th>\n",
       "      <td>count</td>\n",
       "      <td>67501979</td>\n",
       "      <td>67501979</td>\n",
       "      <td>67501979</td>\n",
       "      <td>67501979</td>\n",
       "      <td>45603808</td>\n",
       "      <td>58283744</td>\n",
       "      <td>67501979</td>\n",
       "      <td>67501979</td>\n",
       "      <td>67501969</td>\n",
       "    </tr>\n",
       "    <tr>\n",
       "      <th>1</th>\n",
       "      <td>mean</td>\n",
       "      <td>None</td>\n",
       "      <td>None</td>\n",
       "      <td>1.2514064889882294E7</td>\n",
       "      <td>2.05789764431909837E18</td>\n",
       "      <td>None</td>\n",
       "      <td>NaN</td>\n",
       "      <td>292.45931656461437</td>\n",
       "      <td>5.386397456296759E8</td>\n",
       "      <td>None</td>\n",
       "    </tr>\n",
       "    <tr>\n",
       "      <th>2</th>\n",
       "      <td>stddev</td>\n",
       "      <td>None</td>\n",
       "      <td>None</td>\n",
       "      <td>1.725741362984622E7</td>\n",
       "      <td>2.0125490328842856E16</td>\n",
       "      <td>None</td>\n",
       "      <td>NaN</td>\n",
       "      <td>355.67449958606784</td>\n",
       "      <td>2.288516105152206E7</td>\n",
       "      <td>None</td>\n",
       "    </tr>\n",
       "    <tr>\n",
       "      <th>3</th>\n",
       "      <td>min</td>\n",
       "      <td>2019-11-01 00:00:00 UTC</td>\n",
       "      <td>cart</td>\n",
       "      <td>100000000</td>\n",
       "      <td>2053013552226107603</td>\n",
       "      <td>accessories.bag</td>\n",
       "      <td>a-case</td>\n",
       "      <td>0.0</td>\n",
       "      <td>100963605</td>\n",
       "      <td>0000007c-adbf-4ed7-af17-d1fef9763d67</td>\n",
       "    </tr>\n",
       "    <tr>\n",
       "      <th>4</th>\n",
       "      <td>max</td>\n",
       "      <td>2019-11-30 23:59:59 UTC</td>\n",
       "      <td>view</td>\n",
       "      <td>9900463</td>\n",
       "      <td>2187707861038006932</td>\n",
       "      <td>stationery.cartrige</td>\n",
       "      <td>zyxel</td>\n",
       "      <td>2574.07</td>\n",
       "      <td>97129396</td>\n",
       "      <td>fffffde2-4522-4b44-8a32-510c55739ba1</td>\n",
       "    </tr>\n",
       "  </tbody>\n",
       "</table>\n",
       "</div>"
      ],
      "text/plain": [
       "  summary               event_time event_type            product_id  \\\n",
       "0   count                 67501979   67501979              67501979   \n",
       "1    mean                     None       None  1.2514064889882294E7   \n",
       "2  stddev                     None       None   1.725741362984622E7   \n",
       "3     min  2019-11-01 00:00:00 UTC       cart             100000000   \n",
       "4     max  2019-11-30 23:59:59 UTC       view               9900463   \n",
       "\n",
       "              category_id        category_code     brand               price  \\\n",
       "0                67501979             45603808  58283744            67501979   \n",
       "1  2.05789764431909837E18                 None       NaN  292.45931656461437   \n",
       "2   2.0125490328842856E16                 None       NaN  355.67449958606784   \n",
       "3     2053013552226107603      accessories.bag    a-case                 0.0   \n",
       "4     2187707861038006932  stationery.cartrige     zyxel             2574.07   \n",
       "\n",
       "               user_id                          user_session  \n",
       "0             67501979                              67501969  \n",
       "1  5.386397456296759E8                                  None  \n",
       "2  2.288516105152206E7                                  None  \n",
       "3            100963605  0000007c-adbf-4ed7-af17-d1fef9763d67  \n",
       "4             97129396  fffffde2-4522-4b44-8a32-510c55739ba1  "
      ]
     },
     "execution_count": 10,
     "metadata": {},
     "output_type": "execute_result"
    }
   ],
   "source": [
    "print(f'There are total {commerce_df.count()} row, Let print first 5 data rows:')\n",
    "commerce_df.show(5)\n",
    "\n",
    "print('Low Data describe:')\n",
    "commerce_df.describe().toPandas()"
   ]
  },
  {
   "cell_type": "markdown",
   "id": "bad5b89c",
   "metadata": {},
   "source": [
    "'category_code', 'brand', 'user_session'에서 null값이 존재한다. 또한 'price'에서 min이 0.0인만큼 확인이 필요하다."
   ]
  },
  {
   "cell_type": "markdown",
   "id": "e17cd2ea",
   "metadata": {},
   "source": [
    "# Detect missing values and abnormal zeroes"
   ]
  },
  {
   "cell_type": "code",
   "execution_count": 25,
   "id": "bbf53bec",
   "metadata": {
    "ExecuteTime": {
     "end_time": "2022-09-15T02:25:39.931579Z",
     "start_time": "2022-09-15T02:24:19.764213Z"
    }
   },
   "outputs": [
    {
     "data": {
      "text/html": [
       "<div>\n",
       "<style scoped>\n",
       "    .dataframe tbody tr th:only-of-type {\n",
       "        vertical-align: middle;\n",
       "    }\n",
       "\n",
       "    .dataframe tbody tr th {\n",
       "        vertical-align: top;\n",
       "    }\n",
       "\n",
       "    .dataframe thead th {\n",
       "        text-align: right;\n",
       "    }\n",
       "</style>\n",
       "<table border=\"1\" class=\"dataframe\">\n",
       "  <thead>\n",
       "    <tr style=\"text-align: right;\">\n",
       "      <th></th>\n",
       "      <th>event_time</th>\n",
       "      <th>event_type</th>\n",
       "      <th>product_id</th>\n",
       "      <th>category_id</th>\n",
       "      <th>category_code</th>\n",
       "      <th>brand</th>\n",
       "      <th>price</th>\n",
       "      <th>user_id</th>\n",
       "      <th>user_session</th>\n",
       "    </tr>\n",
       "  </thead>\n",
       "  <tbody>\n",
       "    <tr>\n",
       "      <th>0</th>\n",
       "      <td>0</td>\n",
       "      <td>0</td>\n",
       "      <td>0</td>\n",
       "      <td>0</td>\n",
       "      <td>21898171</td>\n",
       "      <td>9218235</td>\n",
       "      <td>188088</td>\n",
       "      <td>0</td>\n",
       "      <td>10</td>\n",
       "    </tr>\n",
       "  </tbody>\n",
       "</table>\n",
       "</div>"
      ],
      "text/plain": [
       "   event_time  event_type  product_id  category_id  category_code    brand  \\\n",
       "0           0           0           0            0       21898171  9218235   \n",
       "\n",
       "    price  user_id  user_session  \n",
       "0  188088        0            10  "
      ]
     },
     "execution_count": 25,
     "metadata": {},
     "output_type": "execute_result"
    }
   ],
   "source": [
    "# null, price가 0원인 경우도 함께 확인하기\n",
    "\n",
    "string_columns = ['event_time', 'event_type', 'product_id', 'category_id', 'category_code', 'brand', 'user_id', 'user_session']\n",
    "numeric_columns = ['price']\n",
    "missing_values = {}\n",
    "\n",
    "for index, column in enumerate(commerce_df.columns) :\n",
    "    if column in string_columns :\n",
    "        missing_count = commerce_df.filter(col(column).eqNullSafe(None)|col(column).isNull()).count()\n",
    "        missing_values.update({column:missing_count})\n",
    "    if column in numeric_columns :\n",
    "        missing_count = commerce_df.where(col(column).isin([0,None,np.nan])).count()\n",
    "        missing_values.update({column:missing_count})\n",
    "        \n",
    "missing_df = pd.DataFrame.from_dict([missing_values])\n",
    "missing_df"
   ]
  },
  {
   "cell_type": "code",
   "execution_count": 26,
   "id": "528d841f",
   "metadata": {
    "ExecuteTime": {
     "end_time": "2022-09-15T02:26:02.159588Z",
     "start_time": "2022-09-15T02:26:02.140580Z"
    }
   },
   "outputs": [
    {
     "data": {
      "text/plain": [
       "['event_time',\n",
       " 'event_type',\n",
       " 'product_id',\n",
       " 'category_id',\n",
       " 'category_code',\n",
       " 'brand',\n",
       " 'price',\n",
       " 'user_id',\n",
       " 'user_session']"
      ]
     },
     "execution_count": 26,
     "metadata": {},
     "output_type": "execute_result"
    },
    {
     "data": {
      "text/plain": [
       "[[0, 0, 0, 0, 21898171, 9218235, 188088, 0, 10]]"
      ]
     },
     "execution_count": 26,
     "metadata": {},
     "output_type": "execute_result"
    }
   ],
   "source": [
    "missing_df_columns = list(missing_df)\n",
    "missing_df_values = missing_df.values.tolist()\n",
    "\n",
    "missing_df_columns\n",
    "missing_df_values"
   ]
  },
  {
   "cell_type": "code",
   "execution_count": 27,
   "id": "2092bf3f",
   "metadata": {
    "ExecuteTime": {
     "end_time": "2022-09-15T02:28:45.990557Z",
     "start_time": "2022-09-15T02:28:45.972560Z"
    }
   },
   "outputs": [
    {
     "data": {
      "text/html": [
       "\n",
       "<script>\n",
       "    require.config({\n",
       "        paths: {\n",
       "            'echarts':'https://assets.pyecharts.org/assets/echarts.min'\n",
       "        }\n",
       "    });\n",
       "</script>\n",
       "\n",
       "        <div id=\"bc0693e5f5bf47d893a006ec0192db50\" style=\"width:900px; height:500px;\"></div>\n",
       "\n",
       "<script>\n",
       "        require(['echarts'], function(echarts) {\n",
       "                var chart_bc0693e5f5bf47d893a006ec0192db50 = echarts.init(\n",
       "                    document.getElementById('bc0693e5f5bf47d893a006ec0192db50'), 'white', {renderer: 'canvas'});\n",
       "                var option_bc0693e5f5bf47d893a006ec0192db50 = {\n",
       "    \"animation\": true,\n",
       "    \"animationThreshold\": 2000,\n",
       "    \"animationDuration\": 1000,\n",
       "    \"animationEasing\": \"cubicOut\",\n",
       "    \"animationDelay\": 0,\n",
       "    \"animationDurationUpdate\": 300,\n",
       "    \"animationEasingUpdate\": \"cubicOut\",\n",
       "    \"animationDelayUpdate\": 0,\n",
       "    \"color\": [\n",
       "        \"#c23531\",\n",
       "        \"#2f4554\",\n",
       "        \"#61a0a8\",\n",
       "        \"#d48265\",\n",
       "        \"#749f83\",\n",
       "        \"#ca8622\",\n",
       "        \"#bda29a\",\n",
       "        \"#6e7074\",\n",
       "        \"#546570\",\n",
       "        \"#c4ccd3\",\n",
       "        \"#f05b72\",\n",
       "        \"#ef5b9c\",\n",
       "        \"#f47920\",\n",
       "        \"#905a3d\",\n",
       "        \"#fab27b\",\n",
       "        \"#2a5caa\",\n",
       "        \"#444693\",\n",
       "        \"#726930\",\n",
       "        \"#b2d235\",\n",
       "        \"#6d8346\",\n",
       "        \"#ac6767\",\n",
       "        \"#1d953f\",\n",
       "        \"#6950a1\",\n",
       "        \"#918597\"\n",
       "    ],\n",
       "    \"series\": [\n",
       "        {\n",
       "            \"type\": \"bar\",\n",
       "            \"name\": \"null_cnt\",\n",
       "            \"legendHoverLink\": true,\n",
       "            \"data\": [\n",
       "                0,\n",
       "                0,\n",
       "                0,\n",
       "                0,\n",
       "                21898171,\n",
       "                9218235,\n",
       "                188088,\n",
       "                0,\n",
       "                10\n",
       "            ],\n",
       "            \"showBackground\": false,\n",
       "            \"barMinHeight\": 0,\n",
       "            \"barCategoryGap\": \"20%\",\n",
       "            \"barGap\": \"30%\",\n",
       "            \"large\": false,\n",
       "            \"largeThreshold\": 400,\n",
       "            \"seriesLayoutBy\": \"column\",\n",
       "            \"datasetIndex\": 0,\n",
       "            \"clip\": true,\n",
       "            \"zlevel\": 0,\n",
       "            \"z\": 2,\n",
       "            \"label\": {\n",
       "                \"show\": true,\n",
       "                \"position\": \"top\",\n",
       "                \"margin\": 8\n",
       "            }\n",
       "        }\n",
       "    ],\n",
       "    \"legend\": [\n",
       "        {\n",
       "            \"data\": [\n",
       "                \"null_cnt\"\n",
       "            ],\n",
       "            \"selected\": {\n",
       "                \"null_cnt\": true\n",
       "            },\n",
       "            \"show\": true,\n",
       "            \"padding\": 5,\n",
       "            \"itemGap\": 10,\n",
       "            \"itemWidth\": 25,\n",
       "            \"itemHeight\": 14\n",
       "        }\n",
       "    ],\n",
       "    \"tooltip\": {\n",
       "        \"show\": true,\n",
       "        \"trigger\": \"item\",\n",
       "        \"triggerOn\": \"mousemove|click\",\n",
       "        \"axisPointer\": {\n",
       "            \"type\": \"line\"\n",
       "        },\n",
       "        \"showContent\": true,\n",
       "        \"alwaysShowContent\": false,\n",
       "        \"showDelay\": 0,\n",
       "        \"hideDelay\": 100,\n",
       "        \"textStyle\": {\n",
       "            \"fontSize\": 14\n",
       "        },\n",
       "        \"borderWidth\": 0,\n",
       "        \"padding\": 5\n",
       "    },\n",
       "    \"xAxis\": [\n",
       "        {\n",
       "            \"show\": true,\n",
       "            \"scale\": false,\n",
       "            \"nameLocation\": \"end\",\n",
       "            \"nameGap\": 15,\n",
       "            \"gridIndex\": 0,\n",
       "            \"inverse\": false,\n",
       "            \"offset\": 0,\n",
       "            \"splitNumber\": 5,\n",
       "            \"minInterval\": 0,\n",
       "            \"splitLine\": {\n",
       "                \"show\": false,\n",
       "                \"lineStyle\": {\n",
       "                    \"show\": true,\n",
       "                    \"width\": 1,\n",
       "                    \"opacity\": 1,\n",
       "                    \"curveness\": 0,\n",
       "                    \"type\": \"solid\"\n",
       "                }\n",
       "            },\n",
       "            \"data\": [\n",
       "                \"event_time\",\n",
       "                \"event_type\",\n",
       "                \"product_id\",\n",
       "                \"category_id\",\n",
       "                \"category_code\",\n",
       "                \"brand\",\n",
       "                \"price\",\n",
       "                \"user_id\",\n",
       "                \"user_session\"\n",
       "            ]\n",
       "        }\n",
       "    ],\n",
       "    \"yAxis\": [\n",
       "        {\n",
       "            \"show\": true,\n",
       "            \"scale\": false,\n",
       "            \"nameLocation\": \"end\",\n",
       "            \"nameGap\": 15,\n",
       "            \"gridIndex\": 0,\n",
       "            \"inverse\": false,\n",
       "            \"offset\": 0,\n",
       "            \"splitNumber\": 5,\n",
       "            \"minInterval\": 0,\n",
       "            \"splitLine\": {\n",
       "                \"show\": false,\n",
       "                \"lineStyle\": {\n",
       "                    \"show\": true,\n",
       "                    \"width\": 1,\n",
       "                    \"opacity\": 1,\n",
       "                    \"curveness\": 0,\n",
       "                    \"type\": \"solid\"\n",
       "                }\n",
       "            }\n",
       "        }\n",
       "    ],\n",
       "    \"title\": [\n",
       "        {\n",
       "            \"text\": \"Missing Values by Column\",\n",
       "            \"padding\": 5,\n",
       "            \"itemGap\": 10\n",
       "        }\n",
       "    ]\n",
       "};\n",
       "                chart_bc0693e5f5bf47d893a006ec0192db50.setOption(option_bc0693e5f5bf47d893a006ec0192db50);\n",
       "        });\n",
       "    </script>\n"
      ],
      "text/plain": [
       "<pyecharts.render.display.HTML at 0x20b0c4e2ad0>"
      ]
     },
     "execution_count": 27,
     "metadata": {},
     "output_type": "execute_result"
    }
   ],
   "source": [
    "# 시각화\n",
    "\n",
    "bar = (Bar().add_xaxis(['event_time', 'event_type', 'product_id', 'category_id', 'category_code', 'brand', 'price', 'user_id', 'user_session']) \\\n",
    "       .add_yaxis('null_cnt',[0, 0, 0, 0, 21898171, 9218235, 188088, 0, 10]).set_global_opts(title_opts=opts.TitleOpts(title='Missing Values by Column')))\n",
    "\n",
    "bar.render_notebook()"
   ]
  },
  {
   "cell_type": "markdown",
   "id": "1674bdf2",
   "metadata": {},
   "source": [
    "## category_code null"
   ]
  },
  {
   "cell_type": "code",
   "execution_count": 28,
   "id": "99b91b06",
   "metadata": {
    "ExecuteTime": {
     "end_time": "2022-09-15T02:30:23.654560Z",
     "start_time": "2022-09-15T02:30:23.494567Z"
    }
   },
   "outputs": [
    {
     "name": "stdout",
     "output_type": "stream",
     "text": [
      "+--------------------+----------+----------+-------------------+-------------+---------+------+---------+--------------------+\n",
      "|          event_time|event_type|product_id|        category_id|category_code|    brand| price|  user_id|        user_session|\n",
      "+--------------------+----------+----------+-------------------+-------------+---------+------+---------+--------------------+\n",
      "|2019-11-01 00:00:...|      view|  17302664|2053013553853497655|         null|    creed| 28.31|561587266|755422e7-9040-477...|\n",
      "|2019-11-01 00:00:...|      view|  15900065|2053013558190408249|         null|  rondell| 30.86|518574284|5e6ef132-4d7c-473...|\n",
      "|2019-11-01 00:00:...|      view|  12708937|2053013553559896355|         null| michelin| 72.72|532364121|0a899268-31eb-46d...|\n",
      "|2019-11-01 00:00:...|      view|  34600011|2060981320581906480|         null|     null| 20.54|512416379|4dfe2c67-e537-4dc...|\n",
      "|2019-11-01 00:00:...|      view|  24900193|2053013562183385881|         null|     null|  1.09|512651494|f603c815-f51a-46f...|\n",
      "|2019-11-01 00:00:...|      view|  27400066|2053013563391345499|         null|     null|  8.55|551061950|3f6112f1-5695-4e8...|\n",
      "|2019-11-01 00:00:...|      view|   5100503|2053013553375346967|         null|   xiaomi| 22.68|520037415|f54fa96a-f3f2-43a...|\n",
      "|2019-11-01 00:00:...|      view|  12719154|2053013553559896355|         null| yokohama| 88.81|512376444|f7e8ffaa-5103-47f...|\n",
      "|2019-11-01 00:00:...|      view|  26022534|2053013562837697343|         null|     null|  7.07|566280860|341a87d8-8cf4-4b4...|\n",
      "|2019-11-01 00:00:...|      view|  17300016|2053013553853497655|         null|trussardi| 55.33|563769246|95ab5d5d-be19-411...|\n",
      "|2019-11-01 00:00:...|      view|  26019863|2053013562837697343|         null|     null| 11.79|566280860|341a87d8-8cf4-4b4...|\n",
      "|2019-11-01 00:00:...|      view|  17501048|2053013558752445019|         null|  eveline|  7.59|515849878|31e80b9c-e5b3-437...|\n",
      "|2019-11-01 00:00:...|      view|  41100055|2090228413959766319|         null|     null| 38.07|562234311|4cbd502f-b1df-4bc...|\n",
      "|2019-11-01 00:00:...|      view|  30100041|2053013556110033341|         null|     null|  23.4|532704496|cf2c87cc-a4ea-4c9...|\n",
      "|2019-11-01 00:00:...|      view|  22700205|2053013556168753601|         null|   matrix| 23.14|564599988|d67efe84-f47e-44d...|\n",
      "|2019-11-01 00:00:...|      view|  10800182|2053013554994348409|         null|  redmond|  61.1|527322328|5054190a-46cb-421...|\n",
      "|2019-11-01 00:00:...|      view|  52000058|2137704922018218396|         null|  tomfarr|127.42|517702267|42599d98-752a-4fd...|\n",
      "|2019-11-01 00:00:...|      view|  15200565|2053013553484398879|         null|    hyper| 54.06|518758107|f617be3c-8447-4aa...|\n",
      "|2019-11-01 00:00:...|      view|  27800054|2079713978300236035|         null|     null|119.69|565131688|95c9377b-f56e-477...|\n",
      "|2019-11-01 00:00:...|      view|   2201037|2053013560555995845|         null|    canon|437.29|517811633|97dc1638-90ea-450...|\n",
      "+--------------------+----------+----------+-------------------+-------------+---------+------+---------+--------------------+\n",
      "only showing top 20 rows\n",
      "\n"
     ]
    }
   ],
   "source": [
    "commerce_df.filter(col('category_code').isNull()).show()"
   ]
  },
  {
   "cell_type": "code",
   "execution_count": 29,
   "id": "7882f23f",
   "metadata": {
    "ExecuteTime": {
     "end_time": "2022-09-15T02:32:07.953486Z",
     "start_time": "2022-09-15T02:32:07.704491Z"
    }
   },
   "outputs": [
    {
     "name": "stdout",
     "output_type": "stream",
     "text": [
      "+--------------------+----------+----------+-------------------+-------------+---------+------+---------+--------------------+\n",
      "|          event_time|event_type|product_id|        category_id|category_code|    brand| price|  user_id|        user_session|\n",
      "+--------------------+----------+----------+-------------------+-------------+---------+------+---------+--------------------+\n",
      "|2019-11-01 00:00:...|      view|  17302664|2053013553853497655|         null|    creed| 28.31|561587266|755422e7-9040-477...|\n",
      "|2019-11-01 00:00:...|      view|  15900065|2053013558190408249|         null|  rondell| 30.86|518574284|5e6ef132-4d7c-473...|\n",
      "|2019-11-01 00:00:...|      view|  12708937|2053013553559896355|         null| michelin| 72.72|532364121|0a899268-31eb-46d...|\n",
      "|2019-11-01 00:00:...|      view|  34600011|2060981320581906480|         null|     null| 20.54|512416379|4dfe2c67-e537-4dc...|\n",
      "|2019-11-01 00:00:...|      view|  24900193|2053013562183385881|         null|     null|  1.09|512651494|f603c815-f51a-46f...|\n",
      "|2019-11-01 00:00:...|      view|  27400066|2053013563391345499|         null|     null|  8.55|551061950|3f6112f1-5695-4e8...|\n",
      "|2019-11-01 00:00:...|      view|   5100503|2053013553375346967|         null|   xiaomi| 22.68|520037415|f54fa96a-f3f2-43a...|\n",
      "|2019-11-01 00:00:...|      view|  12719154|2053013553559896355|         null| yokohama| 88.81|512376444|f7e8ffaa-5103-47f...|\n",
      "|2019-11-01 00:00:...|      view|  26022534|2053013562837697343|         null|     null|  7.07|566280860|341a87d8-8cf4-4b4...|\n",
      "|2019-11-01 00:00:...|      view|  17300016|2053013553853497655|         null|trussardi| 55.33|563769246|95ab5d5d-be19-411...|\n",
      "|2019-11-01 00:00:...|      view|  26019863|2053013562837697343|         null|     null| 11.79|566280860|341a87d8-8cf4-4b4...|\n",
      "|2019-11-01 00:00:...|      view|  17501048|2053013558752445019|         null|  eveline|  7.59|515849878|31e80b9c-e5b3-437...|\n",
      "|2019-11-01 00:00:...|      view|  41100055|2090228413959766319|         null|     null| 38.07|562234311|4cbd502f-b1df-4bc...|\n",
      "|2019-11-01 00:00:...|      view|  30100041|2053013556110033341|         null|     null|  23.4|532704496|cf2c87cc-a4ea-4c9...|\n",
      "|2019-11-01 00:00:...|      view|  22700205|2053013556168753601|         null|   matrix| 23.14|564599988|d67efe84-f47e-44d...|\n",
      "|2019-11-01 00:00:...|      view|  10800182|2053013554994348409|         null|  redmond|  61.1|527322328|5054190a-46cb-421...|\n",
      "|2019-11-01 00:00:...|      view|  52000058|2137704922018218396|         null|  tomfarr|127.42|517702267|42599d98-752a-4fd...|\n",
      "|2019-11-01 00:00:...|      view|  15200565|2053013553484398879|         null|    hyper| 54.06|518758107|f617be3c-8447-4aa...|\n",
      "|2019-11-01 00:00:...|      view|  27800054|2079713978300236035|         null|     null|119.69|565131688|95c9377b-f56e-477...|\n",
      "|2019-11-01 00:00:...|      view|   2201037|2053013560555995845|         null|    canon|437.29|517811633|97dc1638-90ea-450...|\n",
      "+--------------------+----------+----------+-------------------+-------------+---------+------+---------+--------------------+\n",
      "only showing top 20 rows\n",
      "\n"
     ]
    }
   ],
   "source": [
    "commerce_df_fill_code = commerce_df.fillna('null')\n",
    "commerce_df_fill_code.filter(col('category_code') == 'null').show()"
   ]
  },
  {
   "cell_type": "code",
   "execution_count": 31,
   "id": "9f6a1ddf",
   "metadata": {
    "ExecuteTime": {
     "end_time": "2022-09-15T02:33:53.278193Z",
     "start_time": "2022-09-15T02:33:20.795191Z"
    }
   },
   "outputs": [
    {
     "name": "stdout",
     "output_type": "stream",
     "text": [
      "+-----------+--------+\n",
      "|category_id|cnt_code|\n",
      "+-----------+--------+\n",
      "+-----------+--------+\n",
      "\n"
     ]
    }
   ],
   "source": [
    "commerce_df_fill_code.groupBy(col('category_id')).agg(countDistinct(col('category_code')).alias('cnt_code')).filter(col('cnt_code')>=2).show()"
   ]
  },
  {
   "cell_type": "code",
   "execution_count": 34,
   "id": "42f64dc6",
   "metadata": {
    "ExecuteTime": {
     "end_time": "2022-09-15T02:36:10.137475Z",
     "start_time": "2022-09-15T02:36:10.128483Z"
    }
   },
   "outputs": [],
   "source": [
    "commerce_df = commerce_df_fill_code"
   ]
  },
  {
   "cell_type": "markdown",
   "id": "d160d586",
   "metadata": {},
   "source": [
    "## brand null"
   ]
  },
  {
   "cell_type": "code",
   "execution_count": 37,
   "id": "05a36bb0",
   "metadata": {
    "ExecuteTime": {
     "end_time": "2022-09-15T02:37:54.026029Z",
     "start_time": "2022-09-15T02:37:53.886032Z"
    }
   },
   "outputs": [
    {
     "name": "stdout",
     "output_type": "stream",
     "text": [
      "+--------------------+----------+----------+-------------------+--------------------+-----+------+---------+--------------------+\n",
      "|          event_time|event_type|product_id|        category_id|       category_code|brand| price|  user_id|        user_session|\n",
      "+--------------------+----------+----------+-------------------+--------------------+-----+------+---------+--------------------+\n",
      "|2019-11-01 00:00:...|      view|  17200570|2053013559792632471|furniture.living_...| null|437.33|518780843|aa806835-b14c-45a...|\n",
      "|2019-11-01 00:00:...|      view|   2701517|2053013563911439225|appliances.kitche...| null|155.11|518427361|c89b0d96-247f-404...|\n",
      "|2019-11-01 00:00:...|      view|  16700260|2053013559901684381|furniture.kitchen...| null| 31.64|566255262|173d7b72-1db7-463...|\n",
      "|2019-11-01 00:00:...|      view|  34600011|2060981320581906480|                null| null| 20.54|512416379|4dfe2c67-e537-4dc...|\n",
      "|2019-11-01 00:00:...|      view|  24900193|2053013562183385881|                null| null|  1.09|512651494|f603c815-f51a-46f...|\n",
      "|2019-11-01 00:00:...|      view|  27400066|2053013563391345499|                null| null|  8.55|551061950|3f6112f1-5695-4e8...|\n",
      "|2019-11-01 00:00:...|      view|  26022534|2053013562837697343|                null| null|  7.07|566280860|341a87d8-8cf4-4b4...|\n",
      "|2019-11-01 00:00:...|      view|  17200558|2053013559792632471|furniture.living_...| null|591.78|566280536|34e7a822-0b93-4a9...|\n",
      "|2019-11-01 00:00:...|      view|  26019863|2053013562837697343|                null| null| 11.79|566280860|341a87d8-8cf4-4b4...|\n",
      "|2019-11-01 00:00:...|      view|  41100055|2090228413959766319|                null| null| 38.07|562234311|4cbd502f-b1df-4bc...|\n",
      "|2019-11-01 00:00:...|      view|  30100041|2053013556110033341|                null| null|  23.4|532704496|cf2c87cc-a4ea-4c9...|\n",
      "|2019-11-01 00:00:...|      view|  27800054|2079713978300236035|                null| null|119.69|565131688|95c9377b-f56e-477...|\n",
      "|2019-11-01 00:00:...|      view|   2300214|2053013560530830019|electronics.camer...| null|386.08|537931532|22c57267-da98-4f2...|\n",
      "|2019-11-01 00:00:...|      view|  44300043|2100825583029060150|       apparel.jeans| null| 40.16|545220871|f278cca0-e0f6-49a...|\n",
      "|2019-11-01 00:00:...|      view|  10701060|2053013561277416167|                null| null|  66.9|512996121|23375068-25db-44f...|\n",
      "|2019-11-01 00:00:...|      view|  27400066|2053013563391345499|                null| null|  8.55|551061950|3f6112f1-5695-4e8...|\n",
      "|2019-11-01 00:00:...|      view|  17800132|2053013559868129947|   computers.desktop| null| 51.46|529388957|f6835635-57e4-45f...|\n",
      "|2019-11-01 00:00:...|      view|  38900011|2085718636156158307|                null| null| 40.93|515764001|57d79510-85e9-4dc...|\n",
      "|2019-11-01 00:00:...|      view|  44300009|2100825583029060150|       apparel.jeans| null| 50.45|545220871|f278cca0-e0f6-49a...|\n",
      "|2019-11-01 00:00:...|      view|   2701419|2053013563911439225|appliances.kitche...| null|166.23|559215873|26ca9bd8-21bd-47b...|\n",
      "+--------------------+----------+----------+-------------------+--------------------+-----+------+---------+--------------------+\n",
      "only showing top 20 rows\n",
      "\n"
     ]
    }
   ],
   "source": [
    "commerce_df.filter(col('brand') == 'null').show()"
   ]
  },
  {
   "cell_type": "markdown",
   "id": "3d7327c3",
   "metadata": {},
   "source": [
    "## price 0"
   ]
  },
  {
   "cell_type": "code",
   "execution_count": 38,
   "id": "23c8b6e1",
   "metadata": {
    "ExecuteTime": {
     "end_time": "2022-09-15T02:39:06.822889Z",
     "start_time": "2022-09-15T02:39:06.625886Z"
    }
   },
   "outputs": [
    {
     "name": "stdout",
     "output_type": "stream",
     "text": [
      "+--------------------+----------+----------+-------------------+--------------------+-----+-----+---------+--------------------+\n",
      "|          event_time|event_type|product_id|        category_id|       category_code|brand|price|  user_id|        user_session|\n",
      "+--------------------+----------+----------+-------------------+--------------------+-----+-----+---------+--------------------+\n",
      "|2019-11-01 00:38:...|      view|  33100000|2058719826188173878|                null| null|  0.0|546996930|969ea68f-a919-4d3...|\n",
      "|2019-11-01 00:42:...|      view|  33100000|2058719826188173878|                null| null|  0.0|546996930|b1ab3863-bbf5-437...|\n",
      "|2019-11-01 01:07:...|      view|  12720812|2053013553559896355|                null| null|  0.0|516269492|9bf68f2a-fd78-4b1...|\n",
      "|2019-11-01 01:07:...|      view|  12720812|2053013553559896355|                null| null|  0.0|516269492|9bf68f2a-fd78-4b1...|\n",
      "|2019-11-01 01:26:...|      view|  38900075|2085718636156158307|                null| null|  0.0|539587206|4d91487b-2b8d-41e...|\n",
      "|2019-11-01 01:40:...|      view|  13902536|2053013557343158789|construction.comp...| null|  0.0|514119888|793320f2-aab3-469...|\n",
      "|2019-11-01 01:43:...|      view|   2702683|2053013563911439225|appliances.kitche...| null|  0.0|552636285|ed87f60a-412c-4d2...|\n",
      "|2019-11-01 01:46:...|      view|   1307551|2053013558920217191|  computers.notebook| null|  0.0|518736272|bc56ca44-6875-4b5...|\n",
      "|2019-11-01 01:48:...|      view|   4300485|2053013552385491165|                null| null|  0.0|530173538|600b6494-b8b3-455...|\n",
      "|2019-11-01 01:48:...|      view|   4300485|2053013552385491165|                null| null|  0.0|530173538|600b6494-b8b3-455...|\n",
      "|2019-11-01 01:50:...|      view|   1307554|2053013558920217191|  computers.notebook| null|  0.0|542471879|2a566bb8-a449-4fe...|\n",
      "|2019-11-01 01:59:...|      view|  21000174|2053013561420022511|     accessories.bag| null|  0.0|548452938|4151a619-65fb-4bb...|\n",
      "|2019-11-01 02:07:...|      view|  44700056|2104564977229628393|                null| null|  0.0|564572914|14077407-3fda-401...|\n",
      "|2019-11-01 02:13:...|      view|  49600010|2134905045538308115|                null| null|  0.0|564988160|65938930-176a-423...|\n",
      "|2019-11-01 02:14:...|      view|  49600006|2134905045538308115|                null| null|  0.0|564988160|65938930-176a-423...|\n",
      "|2019-11-01 02:16:...|      view|  13100082|2053013553526341921|                null| null|  0.0|522260090|93d6287c-70ea-422...|\n",
      "|2019-11-01 02:17:...|      view|  33100000|2058719826188173878|                null| null|  0.0|553127751|0b1cf0bc-51d3-180...|\n",
      "|2019-11-01 02:19:...|      view|  33100000|2058719826188173878|                null| null|  0.0|553127751|0b1cf0bc-51d3-180...|\n",
      "|2019-11-01 02:19:...|      view|  33100001|2180736567012753620|                null| null|  0.0|553127751|0b1cf0bc-51d3-180...|\n",
      "|2019-11-01 02:19:...|      view|  33100000|2058719826188173878|                null| null|  0.0|546273062|e200d925-6aa9-4e5...|\n",
      "+--------------------+----------+----------+-------------------+--------------------+-----+-----+---------+--------------------+\n",
      "only showing top 20 rows\n",
      "\n"
     ]
    }
   ],
   "source": [
    "commerce_df.filter(col('price') == 0).show()"
   ]
  },
  {
   "cell_type": "markdown",
   "id": "6e2ac8e9",
   "metadata": {},
   "source": [
    "- 같은 product_id를 가지고 있음에도 price가 존재하는 경우, 존재하지 않는 경우가 있다.\n",
    "- 같은 product_id, category_code를 가진 경우에 price가 다른 경우도 있다. 할인, 이벤트 등을 고려하여 날짜와 함께 보는 것이 좋겠다.\n",
    "\n",
    "이 경우에 대해서는 'product_id', 'category_id'가 동일한 행이 존재하는지 확인해서 price를 채워주거나 만약 시기별로 할인율 등이 반영되어 가격이 다르다면 어떻게 처리할지 확인해봐야 한다."
   ]
  },
  {
   "cell_type": "code",
   "execution_count": 39,
   "id": "ba5dc882",
   "metadata": {
    "ExecuteTime": {
     "end_time": "2022-09-15T02:41:26.414839Z",
     "start_time": "2022-09-15T02:40:21.992280Z"
    }
   },
   "outputs": [
    {
     "name": "stdout",
     "output_type": "stream",
     "text": [
      "+----------+---------+\n",
      "|product_id|cnt_price|\n",
      "+----------+---------+\n",
      "|   3200376|        7|\n",
      "|   4200507|        3|\n",
      "|  12708642|        5|\n",
      "|   1005171|       80|\n",
      "|  21405316|        2|\n",
      "|  12500482|        2|\n",
      "|   1004042|       15|\n",
      "|  12711438|        3|\n",
      "|  12300845|        4|\n",
      "|   5301409|       15|\n",
      "|  12701113|        2|\n",
      "|  15200136|       16|\n",
      "|   7002066|       46|\n",
      "|  10201260|        4|\n",
      "|   1004266|       13|\n",
      "|  19200229|       11|\n",
      "| 100001427|        2|\n",
      "|   2402648|        2|\n",
      "| 100027780|        2|\n",
      "|  11700020|        2|\n",
      "+----------+---------+\n",
      "only showing top 20 rows\n",
      "\n"
     ]
    }
   ],
   "source": [
    "commerce_df.groupBy(col('product_id')).agg(countDistinct(col('price')).alias('cnt_price')).filter(col('cnt_price')>=2).show()"
   ]
  },
  {
   "cell_type": "markdown",
   "id": "dd802a64",
   "metadata": {},
   "source": [
    "한 개의 'product_id'에 여러개의 가격이 존재한다."
   ]
  },
  {
   "cell_type": "markdown",
   "id": "88f856bf",
   "metadata": {},
   "source": [
    "## user_session null"
   ]
  },
  {
   "cell_type": "code",
   "execution_count": 41,
   "id": "fe69a4f3",
   "metadata": {
    "ExecuteTime": {
     "end_time": "2022-09-15T02:43:28.405511Z",
     "start_time": "2022-09-15T02:43:08.912255Z"
    }
   },
   "outputs": [
    {
     "name": "stdout",
     "output_type": "stream",
     "text": [
      "+--------------------+----------+----------+-------------------+--------------------+-------+-------+---------+------------+\n",
      "|          event_time|event_type|product_id|        category_id|       category_code|  brand|  price|  user_id|user_session|\n",
      "+--------------------+----------+----------+-------------------+--------------------+-------+-------+---------+------------+\n",
      "|2019-11-09 15:32:...|      cart|  19700004|2053013559104766575|                null|kabrita|  37.77|539704497|        null|\n",
      "|2019-11-09 17:15:...|      cart|   1005083|2053013555631882655|electronics.smart...|  honor| 566.27|568843390|        null|\n",
      "|2019-11-13 04:02:...|      cart|   4804008|2053013554658804075|electronics.audio...|bluedio|  97.81|570411102|        null|\n",
      "|2019-11-13 07:18:...|      cart|   1004767|2053013555631882655|electronics.smart...|samsung| 243.51|570878749|        null|\n",
      "|2019-11-23 12:53:...|      cart|   7600528|2053013552821698803|                null|tp-link|  16.73|575357602|        null|\n",
      "|2019-11-25 05:04:...|      cart|   1802104|2053013554415534427|electronics.video.tv|    arg| 360.09|573722572|        null|\n",
      "|2019-11-25 07:03:...|      cart|  21403753|2053013561579406073|  electronics.clocks|   null| 181.47|576301354|        null|\n",
      "|2019-11-26 07:48:...|      cart|   4804718|2053013554658804075|electronics.audio...|  apple| 334.58|576935861|        null|\n",
      "|2019-11-27 07:02:...|      cart|  12719553|2053013553559896355|                null|   null|   55.6|577167045|        null|\n",
      "|2019-11-29 17:25:...|      cart|   1005116|2053013555631882655|electronics.smart...|  apple|1001.42|579123407|        null|\n",
      "+--------------------+----------+----------+-------------------+--------------------+-------+-------+---------+------------+\n",
      "\n"
     ]
    }
   ],
   "source": [
    "commerce_df.filter(col('user_session') == 'null').show()"
   ]
  },
  {
   "cell_type": "markdown",
   "id": "3f62663d",
   "metadata": {},
   "source": [
    "# Funnel"
   ]
  },
  {
   "cell_type": "markdown",
   "id": "64392654",
   "metadata": {},
   "source": [
    "구매까지의 funnel ( view -> cart -> purchase )"
   ]
  },
  {
   "cell_type": "code",
   "execution_count": 56,
   "id": "edaccff1",
   "metadata": {
    "ExecuteTime": {
     "end_time": "2022-09-15T03:02:14.150709Z",
     "start_time": "2022-09-15T03:02:14.000712Z"
    }
   },
   "outputs": [
    {
     "data": {
      "text/html": [
       "<div>\n",
       "<style scoped>\n",
       "    .dataframe tbody tr th:only-of-type {\n",
       "        vertical-align: middle;\n",
       "    }\n",
       "\n",
       "    .dataframe tbody tr th {\n",
       "        vertical-align: top;\n",
       "    }\n",
       "\n",
       "    .dataframe thead th {\n",
       "        text-align: right;\n",
       "    }\n",
       "</style>\n",
       "<table border=\"1\" class=\"dataframe\">\n",
       "  <thead>\n",
       "    <tr style=\"text-align: right;\">\n",
       "      <th></th>\n",
       "      <th>event_type</th>\n",
       "      <th>count</th>\n",
       "    </tr>\n",
       "  </thead>\n",
       "  <tbody>\n",
       "    <tr>\n",
       "      <th>0</th>\n",
       "      <td>view</td>\n",
       "      <td>63556110</td>\n",
       "    </tr>\n",
       "    <tr>\n",
       "      <th>1</th>\n",
       "      <td>cart</td>\n",
       "      <td>3028930</td>\n",
       "    </tr>\n",
       "    <tr>\n",
       "      <th>2</th>\n",
       "      <td>purchase</td>\n",
       "      <td>916939</td>\n",
       "    </tr>\n",
       "  </tbody>\n",
       "</table>\n",
       "</div>"
      ],
      "text/plain": [
       "  event_type     count\n",
       "0       view  63556110\n",
       "1       cart   3028930\n",
       "2   purchase    916939"
      ]
     },
     "execution_count": 56,
     "metadata": {},
     "output_type": "execute_result"
    }
   ],
   "source": [
    "checked_event_type_cnt_all = commerce_df.groupBy(col('event_type')).count().sort(desc('count'))\n",
    "    \n",
    "checked_event_type_cnt_all_df = checked_event_type.toPandas()\n",
    "checked_event_type_cnt_all_df"
   ]
  },
  {
   "cell_type": "code",
   "execution_count": 57,
   "id": "a48ec0ce",
   "metadata": {
    "ExecuteTime": {
     "end_time": "2022-09-15T03:02:15.071331Z",
     "start_time": "2022-09-15T03:02:15.061337Z"
    }
   },
   "outputs": [
    {
     "data": {
      "text/plain": [
       "[['view', 63556110], ['cart', 3028930], ['purchase', 916939]]"
      ]
     },
     "execution_count": 57,
     "metadata": {},
     "output_type": "execute_result"
    }
   ],
   "source": [
    "event_type_funnel_cnt_all = checked_event_type_df.values.tolist()\n",
    "event_type_funnel_cnt_all"
   ]
  },
  {
   "cell_type": "code",
   "execution_count": 58,
   "id": "7b15b014",
   "metadata": {
    "ExecuteTime": {
     "end_time": "2022-09-15T03:02:16.193794Z",
     "start_time": "2022-09-15T03:02:16.172772Z"
    }
   },
   "outputs": [
    {
     "data": {
      "text/html": [
       "\n",
       "<script>\n",
       "    require.config({\n",
       "        paths: {\n",
       "            'echarts':'https://assets.pyecharts.org/assets/echarts.min'\n",
       "        }\n",
       "    });\n",
       "</script>\n",
       "\n",
       "        <div id=\"15cf928ee50c4f228351a15d1557d69b\" style=\"width:900px; height:500px;\"></div>\n",
       "\n",
       "<script>\n",
       "        require(['echarts'], function(echarts) {\n",
       "                var chart_15cf928ee50c4f228351a15d1557d69b = echarts.init(\n",
       "                    document.getElementById('15cf928ee50c4f228351a15d1557d69b'), 'white', {renderer: 'canvas'});\n",
       "                var option_15cf928ee50c4f228351a15d1557d69b = {\n",
       "    \"animation\": true,\n",
       "    \"animationThreshold\": 2000,\n",
       "    \"animationDuration\": 1000,\n",
       "    \"animationEasing\": \"cubicOut\",\n",
       "    \"animationDelay\": 0,\n",
       "    \"animationDurationUpdate\": 300,\n",
       "    \"animationEasingUpdate\": \"cubicOut\",\n",
       "    \"animationDelayUpdate\": 0,\n",
       "    \"color\": [\n",
       "        \"#c23531\",\n",
       "        \"#2f4554\",\n",
       "        \"#61a0a8\",\n",
       "        \"#d48265\",\n",
       "        \"#749f83\",\n",
       "        \"#ca8622\",\n",
       "        \"#bda29a\",\n",
       "        \"#6e7074\",\n",
       "        \"#546570\",\n",
       "        \"#c4ccd3\",\n",
       "        \"#f05b72\",\n",
       "        \"#ef5b9c\",\n",
       "        \"#f47920\",\n",
       "        \"#905a3d\",\n",
       "        \"#fab27b\",\n",
       "        \"#2a5caa\",\n",
       "        \"#444693\",\n",
       "        \"#726930\",\n",
       "        \"#b2d235\",\n",
       "        \"#6d8346\",\n",
       "        \"#ac6767\",\n",
       "        \"#1d953f\",\n",
       "        \"#6950a1\",\n",
       "        \"#918597\"\n",
       "    ],\n",
       "    \"series\": [\n",
       "        {\n",
       "            \"type\": \"funnel\",\n",
       "            \"name\": \"count all\",\n",
       "            \"data\": [\n",
       "                {\n",
       "                    \"name\": \"view\",\n",
       "                    \"value\": 63556110\n",
       "                },\n",
       "                {\n",
       "                    \"name\": \"cart\",\n",
       "                    \"value\": 3028930\n",
       "                },\n",
       "                {\n",
       "                    \"name\": \"purchase\",\n",
       "                    \"value\": 916939\n",
       "                }\n",
       "            ],\n",
       "            \"sort\": \"descending\",\n",
       "            \"gap\": 0,\n",
       "            \"label\": {\n",
       "                \"show\": true,\n",
       "                \"position\": \"top\",\n",
       "                \"margin\": 8\n",
       "            }\n",
       "        }\n",
       "    ],\n",
       "    \"legend\": [\n",
       "        {\n",
       "            \"data\": [\n",
       "                \"cart\",\n",
       "                \"purchase\",\n",
       "                \"view\"\n",
       "            ],\n",
       "            \"selected\": {\n",
       "                \"view\": true,\n",
       "                \"cart\": true,\n",
       "                \"purchase\": true\n",
       "            },\n",
       "            \"show\": true,\n",
       "            \"padding\": 5,\n",
       "            \"itemGap\": 10,\n",
       "            \"itemWidth\": 25,\n",
       "            \"itemHeight\": 14\n",
       "        }\n",
       "    ],\n",
       "    \"tooltip\": {\n",
       "        \"show\": true,\n",
       "        \"trigger\": \"item\",\n",
       "        \"triggerOn\": \"mousemove|click\",\n",
       "        \"axisPointer\": {\n",
       "            \"type\": \"line\"\n",
       "        },\n",
       "        \"showContent\": true,\n",
       "        \"alwaysShowContent\": false,\n",
       "        \"showDelay\": 0,\n",
       "        \"hideDelay\": 100,\n",
       "        \"textStyle\": {\n",
       "            \"fontSize\": 14\n",
       "        },\n",
       "        \"borderWidth\": 0,\n",
       "        \"padding\": 5\n",
       "    },\n",
       "    \"title\": [\n",
       "        {\n",
       "            \"text\": \"Purchase Funnel (all count)\",\n",
       "            \"padding\": 5,\n",
       "            \"itemGap\": 10\n",
       "        }\n",
       "    ]\n",
       "};\n",
       "                chart_15cf928ee50c4f228351a15d1557d69b.setOption(option_15cf928ee50c4f228351a15d1557d69b);\n",
       "        });\n",
       "    </script>\n"
      ],
      "text/plain": [
       "<pyecharts.render.display.HTML at 0x20b0d6a51e0>"
      ]
     },
     "execution_count": 58,
     "metadata": {},
     "output_type": "execute_result"
    }
   ],
   "source": [
    "funnel = (Funnel().add('count all', event_type_funnel_cnt_all).set_global_opts(title_opts=opts.TitleOpts(title=\"Purchase Funnel (all count)\")))\n",
    "\n",
    "funnel.render_notebook()"
   ]
  },
  {
   "cell_type": "markdown",
   "id": "54275f95",
   "metadata": {},
   "source": [
    "1. 품목별 - 품목별로 퍼널이 어떻게 되는지 \n",
    "- category_id별 카운트가 많은 순.\n",
    "- 품목별로 전환율이 가장 좋은 퍼널은 무엇인지. -> 가장 잘팔리는 물건\n",
    "\n",
    "2. price별 \n",
    "- price를 구간대로 나눠서 퍼널이 어떻게 되는지\n",
    "\n",
    "3. 요일별\n",
    "- 요일별로 퍼널이 어떻게 되는지\n",
    "\n",
    "4. 세선별\n",
    "- 세선별로 그 안에서 퍼널이 얼만큼 이루어지는지\n",
    "\n"
   ]
  },
  {
   "cell_type": "markdown",
   "id": "c80e8184",
   "metadata": {},
   "source": [
    "## 품목별 Funnel"
   ]
  },
  {
   "cell_type": "code",
   "execution_count": 64,
   "id": "ab72764c",
   "metadata": {
    "ExecuteTime": {
     "end_time": "2022-09-15T03:30:49.427712Z",
     "start_time": "2022-09-15T03:30:03.591405Z"
    }
   },
   "outputs": [
    {
     "name": "stdout",
     "output_type": "stream",
     "text": [
      "+-------------------+----+--------+------+\n",
      "|        category_id|cart|purchase|  view|\n",
      "+-------------------+----+--------+------+\n",
      "|2085718636156158307|2076|     577|143711|\n",
      "|2134905045328592909|  86|      17|  3406|\n",
      "|2053013556252639687|3592|     879| 92865|\n",
      "|2137134549706998477|   3|       1|   714|\n",
      "|2053013561696846593| 171|      44|  9227|\n",
      "|2152167773222993940|2187|     830|106512|\n",
      "|2053013555413778833| 766|     299| 24363|\n",
      "|2151564008329576933|  23|       7|  2105|\n",
      "|2053013562250494749| 434|      53| 31228|\n",
      "|2053013552888807671|4321|    1129| 92383|\n",
      "|2164478103445832281|   2|    null|   435|\n",
      "|2075962341790319330|  77|      11|  3298|\n",
      "|2079713983761220055| 331|      75| 14296|\n",
      "|2070004998778912979|  22|       4|  1622|\n",
      "|2141229835995840847| 242|      80|  9697|\n",
      "|2100064858975240628| 515|     175| 13939|\n",
      "|2053013552603594983| 340|      80| 13554|\n",
      "|2146430800906682785| 127|      10|  3834|\n",
      "|2053013566587404305| 172|      33| 11049|\n",
      "|2053013564968403895| 451|     122| 30807|\n",
      "+-------------------+----+--------+------+\n",
      "only showing top 20 rows\n",
      "\n"
     ]
    }
   ],
   "source": [
    "checked_event_type_by_category_pivot = commerce_df.groupBy('category_id').pivot('event_type').count()\n",
    "checked_event_type_by_category_pivot.show()"
   ]
  },
  {
   "cell_type": "code",
   "execution_count": 67,
   "id": "adeb7454",
   "metadata": {
    "ExecuteTime": {
     "end_time": "2022-09-15T04:02:08.653558Z",
     "start_time": "2022-09-15T04:01:32.724596Z"
    }
   },
   "outputs": [
    {
     "name": "stdout",
     "output_type": "stream",
     "text": [
      "+-------------------+------+----+--------+\n",
      "|        category_id|  view|cart|purchase|\n",
      "+-------------------+------+----+--------+\n",
      "|2085718636156158307|143711|2076|     577|\n",
      "|2134905045328592909|  3406|  86|      17|\n",
      "|2053013556252639687| 92865|3592|     879|\n",
      "|2137134549706998477|   714|   3|       1|\n",
      "|2053013561696846593|  9227| 171|      44|\n",
      "|2152167773222993940|106512|2187|     830|\n",
      "|2053013555413778833| 24363| 766|     299|\n",
      "|2151564008329576933|  2105|  23|       7|\n",
      "|2053013562250494749| 31228| 434|      53|\n",
      "|2053013552888807671| 92383|4321|    1129|\n",
      "|2164478103445832281|   435|   2|    null|\n",
      "|2075962341790319330|  3298|  77|      11|\n",
      "|2079713983761220055| 14296| 331|      75|\n",
      "|2070004998778912979|  1622|  22|       4|\n",
      "|2141229835995840847|  9697| 242|      80|\n",
      "|2100064858975240628| 13939| 515|     175|\n",
      "|2053013552603594983| 13554| 340|      80|\n",
      "|2146430800906682785|  3834| 127|      10|\n",
      "|2053013566587404305| 11049| 172|      33|\n",
      "|2053013564968403895| 30807| 451|     122|\n",
      "+-------------------+------+----+--------+\n",
      "only showing top 20 rows\n",
      "\n"
     ]
    }
   ],
   "source": [
    "checked_event_type_by_category = checked_event_type_by_category_pivot.select('category_id', 'view', 'cart', 'purchase')\n",
    "\n",
    "checked_event_type_by_category.show()"
   ]
  },
  {
   "cell_type": "markdown",
   "id": "37efd28d",
   "metadata": {},
   "source": [
    "### 전환율"
   ]
  },
  {
   "cell_type": "code",
   "execution_count": 72,
   "id": "ccbfdc30",
   "metadata": {
    "ExecuteTime": {
     "end_time": "2022-09-15T04:10:59.124634Z",
     "start_time": "2022-09-15T04:10:26.982635Z"
    }
   },
   "outputs": [
    {
     "name": "stdout",
     "output_type": "stream",
     "text": [
      "+-------------------+------+----+--------+--------------+------------------+\n",
      "|        category_id|  view|cart|purchase|view_cart_rate|cart_purchase_rate|\n",
      "+-------------------+------+----+--------+--------------+------------------+\n",
      "|2085718636156158307|143711|2076|     577|         0.014|             0.278|\n",
      "|2134905045328592909|  3406|  86|      17|         0.025|             0.198|\n",
      "|2053013556252639687| 92865|3592|     879|         0.039|             0.245|\n",
      "|2137134549706998477|   714|   3|       1|         0.004|             0.333|\n",
      "|2053013561696846593|  9227| 171|      44|         0.019|             0.257|\n",
      "|2152167773222993940|106512|2187|     830|         0.021|              0.38|\n",
      "|2053013555413778833| 24363| 766|     299|         0.031|              0.39|\n",
      "|2151564008329576933|  2105|  23|       7|         0.011|             0.304|\n",
      "|2053013562250494749| 31228| 434|      53|         0.014|             0.122|\n",
      "|2053013552888807671| 92383|4321|    1129|         0.047|             0.261|\n",
      "|2164478103445832281|   435|   2|    null|         0.005|              null|\n",
      "|2075962341790319330|  3298|  77|      11|         0.023|             0.143|\n",
      "|2079713983761220055| 14296| 331|      75|         0.023|             0.227|\n",
      "|2070004998778912979|  1622|  22|       4|         0.014|             0.182|\n",
      "|2141229835995840847|  9697| 242|      80|         0.025|             0.331|\n",
      "|2100064858975240628| 13939| 515|     175|         0.037|              0.34|\n",
      "|2053013552603594983| 13554| 340|      80|         0.025|             0.235|\n",
      "|2146430800906682785|  3834| 127|      10|         0.033|             0.079|\n",
      "|2053013566587404305| 11049| 172|      33|         0.016|             0.192|\n",
      "|2053013564968403895| 30807| 451|     122|         0.015|             0.271|\n",
      "+-------------------+------+----+--------+--------------+------------------+\n",
      "only showing top 20 rows\n",
      "\n"
     ]
    }
   ],
   "source": [
    "checked_event_type_by_category = checked_event_type_by_category.withColumn('view_cart_rate', round(col('cart')/col('view') , 3)).withColumn('cart_purchase_rate', round(col('purchase')/col('cart') , 3))\n",
    "\n",
    "checked_event_type_by_category.show()"
   ]
  },
  {
   "cell_type": "code",
   "execution_count": 87,
   "id": "c758cc06",
   "metadata": {
    "ExecuteTime": {
     "end_time": "2022-09-15T04:41:03.967305Z",
     "start_time": "2022-09-15T04:40:28.018313Z"
    }
   },
   "outputs": [
    {
     "name": "stdout",
     "output_type": "stream",
     "text": [
      "+-------------------+--------+-------+--------+--------------+------------------+\n",
      "|        category_id|    view|   cart|purchase|view_cart_rate|cart_purchase_rate|\n",
      "+-------------------+--------+-------+--------+--------------+------------------+\n",
      "|2053013552662315243|   36207|   3669|     771|         0.101|              0.21|\n",
      "|2053013553375346967|  317480|  27948|    8220|         0.088|             0.294|\n",
      "|2053013553559896355| 2952969| 256794|   67813|         0.087|             0.264|\n",
      "|2053013556344914381|   29296|   2463|     819|         0.084|             0.333|\n",
      "|2185524688778691138|      99|      8|       1|         0.081|             0.125|\n",
      "|2053013554658804075| 1644910| 131133|   40834|          0.08|             0.311|\n",
      "|2053013555631882655|14832387|1159966|  382647|         0.078|              0.33|\n",
      "|2053013559071212141|    1432|    110|      27|         0.077|             0.245|\n",
      "|2053013558978937451|    3699|    283|      59|         0.077|             0.208|\n",
      "|2149484852091552186|    3015|    211|      65|          0.07|             0.308|\n",
      "+-------------------+--------+-------+--------+--------------+------------------+\n",
      "\n"
     ]
    }
   ],
   "source": [
    "view_cart_rate_top_10 = checked_event_type_by_category.sort(desc('view_cart_rate')).limit(10)\n",
    "\n",
    "view_cart_rate_top_10.show()"
   ]
  },
  {
   "cell_type": "code",
   "execution_count": 82,
   "id": "7b66442e",
   "metadata": {
    "ExecuteTime": {
     "end_time": "2022-09-15T04:38:11.322566Z",
     "start_time": "2022-09-15T04:37:35.522609Z"
    }
   },
   "outputs": [
    {
     "name": "stdout",
     "output_type": "stream",
     "text": [
      "+-------------------+----+----+--------+--------------+------------------+\n",
      "|        category_id|view|cart|purchase|view_cart_rate|cart_purchase_rate|\n",
      "+-------------------+----+----+--------+--------------+------------------+\n",
      "|2149939352476582010| 555|   1|       5|         0.002|               5.0|\n",
      "|2175419595697947312| 158|   2|       3|         0.013|               1.5|\n",
      "|2166064779414732801|  82|   1|       1|         0.012|               1.0|\n",
      "|2181922923097358794| 134|   1|       1|         0.007|               1.0|\n",
      "|2187707789055361298| 182|   1|       1|         0.005|               1.0|\n",
      "|2053013560388223675|  33|   1|       1|          0.03|               1.0|\n",
      "|2079713978711277851|3709|  18|      12|         0.005|             0.667|\n",
      "|2134904982346924669| 303|   3|       2|          0.01|             0.667|\n",
      "|2075962341706433246|1425|   7|       4|         0.005|             0.571|\n",
      "|2142047355153678986|1076|   7|       4|         0.007|             0.571|\n",
      "+-------------------+----+----+--------+--------------+------------------+\n",
      "\n"
     ]
    }
   ],
   "source": [
    "cart_purchase_rate_top_10 = checked_event_type_by_category.sort(desc('cart_purchase_rate')).limit(10)\n",
    "\n",
    "cart_purchase_rate_top_10.show()"
   ]
  },
  {
   "cell_type": "markdown",
   "id": "eed97911",
   "metadata": {},
   "source": [
    "cart에 담은 category보다 purchase가 더 많은 품목 존재. view에서 바로 구매가 가능한 것 같다."
   ]
  },
  {
   "cell_type": "code",
   "execution_count": 84,
   "id": "32d733d6",
   "metadata": {
    "ExecuteTime": {
     "end_time": "2022-09-15T04:38:21.379241Z",
     "start_time": "2022-09-15T04:38:21.342284Z"
    }
   },
   "outputs": [],
   "source": [
    "category_id_code = commerce_df.select('category_id', 'category_code')"
   ]
  },
  {
   "cell_type": "code",
   "execution_count": 88,
   "id": "f78a9482",
   "metadata": {
    "ExecuteTime": {
     "end_time": "2022-09-15T04:42:19.969936Z",
     "start_time": "2022-09-15T04:41:15.336943Z"
    }
   },
   "outputs": [
    {
     "ename": "Py4JJavaError",
     "evalue": "An error occurred while calling o495.showString.\n: org.apache.spark.SparkException: Job aborted due to stage failure: Task 20 in stage 222.0 failed 1 times, most recent failure: Lost task 20.0 in stage 222.0 (TID 12546) (7ryean executor driver): java.lang.OutOfMemoryError: Java heap space\r\n\tat java.lang.reflect.Array.newInstance(Array.java:75)\r\n\tat java.io.ObjectInputStream.readArray(ObjectInputStream.java:2106)\r\n\tat java.io.ObjectInputStream.readObject0(ObjectInputStream.java:1680)\r\n\tat java.io.ObjectInputStream.readArray(ObjectInputStream.java:2142)\r\n\tat java.io.ObjectInputStream.readObject0(ObjectInputStream.java:1680)\r\n\tat java.io.ObjectInputStream.defaultReadFields(ObjectInputStream.java:2454)\r\n\tat java.io.ObjectInputStream.readSerialData(ObjectInputStream.java:2378)\r\n\tat java.io.ObjectInputStream.readOrdinaryObject(ObjectInputStream.java:2236)\r\n\tat java.io.ObjectInputStream.readObject0(ObjectInputStream.java:1692)\r\n\tat java.io.ObjectInputStream.readObject(ObjectInputStream.java:508)\r\n\tat java.io.ObjectInputStream.readObject(ObjectInputStream.java:466)\r\n\tat org.apache.spark.serializer.JavaDeserializationStream.readObject(JavaSerializer.scala:76)\r\n\tat org.apache.spark.serializer.DeserializationStream$$anon$1.getNext(Serializer.scala:168)\r\n\tat org.apache.spark.util.NextIterator.hasNext(NextIterator.scala:73)\r\n\tat org.apache.spark.storage.memory.PartiallyUnrolledIterator.hasNext(MemoryStore.scala:753)\r\n\tat org.apache.spark.util.CompletionIterator.hasNext(CompletionIterator.scala:31)\r\n\tat org.apache.spark.InterruptibleIterator.hasNext(InterruptibleIterator.scala:37)\r\n\tat scala.collection.Iterator$$anon$12.hasNext(Iterator.scala:511)\r\n\tat scala.collection.Iterator$$anon$10.hasNext(Iterator.scala:458)\r\n\tat org.apache.spark.sql.catalyst.expressions.GeneratedClass$SpecificColumnarIterator.hasNext(Unknown Source)\r\n\tat org.apache.spark.sql.catalyst.expressions.GeneratedClass$GeneratedIteratorForCodegenStage4.processNext(Unknown Source)\r\n\tat org.apache.spark.sql.execution.BufferedRowIterator.hasNext(BufferedRowIterator.java:43)\r\n\tat org.apache.spark.sql.execution.WholeStageCodegenExec$$anon$1.hasNext(WholeStageCodegenExec.scala:755)\r\n\tat scala.collection.Iterator$$anon$10.hasNext(Iterator.scala:458)\r\n\tat org.apache.spark.shuffle.sort.BypassMergeSortShuffleWriter.write(BypassMergeSortShuffleWriter.java:155)\r\n\tat org.apache.spark.shuffle.ShuffleWriteProcessor.write(ShuffleWriteProcessor.scala:59)\r\n\tat org.apache.spark.scheduler.ShuffleMapTask.runTask(ShuffleMapTask.scala:99)\r\n\tat org.apache.spark.scheduler.ShuffleMapTask.runTask(ShuffleMapTask.scala:52)\r\n\tat org.apache.spark.scheduler.Task.run(Task.scala:131)\r\n\tat org.apache.spark.executor.Executor$TaskRunner.$anonfun$run$3(Executor.scala:498)\r\n\tat org.apache.spark.executor.Executor$TaskRunner$$Lambda$2250/2019946363.apply(Unknown Source)\r\n\tat org.apache.spark.util.Utils$.tryWithSafeFinally(Utils.scala:1439)\r\n\nDriver stacktrace:\r\n\tat org.apache.spark.scheduler.DAGScheduler.failJobAndIndependentStages(DAGScheduler.scala:2303)\r\n\tat org.apache.spark.scheduler.DAGScheduler.$anonfun$abortStage$2(DAGScheduler.scala:2252)\r\n\tat org.apache.spark.scheduler.DAGScheduler.$anonfun$abortStage$2$adapted(DAGScheduler.scala:2251)\r\n\tat scala.collection.mutable.ResizableArray.foreach(ResizableArray.scala:62)\r\n\tat scala.collection.mutable.ResizableArray.foreach$(ResizableArray.scala:55)\r\n\tat scala.collection.mutable.ArrayBuffer.foreach(ArrayBuffer.scala:49)\r\n\tat org.apache.spark.scheduler.DAGScheduler.abortStage(DAGScheduler.scala:2251)\r\n\tat org.apache.spark.scheduler.DAGScheduler.$anonfun$handleTaskSetFailed$1(DAGScheduler.scala:1124)\r\n\tat org.apache.spark.scheduler.DAGScheduler.$anonfun$handleTaskSetFailed$1$adapted(DAGScheduler.scala:1124)\r\n\tat scala.Option.foreach(Option.scala:407)\r\n\tat org.apache.spark.scheduler.DAGScheduler.handleTaskSetFailed(DAGScheduler.scala:1124)\r\n\tat org.apache.spark.scheduler.DAGSchedulerEventProcessLoop.doOnReceive(DAGScheduler.scala:2490)\r\n\tat org.apache.spark.scheduler.DAGSchedulerEventProcessLoop.onReceive(DAGScheduler.scala:2432)\r\n\tat org.apache.spark.scheduler.DAGSchedulerEventProcessLoop.onReceive(DAGScheduler.scala:2421)\r\n\tat org.apache.spark.util.EventLoop$$anon$1.run(EventLoop.scala:49)\r\n\tat org.apache.spark.scheduler.DAGScheduler.runJob(DAGScheduler.scala:902)\r\n\tat org.apache.spark.SparkContext.runJob(SparkContext.scala:2196)\r\n\tat org.apache.spark.SparkContext.runJob(SparkContext.scala:2217)\r\n\tat org.apache.spark.SparkContext.runJob(SparkContext.scala:2236)\r\n\tat org.apache.spark.sql.execution.SparkPlan.executeTake(SparkPlan.scala:472)\r\n\tat org.apache.spark.sql.execution.SparkPlan.executeTake(SparkPlan.scala:425)\r\n\tat org.apache.spark.sql.execution.CollectLimitExec.executeCollect(limit.scala:47)\r\n\tat org.apache.spark.sql.Dataset.collectFromPlan(Dataset.scala:3709)\r\n\tat org.apache.spark.sql.Dataset.$anonfun$head$1(Dataset.scala:2735)\r\n\tat org.apache.spark.sql.Dataset.$anonfun$withAction$1(Dataset.scala:3700)\r\n\tat org.apache.spark.sql.execution.SQLExecution$.$anonfun$withNewExecutionId$5(SQLExecution.scala:103)\r\n\tat org.apache.spark.sql.execution.SQLExecution$.withSQLConfPropagated(SQLExecution.scala:163)\r\n\tat org.apache.spark.sql.execution.SQLExecution$.$anonfun$withNewExecutionId$1(SQLExecution.scala:90)\r\n\tat org.apache.spark.sql.SparkSession.withActive(SparkSession.scala:775)\r\n\tat org.apache.spark.sql.execution.SQLExecution$.withNewExecutionId(SQLExecution.scala:64)\r\n\tat org.apache.spark.sql.Dataset.withAction(Dataset.scala:3698)\r\n\tat org.apache.spark.sql.Dataset.head(Dataset.scala:2735)\r\n\tat org.apache.spark.sql.Dataset.take(Dataset.scala:2942)\r\n\tat org.apache.spark.sql.Dataset.getRows(Dataset.scala:302)\r\n\tat org.apache.spark.sql.Dataset.showString(Dataset.scala:339)\r\n\tat sun.reflect.GeneratedMethodAccessor164.invoke(Unknown Source)\r\n\tat sun.reflect.DelegatingMethodAccessorImpl.invoke(DelegatingMethodAccessorImpl.java:43)\r\n\tat java.lang.reflect.Method.invoke(Method.java:498)\r\n\tat py4j.reflection.MethodInvoker.invoke(MethodInvoker.java:244)\r\n\tat py4j.reflection.ReflectionEngine.invoke(ReflectionEngine.java:357)\r\n\tat py4j.Gateway.invoke(Gateway.java:282)\r\n\tat py4j.commands.AbstractCommand.invokeMethod(AbstractCommand.java:132)\r\n\tat py4j.commands.CallCommand.execute(CallCommand.java:79)\r\n\tat py4j.GatewayConnection.run(GatewayConnection.java:238)\r\n\tat java.lang.Thread.run(Thread.java:750)\r\nCaused by: java.lang.OutOfMemoryError: Java heap space\r\n\tat java.lang.reflect.Array.newInstance(Array.java:75)\r\n\tat java.io.ObjectInputStream.readArray(ObjectInputStream.java:2106)\r\n\tat java.io.ObjectInputStream.readObject0(ObjectInputStream.java:1680)\r\n\tat java.io.ObjectInputStream.readArray(ObjectInputStream.java:2142)\r\n\tat java.io.ObjectInputStream.readObject0(ObjectInputStream.java:1680)\r\n\tat java.io.ObjectInputStream.defaultReadFields(ObjectInputStream.java:2454)\r\n\tat java.io.ObjectInputStream.readSerialData(ObjectInputStream.java:2378)\r\n\tat java.io.ObjectInputStream.readOrdinaryObject(ObjectInputStream.java:2236)\r\n\tat java.io.ObjectInputStream.readObject0(ObjectInputStream.java:1692)\r\n\tat java.io.ObjectInputStream.readObject(ObjectInputStream.java:508)\r\n\tat java.io.ObjectInputStream.readObject(ObjectInputStream.java:466)\r\n\tat org.apache.spark.serializer.JavaDeserializationStream.readObject(JavaSerializer.scala:76)\r\n\tat org.apache.spark.serializer.DeserializationStream$$anon$1.getNext(Serializer.scala:168)\r\n\tat org.apache.spark.util.NextIterator.hasNext(NextIterator.scala:73)\r\n\tat org.apache.spark.storage.memory.PartiallyUnrolledIterator.hasNext(MemoryStore.scala:753)\r\n\tat org.apache.spark.util.CompletionIterator.hasNext(CompletionIterator.scala:31)\r\n\tat org.apache.spark.InterruptibleIterator.hasNext(InterruptibleIterator.scala:37)\r\n\tat scala.collection.Iterator$$anon$12.hasNext(Iterator.scala:511)\r\n\tat scala.collection.Iterator$$anon$10.hasNext(Iterator.scala:458)\r\n\tat org.apache.spark.sql.catalyst.expressions.GeneratedClass$SpecificColumnarIterator.hasNext(Unknown Source)\r\n\tat org.apache.spark.sql.catalyst.expressions.GeneratedClass$GeneratedIteratorForCodegenStage4.processNext(Unknown Source)\r\n\tat org.apache.spark.sql.execution.BufferedRowIterator.hasNext(BufferedRowIterator.java:43)\r\n\tat org.apache.spark.sql.execution.WholeStageCodegenExec$$anon$1.hasNext(WholeStageCodegenExec.scala:755)\r\n\tat scala.collection.Iterator$$anon$10.hasNext(Iterator.scala:458)\r\n\tat org.apache.spark.shuffle.sort.BypassMergeSortShuffleWriter.write(BypassMergeSortShuffleWriter.java:155)\r\n\tat org.apache.spark.shuffle.ShuffleWriteProcessor.write(ShuffleWriteProcessor.scala:59)\r\n\tat org.apache.spark.scheduler.ShuffleMapTask.runTask(ShuffleMapTask.scala:99)\r\n\tat org.apache.spark.scheduler.ShuffleMapTask.runTask(ShuffleMapTask.scala:52)\r\n\tat org.apache.spark.scheduler.Task.run(Task.scala:131)\r\n\tat org.apache.spark.executor.Executor$TaskRunner.$anonfun$run$3(Executor.scala:498)\r\n\tat org.apache.spark.executor.Executor$TaskRunner$$Lambda$2250/2019946363.apply(Unknown Source)\r\n\tat org.apache.spark.util.Utils$.tryWithSafeFinally(Utils.scala:1439)\r\n",
     "output_type": "error",
     "traceback": [
      "\u001b[1;31m---------------------------------------------------------------------------\u001b[0m",
      "\u001b[1;31mPy4JJavaError\u001b[0m                             Traceback (most recent call last)",
      "Input \u001b[1;32mIn [88]\u001b[0m, in \u001b[0;36m<cell line: 3>\u001b[1;34m()\u001b[0m\n\u001b[0;32m      1\u001b[0m view_cart_rate_top_10 \u001b[38;5;241m=\u001b[39m view_cart_rate_top_10\u001b[38;5;241m.\u001b[39mjoin(category_id_code, view_cart_rate_top_10\u001b[38;5;241m.\u001b[39mcategory_id \u001b[38;5;241m==\u001b[39m category_id_code\u001b[38;5;241m.\u001b[39mcategory_id, \u001b[38;5;124m'\u001b[39m\u001b[38;5;124mleft\u001b[39m\u001b[38;5;124m'\u001b[39m)\n\u001b[1;32m----> 3\u001b[0m \u001b[43mview_cart_rate_top_10\u001b[49m\u001b[38;5;241;43m.\u001b[39;49m\u001b[43mshow\u001b[49m\u001b[43m(\u001b[49m\u001b[43m)\u001b[49m\n",
      "File \u001b[1;32m~\\anaconda3\\envs\\test_pyspark\\lib\\site-packages\\pyspark\\sql\\dataframe.py:484\u001b[0m, in \u001b[0;36mDataFrame.show\u001b[1;34m(self, n, truncate, vertical)\u001b[0m\n\u001b[0;32m    441\u001b[0m \u001b[38;5;124;03m\"\"\"Prints the first ``n`` rows to the console.\u001b[39;00m\n\u001b[0;32m    442\u001b[0m \n\u001b[0;32m    443\u001b[0m \u001b[38;5;124;03m.. versionadded:: 1.3.0\u001b[39;00m\n\u001b[1;32m   (...)\u001b[0m\n\u001b[0;32m    481\u001b[0m \u001b[38;5;124;03m name | Bob\u001b[39;00m\n\u001b[0;32m    482\u001b[0m \u001b[38;5;124;03m\"\"\"\u001b[39;00m\n\u001b[0;32m    483\u001b[0m \u001b[38;5;28;01mif\u001b[39;00m \u001b[38;5;28misinstance\u001b[39m(truncate, \u001b[38;5;28mbool\u001b[39m) \u001b[38;5;129;01mand\u001b[39;00m truncate:\n\u001b[1;32m--> 484\u001b[0m     \u001b[38;5;28mprint\u001b[39m(\u001b[38;5;28;43mself\u001b[39;49m\u001b[38;5;241;43m.\u001b[39;49m\u001b[43m_jdf\u001b[49m\u001b[38;5;241;43m.\u001b[39;49m\u001b[43mshowString\u001b[49m\u001b[43m(\u001b[49m\u001b[43mn\u001b[49m\u001b[43m,\u001b[49m\u001b[43m \u001b[49m\u001b[38;5;241;43m20\u001b[39;49m\u001b[43m,\u001b[49m\u001b[43m \u001b[49m\u001b[43mvertical\u001b[49m\u001b[43m)\u001b[49m)\n\u001b[0;32m    485\u001b[0m \u001b[38;5;28;01melse\u001b[39;00m:\n\u001b[0;32m    486\u001b[0m     \u001b[38;5;28mprint\u001b[39m(\u001b[38;5;28mself\u001b[39m\u001b[38;5;241m.\u001b[39m_jdf\u001b[38;5;241m.\u001b[39mshowString(n, \u001b[38;5;28mint\u001b[39m(truncate), vertical))\n",
      "File \u001b[1;32m~\\anaconda3\\envs\\test_pyspark\\lib\\site-packages\\py4j\\java_gateway.py:1309\u001b[0m, in \u001b[0;36mJavaMember.__call__\u001b[1;34m(self, *args)\u001b[0m\n\u001b[0;32m   1303\u001b[0m command \u001b[38;5;241m=\u001b[39m proto\u001b[38;5;241m.\u001b[39mCALL_COMMAND_NAME \u001b[38;5;241m+\u001b[39m\\\n\u001b[0;32m   1304\u001b[0m     \u001b[38;5;28mself\u001b[39m\u001b[38;5;241m.\u001b[39mcommand_header \u001b[38;5;241m+\u001b[39m\\\n\u001b[0;32m   1305\u001b[0m     args_command \u001b[38;5;241m+\u001b[39m\\\n\u001b[0;32m   1306\u001b[0m     proto\u001b[38;5;241m.\u001b[39mEND_COMMAND_PART\n\u001b[0;32m   1308\u001b[0m answer \u001b[38;5;241m=\u001b[39m \u001b[38;5;28mself\u001b[39m\u001b[38;5;241m.\u001b[39mgateway_client\u001b[38;5;241m.\u001b[39msend_command(command)\n\u001b[1;32m-> 1309\u001b[0m return_value \u001b[38;5;241m=\u001b[39m \u001b[43mget_return_value\u001b[49m\u001b[43m(\u001b[49m\n\u001b[0;32m   1310\u001b[0m \u001b[43m    \u001b[49m\u001b[43manswer\u001b[49m\u001b[43m,\u001b[49m\u001b[43m \u001b[49m\u001b[38;5;28;43mself\u001b[39;49m\u001b[38;5;241;43m.\u001b[39;49m\u001b[43mgateway_client\u001b[49m\u001b[43m,\u001b[49m\u001b[43m \u001b[49m\u001b[38;5;28;43mself\u001b[39;49m\u001b[38;5;241;43m.\u001b[39;49m\u001b[43mtarget_id\u001b[49m\u001b[43m,\u001b[49m\u001b[43m \u001b[49m\u001b[38;5;28;43mself\u001b[39;49m\u001b[38;5;241;43m.\u001b[39;49m\u001b[43mname\u001b[49m\u001b[43m)\u001b[49m\n\u001b[0;32m   1312\u001b[0m \u001b[38;5;28;01mfor\u001b[39;00m temp_arg \u001b[38;5;129;01min\u001b[39;00m temp_args:\n\u001b[0;32m   1313\u001b[0m     temp_arg\u001b[38;5;241m.\u001b[39m_detach()\n",
      "File \u001b[1;32m~\\anaconda3\\envs\\test_pyspark\\lib\\site-packages\\pyspark\\sql\\utils.py:111\u001b[0m, in \u001b[0;36mcapture_sql_exception.<locals>.deco\u001b[1;34m(*a, **kw)\u001b[0m\n\u001b[0;32m    109\u001b[0m \u001b[38;5;28;01mdef\u001b[39;00m \u001b[38;5;21mdeco\u001b[39m(\u001b[38;5;241m*\u001b[39ma, \u001b[38;5;241m*\u001b[39m\u001b[38;5;241m*\u001b[39mkw):\n\u001b[0;32m    110\u001b[0m     \u001b[38;5;28;01mtry\u001b[39;00m:\n\u001b[1;32m--> 111\u001b[0m         \u001b[38;5;28;01mreturn\u001b[39;00m f(\u001b[38;5;241m*\u001b[39ma, \u001b[38;5;241m*\u001b[39m\u001b[38;5;241m*\u001b[39mkw)\n\u001b[0;32m    112\u001b[0m     \u001b[38;5;28;01mexcept\u001b[39;00m py4j\u001b[38;5;241m.\u001b[39mprotocol\u001b[38;5;241m.\u001b[39mPy4JJavaError \u001b[38;5;28;01mas\u001b[39;00m e:\n\u001b[0;32m    113\u001b[0m         converted \u001b[38;5;241m=\u001b[39m convert_exception(e\u001b[38;5;241m.\u001b[39mjava_exception)\n",
      "File \u001b[1;32m~\\anaconda3\\envs\\test_pyspark\\lib\\site-packages\\py4j\\protocol.py:326\u001b[0m, in \u001b[0;36mget_return_value\u001b[1;34m(answer, gateway_client, target_id, name)\u001b[0m\n\u001b[0;32m    324\u001b[0m value \u001b[38;5;241m=\u001b[39m OUTPUT_CONVERTER[\u001b[38;5;28mtype\u001b[39m](answer[\u001b[38;5;241m2\u001b[39m:], gateway_client)\n\u001b[0;32m    325\u001b[0m \u001b[38;5;28;01mif\u001b[39;00m answer[\u001b[38;5;241m1\u001b[39m] \u001b[38;5;241m==\u001b[39m REFERENCE_TYPE:\n\u001b[1;32m--> 326\u001b[0m     \u001b[38;5;28;01mraise\u001b[39;00m Py4JJavaError(\n\u001b[0;32m    327\u001b[0m         \u001b[38;5;124m\"\u001b[39m\u001b[38;5;124mAn error occurred while calling \u001b[39m\u001b[38;5;132;01m{0}\u001b[39;00m\u001b[38;5;132;01m{1}\u001b[39;00m\u001b[38;5;132;01m{2}\u001b[39;00m\u001b[38;5;124m.\u001b[39m\u001b[38;5;130;01m\\n\u001b[39;00m\u001b[38;5;124m\"\u001b[39m\u001b[38;5;241m.\u001b[39m\n\u001b[0;32m    328\u001b[0m         \u001b[38;5;28mformat\u001b[39m(target_id, \u001b[38;5;124m\"\u001b[39m\u001b[38;5;124m.\u001b[39m\u001b[38;5;124m\"\u001b[39m, name), value)\n\u001b[0;32m    329\u001b[0m \u001b[38;5;28;01melse\u001b[39;00m:\n\u001b[0;32m    330\u001b[0m     \u001b[38;5;28;01mraise\u001b[39;00m Py4JError(\n\u001b[0;32m    331\u001b[0m         \u001b[38;5;124m\"\u001b[39m\u001b[38;5;124mAn error occurred while calling \u001b[39m\u001b[38;5;132;01m{0}\u001b[39;00m\u001b[38;5;132;01m{1}\u001b[39;00m\u001b[38;5;132;01m{2}\u001b[39;00m\u001b[38;5;124m. Trace:\u001b[39m\u001b[38;5;130;01m\\n\u001b[39;00m\u001b[38;5;132;01m{3}\u001b[39;00m\u001b[38;5;130;01m\\n\u001b[39;00m\u001b[38;5;124m\"\u001b[39m\u001b[38;5;241m.\u001b[39m\n\u001b[0;32m    332\u001b[0m         \u001b[38;5;28mformat\u001b[39m(target_id, \u001b[38;5;124m\"\u001b[39m\u001b[38;5;124m.\u001b[39m\u001b[38;5;124m\"\u001b[39m, name, value))\n",
      "\u001b[1;31mPy4JJavaError\u001b[0m: An error occurred while calling o495.showString.\n: org.apache.spark.SparkException: Job aborted due to stage failure: Task 20 in stage 222.0 failed 1 times, most recent failure: Lost task 20.0 in stage 222.0 (TID 12546) (7ryean executor driver): java.lang.OutOfMemoryError: Java heap space\r\n\tat java.lang.reflect.Array.newInstance(Array.java:75)\r\n\tat java.io.ObjectInputStream.readArray(ObjectInputStream.java:2106)\r\n\tat java.io.ObjectInputStream.readObject0(ObjectInputStream.java:1680)\r\n\tat java.io.ObjectInputStream.readArray(ObjectInputStream.java:2142)\r\n\tat java.io.ObjectInputStream.readObject0(ObjectInputStream.java:1680)\r\n\tat java.io.ObjectInputStream.defaultReadFields(ObjectInputStream.java:2454)\r\n\tat java.io.ObjectInputStream.readSerialData(ObjectInputStream.java:2378)\r\n\tat java.io.ObjectInputStream.readOrdinaryObject(ObjectInputStream.java:2236)\r\n\tat java.io.ObjectInputStream.readObject0(ObjectInputStream.java:1692)\r\n\tat java.io.ObjectInputStream.readObject(ObjectInputStream.java:508)\r\n\tat java.io.ObjectInputStream.readObject(ObjectInputStream.java:466)\r\n\tat org.apache.spark.serializer.JavaDeserializationStream.readObject(JavaSerializer.scala:76)\r\n\tat org.apache.spark.serializer.DeserializationStream$$anon$1.getNext(Serializer.scala:168)\r\n\tat org.apache.spark.util.NextIterator.hasNext(NextIterator.scala:73)\r\n\tat org.apache.spark.storage.memory.PartiallyUnrolledIterator.hasNext(MemoryStore.scala:753)\r\n\tat org.apache.spark.util.CompletionIterator.hasNext(CompletionIterator.scala:31)\r\n\tat org.apache.spark.InterruptibleIterator.hasNext(InterruptibleIterator.scala:37)\r\n\tat scala.collection.Iterator$$anon$12.hasNext(Iterator.scala:511)\r\n\tat scala.collection.Iterator$$anon$10.hasNext(Iterator.scala:458)\r\n\tat org.apache.spark.sql.catalyst.expressions.GeneratedClass$SpecificColumnarIterator.hasNext(Unknown Source)\r\n\tat org.apache.spark.sql.catalyst.expressions.GeneratedClass$GeneratedIteratorForCodegenStage4.processNext(Unknown Source)\r\n\tat org.apache.spark.sql.execution.BufferedRowIterator.hasNext(BufferedRowIterator.java:43)\r\n\tat org.apache.spark.sql.execution.WholeStageCodegenExec$$anon$1.hasNext(WholeStageCodegenExec.scala:755)\r\n\tat scala.collection.Iterator$$anon$10.hasNext(Iterator.scala:458)\r\n\tat org.apache.spark.shuffle.sort.BypassMergeSortShuffleWriter.write(BypassMergeSortShuffleWriter.java:155)\r\n\tat org.apache.spark.shuffle.ShuffleWriteProcessor.write(ShuffleWriteProcessor.scala:59)\r\n\tat org.apache.spark.scheduler.ShuffleMapTask.runTask(ShuffleMapTask.scala:99)\r\n\tat org.apache.spark.scheduler.ShuffleMapTask.runTask(ShuffleMapTask.scala:52)\r\n\tat org.apache.spark.scheduler.Task.run(Task.scala:131)\r\n\tat org.apache.spark.executor.Executor$TaskRunner.$anonfun$run$3(Executor.scala:498)\r\n\tat org.apache.spark.executor.Executor$TaskRunner$$Lambda$2250/2019946363.apply(Unknown Source)\r\n\tat org.apache.spark.util.Utils$.tryWithSafeFinally(Utils.scala:1439)\r\n\nDriver stacktrace:\r\n\tat org.apache.spark.scheduler.DAGScheduler.failJobAndIndependentStages(DAGScheduler.scala:2303)\r\n\tat org.apache.spark.scheduler.DAGScheduler.$anonfun$abortStage$2(DAGScheduler.scala:2252)\r\n\tat org.apache.spark.scheduler.DAGScheduler.$anonfun$abortStage$2$adapted(DAGScheduler.scala:2251)\r\n\tat scala.collection.mutable.ResizableArray.foreach(ResizableArray.scala:62)\r\n\tat scala.collection.mutable.ResizableArray.foreach$(ResizableArray.scala:55)\r\n\tat scala.collection.mutable.ArrayBuffer.foreach(ArrayBuffer.scala:49)\r\n\tat org.apache.spark.scheduler.DAGScheduler.abortStage(DAGScheduler.scala:2251)\r\n\tat org.apache.spark.scheduler.DAGScheduler.$anonfun$handleTaskSetFailed$1(DAGScheduler.scala:1124)\r\n\tat org.apache.spark.scheduler.DAGScheduler.$anonfun$handleTaskSetFailed$1$adapted(DAGScheduler.scala:1124)\r\n\tat scala.Option.foreach(Option.scala:407)\r\n\tat org.apache.spark.scheduler.DAGScheduler.handleTaskSetFailed(DAGScheduler.scala:1124)\r\n\tat org.apache.spark.scheduler.DAGSchedulerEventProcessLoop.doOnReceive(DAGScheduler.scala:2490)\r\n\tat org.apache.spark.scheduler.DAGSchedulerEventProcessLoop.onReceive(DAGScheduler.scala:2432)\r\n\tat org.apache.spark.scheduler.DAGSchedulerEventProcessLoop.onReceive(DAGScheduler.scala:2421)\r\n\tat org.apache.spark.util.EventLoop$$anon$1.run(EventLoop.scala:49)\r\n\tat org.apache.spark.scheduler.DAGScheduler.runJob(DAGScheduler.scala:902)\r\n\tat org.apache.spark.SparkContext.runJob(SparkContext.scala:2196)\r\n\tat org.apache.spark.SparkContext.runJob(SparkContext.scala:2217)\r\n\tat org.apache.spark.SparkContext.runJob(SparkContext.scala:2236)\r\n\tat org.apache.spark.sql.execution.SparkPlan.executeTake(SparkPlan.scala:472)\r\n\tat org.apache.spark.sql.execution.SparkPlan.executeTake(SparkPlan.scala:425)\r\n\tat org.apache.spark.sql.execution.CollectLimitExec.executeCollect(limit.scala:47)\r\n\tat org.apache.spark.sql.Dataset.collectFromPlan(Dataset.scala:3709)\r\n\tat org.apache.spark.sql.Dataset.$anonfun$head$1(Dataset.scala:2735)\r\n\tat org.apache.spark.sql.Dataset.$anonfun$withAction$1(Dataset.scala:3700)\r\n\tat org.apache.spark.sql.execution.SQLExecution$.$anonfun$withNewExecutionId$5(SQLExecution.scala:103)\r\n\tat org.apache.spark.sql.execution.SQLExecution$.withSQLConfPropagated(SQLExecution.scala:163)\r\n\tat org.apache.spark.sql.execution.SQLExecution$.$anonfun$withNewExecutionId$1(SQLExecution.scala:90)\r\n\tat org.apache.spark.sql.SparkSession.withActive(SparkSession.scala:775)\r\n\tat org.apache.spark.sql.execution.SQLExecution$.withNewExecutionId(SQLExecution.scala:64)\r\n\tat org.apache.spark.sql.Dataset.withAction(Dataset.scala:3698)\r\n\tat org.apache.spark.sql.Dataset.head(Dataset.scala:2735)\r\n\tat org.apache.spark.sql.Dataset.take(Dataset.scala:2942)\r\n\tat org.apache.spark.sql.Dataset.getRows(Dataset.scala:302)\r\n\tat org.apache.spark.sql.Dataset.showString(Dataset.scala:339)\r\n\tat sun.reflect.GeneratedMethodAccessor164.invoke(Unknown Source)\r\n\tat sun.reflect.DelegatingMethodAccessorImpl.invoke(DelegatingMethodAccessorImpl.java:43)\r\n\tat java.lang.reflect.Method.invoke(Method.java:498)\r\n\tat py4j.reflection.MethodInvoker.invoke(MethodInvoker.java:244)\r\n\tat py4j.reflection.ReflectionEngine.invoke(ReflectionEngine.java:357)\r\n\tat py4j.Gateway.invoke(Gateway.java:282)\r\n\tat py4j.commands.AbstractCommand.invokeMethod(AbstractCommand.java:132)\r\n\tat py4j.commands.CallCommand.execute(CallCommand.java:79)\r\n\tat py4j.GatewayConnection.run(GatewayConnection.java:238)\r\n\tat java.lang.Thread.run(Thread.java:750)\r\nCaused by: java.lang.OutOfMemoryError: Java heap space\r\n\tat java.lang.reflect.Array.newInstance(Array.java:75)\r\n\tat java.io.ObjectInputStream.readArray(ObjectInputStream.java:2106)\r\n\tat java.io.ObjectInputStream.readObject0(ObjectInputStream.java:1680)\r\n\tat java.io.ObjectInputStream.readArray(ObjectInputStream.java:2142)\r\n\tat java.io.ObjectInputStream.readObject0(ObjectInputStream.java:1680)\r\n\tat java.io.ObjectInputStream.defaultReadFields(ObjectInputStream.java:2454)\r\n\tat java.io.ObjectInputStream.readSerialData(ObjectInputStream.java:2378)\r\n\tat java.io.ObjectInputStream.readOrdinaryObject(ObjectInputStream.java:2236)\r\n\tat java.io.ObjectInputStream.readObject0(ObjectInputStream.java:1692)\r\n\tat java.io.ObjectInputStream.readObject(ObjectInputStream.java:508)\r\n\tat java.io.ObjectInputStream.readObject(ObjectInputStream.java:466)\r\n\tat org.apache.spark.serializer.JavaDeserializationStream.readObject(JavaSerializer.scala:76)\r\n\tat org.apache.spark.serializer.DeserializationStream$$anon$1.getNext(Serializer.scala:168)\r\n\tat org.apache.spark.util.NextIterator.hasNext(NextIterator.scala:73)\r\n\tat org.apache.spark.storage.memory.PartiallyUnrolledIterator.hasNext(MemoryStore.scala:753)\r\n\tat org.apache.spark.util.CompletionIterator.hasNext(CompletionIterator.scala:31)\r\n\tat org.apache.spark.InterruptibleIterator.hasNext(InterruptibleIterator.scala:37)\r\n\tat scala.collection.Iterator$$anon$12.hasNext(Iterator.scala:511)\r\n\tat scala.collection.Iterator$$anon$10.hasNext(Iterator.scala:458)\r\n\tat org.apache.spark.sql.catalyst.expressions.GeneratedClass$SpecificColumnarIterator.hasNext(Unknown Source)\r\n\tat org.apache.spark.sql.catalyst.expressions.GeneratedClass$GeneratedIteratorForCodegenStage4.processNext(Unknown Source)\r\n\tat org.apache.spark.sql.execution.BufferedRowIterator.hasNext(BufferedRowIterator.java:43)\r\n\tat org.apache.spark.sql.execution.WholeStageCodegenExec$$anon$1.hasNext(WholeStageCodegenExec.scala:755)\r\n\tat scala.collection.Iterator$$anon$10.hasNext(Iterator.scala:458)\r\n\tat org.apache.spark.shuffle.sort.BypassMergeSortShuffleWriter.write(BypassMergeSortShuffleWriter.java:155)\r\n\tat org.apache.spark.shuffle.ShuffleWriteProcessor.write(ShuffleWriteProcessor.scala:59)\r\n\tat org.apache.spark.scheduler.ShuffleMapTask.runTask(ShuffleMapTask.scala:99)\r\n\tat org.apache.spark.scheduler.ShuffleMapTask.runTask(ShuffleMapTask.scala:52)\r\n\tat org.apache.spark.scheduler.Task.run(Task.scala:131)\r\n\tat org.apache.spark.executor.Executor$TaskRunner.$anonfun$run$3(Executor.scala:498)\r\n\tat org.apache.spark.executor.Executor$TaskRunner$$Lambda$2250/2019946363.apply(Unknown Source)\r\n\tat org.apache.spark.util.Utils$.tryWithSafeFinally(Utils.scala:1439)\r\n"
     ]
    }
   ],
   "source": [
    "view_cart_rate_top_10 = view_cart_rate_top_10.join(category_id_code, view_cart_rate_top_10.category_id == category_id_code.category_id, 'left')"
   ]
  },
  {
   "cell_type": "code",
   "execution_count": 89,
   "id": "debf9132",
   "metadata": {
    "ExecuteTime": {
     "end_time": "2022-09-15T04:42:59.829863Z",
     "start_time": "2022-09-15T04:42:57.086454Z"
    }
   },
   "outputs": [
    {
     "name": "stderr",
     "output_type": "stream",
     "text": [
      "ERROR:py4j.java_gateway:An error occurred while trying to connect to the Java server (127.0.0.1:53362)\n",
      "Traceback (most recent call last):\n",
      "  File \"C:\\Users\\u7rye\\anaconda3\\envs\\test_pyspark\\lib\\site-packages\\py4j\\java_gateway.py\", line 1198, in send_command\n",
      "    self.socket.sendall(command.encode(\"utf-8\"))\n",
      "ConnectionResetError: [WinError 10054] 현재 연결은 원격 호스트에 의해 강제로 끊겼습니다\n",
      "\n",
      "During handling of the above exception, another exception occurred:\n",
      "\n",
      "Traceback (most recent call last):\n",
      "  File \"C:\\Users\\u7rye\\anaconda3\\envs\\test_pyspark\\lib\\site-packages\\py4j\\java_gateway.py\", line 1038, in send_command\n",
      "    response = connection.send_command(command)\n",
      "  File \"C:\\Users\\u7rye\\anaconda3\\envs\\test_pyspark\\lib\\site-packages\\py4j\\java_gateway.py\", line 1201, in send_command\n",
      "    raise Py4JNetworkError(\n",
      "py4j.protocol.Py4JNetworkError: Error while sending\n",
      "\n",
      "During handling of the above exception, another exception occurred:\n",
      "\n",
      "Traceback (most recent call last):\n",
      "  File \"C:\\Users\\u7rye\\anaconda3\\envs\\test_pyspark\\lib\\site-packages\\py4j\\java_gateway.py\", line 982, in _get_connection\n",
      "    connection = self.deque.pop()\n",
      "IndexError: pop from an empty deque\n",
      "\n",
      "During handling of the above exception, another exception occurred:\n",
      "\n",
      "Traceback (most recent call last):\n",
      "  File \"C:\\Users\\u7rye\\anaconda3\\envs\\test_pyspark\\lib\\site-packages\\py4j\\java_gateway.py\", line 1120, in start\n",
      "    self.socket.connect((self.address, self.port))\n",
      "ConnectionRefusedError: [WinError 10061] 대상 컴퓨터에서 연결을 거부했으므로 연결하지 못했습니다\n"
     ]
    },
    {
     "ename": "Py4JNetworkError",
     "evalue": "An error occurred while trying to connect to the Java server (127.0.0.1:53362)",
     "output_type": "error",
     "traceback": [
      "\u001b[1;31m---------------------------------------------------------------------------\u001b[0m",
      "\u001b[1;31mConnectionResetError\u001b[0m                      Traceback (most recent call last)",
      "File \u001b[1;32m~\\anaconda3\\envs\\test_pyspark\\lib\\site-packages\\py4j\\java_gateway.py:1198\u001b[0m, in \u001b[0;36mGatewayConnection.send_command\u001b[1;34m(self, command)\u001b[0m\n\u001b[0;32m   1195\u001b[0m \u001b[38;5;28;01mtry\u001b[39;00m:\n\u001b[0;32m   1196\u001b[0m     \u001b[38;5;66;03m# Write will only fail if remote is closed for large payloads or\u001b[39;00m\n\u001b[0;32m   1197\u001b[0m     \u001b[38;5;66;03m# if it sent a RST packet (SO_LINGER)\u001b[39;00m\n\u001b[1;32m-> 1198\u001b[0m     \u001b[38;5;28;43mself\u001b[39;49m\u001b[38;5;241;43m.\u001b[39;49m\u001b[43msocket\u001b[49m\u001b[38;5;241;43m.\u001b[39;49m\u001b[43msendall\u001b[49m\u001b[43m(\u001b[49m\u001b[43mcommand\u001b[49m\u001b[38;5;241;43m.\u001b[39;49m\u001b[43mencode\u001b[49m\u001b[43m(\u001b[49m\u001b[38;5;124;43m\"\u001b[39;49m\u001b[38;5;124;43mutf-8\u001b[39;49m\u001b[38;5;124;43m\"\u001b[39;49m\u001b[43m)\u001b[49m\u001b[43m)\u001b[49m\n\u001b[0;32m   1199\u001b[0m \u001b[38;5;28;01mexcept\u001b[39;00m \u001b[38;5;167;01mException\u001b[39;00m \u001b[38;5;28;01mas\u001b[39;00m e:\n",
      "\u001b[1;31mConnectionResetError\u001b[0m: [WinError 10054] 현재 연결은 원격 호스트에 의해 강제로 끊겼습니다",
      "\nDuring handling of the above exception, another exception occurred:\n",
      "\u001b[1;31mPy4JNetworkError\u001b[0m                          Traceback (most recent call last)",
      "File \u001b[1;32m~\\anaconda3\\envs\\test_pyspark\\lib\\site-packages\\py4j\\java_gateway.py:1038\u001b[0m, in \u001b[0;36mGatewayClient.send_command\u001b[1;34m(self, command, retry, binary)\u001b[0m\n\u001b[0;32m   1037\u001b[0m \u001b[38;5;28;01mtry\u001b[39;00m:\n\u001b[1;32m-> 1038\u001b[0m     response \u001b[38;5;241m=\u001b[39m \u001b[43mconnection\u001b[49m\u001b[38;5;241;43m.\u001b[39;49m\u001b[43msend_command\u001b[49m\u001b[43m(\u001b[49m\u001b[43mcommand\u001b[49m\u001b[43m)\u001b[49m\n\u001b[0;32m   1039\u001b[0m     \u001b[38;5;28;01mif\u001b[39;00m binary:\n",
      "File \u001b[1;32m~\\anaconda3\\envs\\test_pyspark\\lib\\site-packages\\py4j\\java_gateway.py:1201\u001b[0m, in \u001b[0;36mGatewayConnection.send_command\u001b[1;34m(self, command)\u001b[0m\n\u001b[0;32m   1200\u001b[0m     logger\u001b[38;5;241m.\u001b[39minfo(\u001b[38;5;124m\"\u001b[39m\u001b[38;5;124mError while sending.\u001b[39m\u001b[38;5;124m\"\u001b[39m, exc_info\u001b[38;5;241m=\u001b[39m\u001b[38;5;28;01mTrue\u001b[39;00m)\n\u001b[1;32m-> 1201\u001b[0m     \u001b[38;5;28;01mraise\u001b[39;00m Py4JNetworkError(\n\u001b[0;32m   1202\u001b[0m         \u001b[38;5;124m\"\u001b[39m\u001b[38;5;124mError while sending\u001b[39m\u001b[38;5;124m\"\u001b[39m, e, proto\u001b[38;5;241m.\u001b[39mERROR_ON_SEND)\n\u001b[0;32m   1204\u001b[0m \u001b[38;5;28;01mtry\u001b[39;00m:\n",
      "\u001b[1;31mPy4JNetworkError\u001b[0m: Error while sending",
      "\nDuring handling of the above exception, another exception occurred:\n",
      "\u001b[1;31mIndexError\u001b[0m                                Traceback (most recent call last)",
      "File \u001b[1;32m~\\anaconda3\\envs\\test_pyspark\\lib\\site-packages\\py4j\\java_gateway.py:982\u001b[0m, in \u001b[0;36mGatewayClient._get_connection\u001b[1;34m(self)\u001b[0m\n\u001b[0;32m    981\u001b[0m \u001b[38;5;28;01mtry\u001b[39;00m:\n\u001b[1;32m--> 982\u001b[0m     connection \u001b[38;5;241m=\u001b[39m \u001b[38;5;28;43mself\u001b[39;49m\u001b[38;5;241;43m.\u001b[39;49m\u001b[43mdeque\u001b[49m\u001b[38;5;241;43m.\u001b[39;49m\u001b[43mpop\u001b[49m\u001b[43m(\u001b[49m\u001b[43m)\u001b[49m\n\u001b[0;32m    983\u001b[0m \u001b[38;5;28;01mexcept\u001b[39;00m \u001b[38;5;167;01mIndexError\u001b[39;00m:\n",
      "\u001b[1;31mIndexError\u001b[0m: pop from an empty deque",
      "\nDuring handling of the above exception, another exception occurred:\n",
      "\u001b[1;31mConnectionRefusedError\u001b[0m                    Traceback (most recent call last)",
      "File \u001b[1;32m~\\anaconda3\\envs\\test_pyspark\\lib\\site-packages\\py4j\\java_gateway.py:1120\u001b[0m, in \u001b[0;36mGatewayConnection.start\u001b[1;34m(self)\u001b[0m\n\u001b[0;32m   1119\u001b[0m \u001b[38;5;28;01mtry\u001b[39;00m:\n\u001b[1;32m-> 1120\u001b[0m     \u001b[38;5;28;43mself\u001b[39;49m\u001b[38;5;241;43m.\u001b[39;49m\u001b[43msocket\u001b[49m\u001b[38;5;241;43m.\u001b[39;49m\u001b[43mconnect\u001b[49m\u001b[43m(\u001b[49m\u001b[43m(\u001b[49m\u001b[38;5;28;43mself\u001b[39;49m\u001b[38;5;241;43m.\u001b[39;49m\u001b[43maddress\u001b[49m\u001b[43m,\u001b[49m\u001b[43m \u001b[49m\u001b[38;5;28;43mself\u001b[39;49m\u001b[38;5;241;43m.\u001b[39;49m\u001b[43mport\u001b[49m\u001b[43m)\u001b[49m\u001b[43m)\u001b[49m\n\u001b[0;32m   1121\u001b[0m     \u001b[38;5;28mself\u001b[39m\u001b[38;5;241m.\u001b[39mstream \u001b[38;5;241m=\u001b[39m \u001b[38;5;28mself\u001b[39m\u001b[38;5;241m.\u001b[39msocket\u001b[38;5;241m.\u001b[39mmakefile(\u001b[38;5;124m\"\u001b[39m\u001b[38;5;124mrb\u001b[39m\u001b[38;5;124m\"\u001b[39m)\n",
      "\u001b[1;31mConnectionRefusedError\u001b[0m: [WinError 10061] 대상 컴퓨터에서 연결을 거부했으므로 연결하지 못했습니다",
      "\nDuring handling of the above exception, another exception occurred:\n",
      "\u001b[1;31mPy4JNetworkError\u001b[0m                          Traceback (most recent call last)",
      "Input \u001b[1;32mIn [89]\u001b[0m, in \u001b[0;36m<cell line: 1>\u001b[1;34m()\u001b[0m\n\u001b[1;32m----> 1\u001b[0m view_cart_rate_top_10_pd \u001b[38;5;241m=\u001b[39m \u001b[43mview_cart_rate_top_10\u001b[49m\u001b[38;5;241;43m.\u001b[39;49m\u001b[43mtoPandas\u001b[49m\u001b[43m(\u001b[49m\u001b[43m)\u001b[49m\n\u001b[0;32m      3\u001b[0m view_cart_rate_top_10_pd\n",
      "File \u001b[1;32m~\\anaconda3\\envs\\test_pyspark\\lib\\site-packages\\pyspark\\sql\\pandas\\conversion.py:67\u001b[0m, in \u001b[0;36mPandasConversionMixin.toPandas\u001b[1;34m(self)\u001b[0m\n\u001b[0;32m     64\u001b[0m \u001b[38;5;28;01mimport\u001b[39;00m \u001b[38;5;21;01mnumpy\u001b[39;00m \u001b[38;5;28;01mas\u001b[39;00m \u001b[38;5;21;01mnp\u001b[39;00m\n\u001b[0;32m     65\u001b[0m \u001b[38;5;28;01mimport\u001b[39;00m \u001b[38;5;21;01mpandas\u001b[39;00m \u001b[38;5;28;01mas\u001b[39;00m \u001b[38;5;21;01mpd\u001b[39;00m\n\u001b[1;32m---> 67\u001b[0m timezone \u001b[38;5;241m=\u001b[39m \u001b[38;5;28;43mself\u001b[39;49m\u001b[38;5;241;43m.\u001b[39;49m\u001b[43msql_ctx\u001b[49m\u001b[38;5;241;43m.\u001b[39;49m\u001b[43m_conf\u001b[49m\u001b[38;5;241m.\u001b[39msessionLocalTimeZone()\n\u001b[0;32m     69\u001b[0m \u001b[38;5;28;01mif\u001b[39;00m \u001b[38;5;28mself\u001b[39m\u001b[38;5;241m.\u001b[39msql_ctx\u001b[38;5;241m.\u001b[39m_conf\u001b[38;5;241m.\u001b[39marrowPySparkEnabled():\n\u001b[0;32m     70\u001b[0m     use_arrow \u001b[38;5;241m=\u001b[39m \u001b[38;5;28;01mTrue\u001b[39;00m\n",
      "File \u001b[1;32m~\\anaconda3\\envs\\test_pyspark\\lib\\site-packages\\pyspark\\sql\\context.py:108\u001b[0m, in \u001b[0;36mSQLContext._conf\u001b[1;34m(self)\u001b[0m\n\u001b[0;32m    105\u001b[0m \u001b[38;5;129m@property\u001b[39m\n\u001b[0;32m    106\u001b[0m \u001b[38;5;28;01mdef\u001b[39;00m \u001b[38;5;21m_conf\u001b[39m(\u001b[38;5;28mself\u001b[39m):\n\u001b[0;32m    107\u001b[0m     \u001b[38;5;124;03m\"\"\"Accessor for the JVM SQL-specific configurations\"\"\"\u001b[39;00m\n\u001b[1;32m--> 108\u001b[0m     \u001b[38;5;28;01mreturn\u001b[39;00m \u001b[38;5;28;43mself\u001b[39;49m\u001b[38;5;241;43m.\u001b[39;49m\u001b[43msparkSession\u001b[49m\u001b[38;5;241;43m.\u001b[39;49m\u001b[43m_jsparkSession\u001b[49m\u001b[38;5;241;43m.\u001b[39;49m\u001b[43msessionState\u001b[49m\u001b[43m(\u001b[49m\u001b[43m)\u001b[49m\u001b[38;5;241m.\u001b[39mconf()\n",
      "File \u001b[1;32m~\\anaconda3\\envs\\test_pyspark\\lib\\site-packages\\py4j\\java_gateway.py:1308\u001b[0m, in \u001b[0;36mJavaMember.__call__\u001b[1;34m(self, *args)\u001b[0m\n\u001b[0;32m   1301\u001b[0m args_command, temp_args \u001b[38;5;241m=\u001b[39m \u001b[38;5;28mself\u001b[39m\u001b[38;5;241m.\u001b[39m_build_args(\u001b[38;5;241m*\u001b[39margs)\n\u001b[0;32m   1303\u001b[0m command \u001b[38;5;241m=\u001b[39m proto\u001b[38;5;241m.\u001b[39mCALL_COMMAND_NAME \u001b[38;5;241m+\u001b[39m\\\n\u001b[0;32m   1304\u001b[0m     \u001b[38;5;28mself\u001b[39m\u001b[38;5;241m.\u001b[39mcommand_header \u001b[38;5;241m+\u001b[39m\\\n\u001b[0;32m   1305\u001b[0m     args_command \u001b[38;5;241m+\u001b[39m\\\n\u001b[0;32m   1306\u001b[0m     proto\u001b[38;5;241m.\u001b[39mEND_COMMAND_PART\n\u001b[1;32m-> 1308\u001b[0m answer \u001b[38;5;241m=\u001b[39m \u001b[38;5;28;43mself\u001b[39;49m\u001b[38;5;241;43m.\u001b[39;49m\u001b[43mgateway_client\u001b[49m\u001b[38;5;241;43m.\u001b[39;49m\u001b[43msend_command\u001b[49m\u001b[43m(\u001b[49m\u001b[43mcommand\u001b[49m\u001b[43m)\u001b[49m\n\u001b[0;32m   1309\u001b[0m return_value \u001b[38;5;241m=\u001b[39m get_return_value(\n\u001b[0;32m   1310\u001b[0m     answer, \u001b[38;5;28mself\u001b[39m\u001b[38;5;241m.\u001b[39mgateway_client, \u001b[38;5;28mself\u001b[39m\u001b[38;5;241m.\u001b[39mtarget_id, \u001b[38;5;28mself\u001b[39m\u001b[38;5;241m.\u001b[39mname)\n\u001b[0;32m   1312\u001b[0m \u001b[38;5;28;01mfor\u001b[39;00m temp_arg \u001b[38;5;129;01min\u001b[39;00m temp_args:\n",
      "File \u001b[1;32m~\\anaconda3\\envs\\test_pyspark\\lib\\site-packages\\py4j\\java_gateway.py:1053\u001b[0m, in \u001b[0;36mGatewayClient.send_command\u001b[1;34m(self, command, retry, binary)\u001b[0m\n\u001b[0;32m   1051\u001b[0m \u001b[38;5;28;01mif\u001b[39;00m \u001b[38;5;28mself\u001b[39m\u001b[38;5;241m.\u001b[39m_should_retry(retry, connection, pne):\n\u001b[0;32m   1052\u001b[0m     logging\u001b[38;5;241m.\u001b[39minfo(\u001b[38;5;124m\"\u001b[39m\u001b[38;5;124mException while sending command.\u001b[39m\u001b[38;5;124m\"\u001b[39m, exc_info\u001b[38;5;241m=\u001b[39m\u001b[38;5;28;01mTrue\u001b[39;00m)\n\u001b[1;32m-> 1053\u001b[0m     response \u001b[38;5;241m=\u001b[39m \u001b[38;5;28;43mself\u001b[39;49m\u001b[38;5;241;43m.\u001b[39;49m\u001b[43msend_command\u001b[49m\u001b[43m(\u001b[49m\u001b[43mcommand\u001b[49m\u001b[43m,\u001b[49m\u001b[43m \u001b[49m\u001b[43mbinary\u001b[49m\u001b[38;5;241;43m=\u001b[39;49m\u001b[43mbinary\u001b[49m\u001b[43m)\u001b[49m\n\u001b[0;32m   1054\u001b[0m \u001b[38;5;28;01melse\u001b[39;00m:\n\u001b[0;32m   1055\u001b[0m     logging\u001b[38;5;241m.\u001b[39mexception(\n\u001b[0;32m   1056\u001b[0m         \u001b[38;5;124m\"\u001b[39m\u001b[38;5;124mException while sending command.\u001b[39m\u001b[38;5;124m\"\u001b[39m)\n",
      "File \u001b[1;32m~\\anaconda3\\envs\\test_pyspark\\lib\\site-packages\\py4j\\java_gateway.py:1036\u001b[0m, in \u001b[0;36mGatewayClient.send_command\u001b[1;34m(self, command, retry, binary)\u001b[0m\n\u001b[0;32m   1015\u001b[0m \u001b[38;5;28;01mdef\u001b[39;00m \u001b[38;5;21msend_command\u001b[39m(\u001b[38;5;28mself\u001b[39m, command, retry\u001b[38;5;241m=\u001b[39m\u001b[38;5;28;01mTrue\u001b[39;00m, binary\u001b[38;5;241m=\u001b[39m\u001b[38;5;28;01mFalse\u001b[39;00m):\n\u001b[0;32m   1016\u001b[0m     \u001b[38;5;124;03m\"\"\"Sends a command to the JVM. This method is not intended to be\u001b[39;00m\n\u001b[0;32m   1017\u001b[0m \u001b[38;5;124;03m       called directly by Py4J users. It is usually called by\u001b[39;00m\n\u001b[0;32m   1018\u001b[0m \u001b[38;5;124;03m       :class:`JavaMember` instances.\u001b[39;00m\n\u001b[1;32m   (...)\u001b[0m\n\u001b[0;32m   1034\u001b[0m \u001b[38;5;124;03m     if `binary` is `True`.\u001b[39;00m\n\u001b[0;32m   1035\u001b[0m \u001b[38;5;124;03m    \"\"\"\u001b[39;00m\n\u001b[1;32m-> 1036\u001b[0m     connection \u001b[38;5;241m=\u001b[39m \u001b[38;5;28;43mself\u001b[39;49m\u001b[38;5;241;43m.\u001b[39;49m\u001b[43m_get_connection\u001b[49m\u001b[43m(\u001b[49m\u001b[43m)\u001b[49m\n\u001b[0;32m   1037\u001b[0m     \u001b[38;5;28;01mtry\u001b[39;00m:\n\u001b[0;32m   1038\u001b[0m         response \u001b[38;5;241m=\u001b[39m connection\u001b[38;5;241m.\u001b[39msend_command(command)\n",
      "File \u001b[1;32m~\\anaconda3\\envs\\test_pyspark\\lib\\site-packages\\py4j\\java_gateway.py:984\u001b[0m, in \u001b[0;36mGatewayClient._get_connection\u001b[1;34m(self)\u001b[0m\n\u001b[0;32m    982\u001b[0m     connection \u001b[38;5;241m=\u001b[39m \u001b[38;5;28mself\u001b[39m\u001b[38;5;241m.\u001b[39mdeque\u001b[38;5;241m.\u001b[39mpop()\n\u001b[0;32m    983\u001b[0m \u001b[38;5;28;01mexcept\u001b[39;00m \u001b[38;5;167;01mIndexError\u001b[39;00m:\n\u001b[1;32m--> 984\u001b[0m     connection \u001b[38;5;241m=\u001b[39m \u001b[38;5;28;43mself\u001b[39;49m\u001b[38;5;241;43m.\u001b[39;49m\u001b[43m_create_connection\u001b[49m\u001b[43m(\u001b[49m\u001b[43m)\u001b[49m\n\u001b[0;32m    985\u001b[0m \u001b[38;5;28;01mreturn\u001b[39;00m connection\n",
      "File \u001b[1;32m~\\anaconda3\\envs\\test_pyspark\\lib\\site-packages\\py4j\\java_gateway.py:990\u001b[0m, in \u001b[0;36mGatewayClient._create_connection\u001b[1;34m(self)\u001b[0m\n\u001b[0;32m    987\u001b[0m \u001b[38;5;28;01mdef\u001b[39;00m \u001b[38;5;21m_create_connection\u001b[39m(\u001b[38;5;28mself\u001b[39m):\n\u001b[0;32m    988\u001b[0m     connection \u001b[38;5;241m=\u001b[39m GatewayConnection(\n\u001b[0;32m    989\u001b[0m         \u001b[38;5;28mself\u001b[39m\u001b[38;5;241m.\u001b[39mgateway_parameters, \u001b[38;5;28mself\u001b[39m\u001b[38;5;241m.\u001b[39mgateway_property)\n\u001b[1;32m--> 990\u001b[0m     \u001b[43mconnection\u001b[49m\u001b[38;5;241;43m.\u001b[39;49m\u001b[43mstart\u001b[49m\u001b[43m(\u001b[49m\u001b[43m)\u001b[49m\n\u001b[0;32m    991\u001b[0m     \u001b[38;5;28;01mreturn\u001b[39;00m connection\n",
      "File \u001b[1;32m~\\anaconda3\\envs\\test_pyspark\\lib\\site-packages\\py4j\\java_gateway.py:1132\u001b[0m, in \u001b[0;36mGatewayConnection.start\u001b[1;34m(self)\u001b[0m\n\u001b[0;32m   1129\u001b[0m msg \u001b[38;5;241m=\u001b[39m \u001b[38;5;124m\"\u001b[39m\u001b[38;5;124mAn error occurred while trying to connect to the Java \u001b[39m\u001b[38;5;124m\"\u001b[39m\\\n\u001b[0;32m   1130\u001b[0m     \u001b[38;5;124m\"\u001b[39m\u001b[38;5;124mserver (\u001b[39m\u001b[38;5;132;01m{0}\u001b[39;00m\u001b[38;5;124m:\u001b[39m\u001b[38;5;132;01m{1}\u001b[39;00m\u001b[38;5;124m)\u001b[39m\u001b[38;5;124m\"\u001b[39m\u001b[38;5;241m.\u001b[39mformat(\u001b[38;5;28mself\u001b[39m\u001b[38;5;241m.\u001b[39maddress, \u001b[38;5;28mself\u001b[39m\u001b[38;5;241m.\u001b[39mport)\n\u001b[0;32m   1131\u001b[0m logger\u001b[38;5;241m.\u001b[39mexception(msg)\n\u001b[1;32m-> 1132\u001b[0m \u001b[38;5;28;01mraise\u001b[39;00m Py4JNetworkError(msg, e)\n",
      "\u001b[1;31mPy4JNetworkError\u001b[0m: An error occurred while trying to connect to the Java server (127.0.0.1:53362)"
     ]
    }
   ],
   "source": [
    "view_cart_rate_top_10_pd = view_cart_rate_top_10.toPandas()\n",
    "\n",
    "view_cart_rate_top_10_pd"
   ]
  },
  {
   "cell_type": "code",
   "execution_count": null,
   "id": "d0b2c25a",
   "metadata": {},
   "outputs": [],
   "source": []
  },
  {
   "cell_type": "markdown",
   "id": "f3c3d82f",
   "metadata": {},
   "source": [
    "- view -> cart -> purchase 의 전환율\n",
    "- view -> purchase 의 전환율\n",
    "을 비교하여 보자."
   ]
  },
  {
   "cell_type": "code",
   "execution_count": 76,
   "id": "788584c1",
   "metadata": {
    "ExecuteTime": {
     "end_time": "2022-09-15T04:23:08.017012Z",
     "start_time": "2022-09-15T04:22:55.042952Z"
    }
   },
   "outputs": [],
   "source": [
    "checked_event_type_by_category_session_pivot = commerce_df.groupBy('category_id', 'user_session').pivot('event_type').count()"
   ]
  },
  {
   "cell_type": "code",
   "execution_count": 77,
   "id": "801d446e",
   "metadata": {
    "ExecuteTime": {
     "end_time": "2022-09-15T04:25:28.624880Z",
     "start_time": "2022-09-15T04:23:12.990918Z"
    }
   },
   "outputs": [
    {
     "name": "stdout",
     "output_type": "stream",
     "text": [
      "+-------------------+--------------------+----+--------+----+\n",
      "|        category_id|        user_session|cart|purchase|view|\n",
      "+-------------------+--------------------+----+--------+----+\n",
      "|2053013555631882655|3bd7e141-e90a-45f...|null|    null|   2|\n",
      "|2053013555631882655|556f4f10-ea00-4d3...|null|    null|   4|\n",
      "|2053013555631882655|b5d98282-9beb-40a...|null|    null|   1|\n",
      "|2053013555631882655|c7ed7046-a26e-480...|null|    null|   4|\n",
      "|2053013558920217191|bfe5920a-017c-434...|null|    null|  12|\n",
      "|2053013560899928785|8bab759d-3f31-417...|null|    null|   1|\n",
      "|2146660887203676486|b9becb3b-d826-4e3...|null|    null|   2|\n",
      "|2172371436436455782|1e961854-1f8d-47e...|null|    null|   5|\n",
      "|2053013558920217191|5a9b7e4e-dd00-448...|null|    null|   4|\n",
      "|2053013553853497655|d7a842d0-ad3a-462...|null|       1|   1|\n",
      "|2053013555631882655|a5536303-5e16-449...|null|    null|   9|\n",
      "|2053013555631882655|cec1fb34-aeb2-4b8...|null|    null|   2|\n",
      "|2053013556311359947|8ce73e11-9327-441...|null|    null|   3|\n",
      "|2053013557133443581|7a672f4d-8ca1-4cf...|null|    null|   6|\n",
      "|2053013555631882655|d064da91-a0d4-491...|null|    null|   1|\n",
      "|2053013553375346967|f4702f8d-564f-436...|null|    null|   2|\n",
      "|2053013555631882655|5ff072b8-dbf7-471...|null|    null|   1|\n",
      "|2053013558156853815|6f6c6c8a-1458-4b2...|null|    null|   1|\n",
      "|2053013558920217191|798d3356-204a-4a8...|null|    null|   8|\n",
      "|2053013562837697343|2e6c4e81-1576-413...|null|    null|   1|\n",
      "+-------------------+--------------------+----+--------+----+\n",
      "only showing top 20 rows\n",
      "\n"
     ]
    }
   ],
   "source": [
    "checked_event_type_by_category_session_pivot.show()"
   ]
  },
  {
   "cell_type": "code",
   "execution_count": null,
   "id": "391d4cd8",
   "metadata": {},
   "outputs": [],
   "source": [
    "checked_event_type_by_category_session_pivot = checked_event_type_by_category_session_pivot.select('category_id', 'user_session', 'view', 'cart', 'purchase')\n",
    "\n",
    "checked_event_type_by_category_session_pivot.show()"
   ]
  },
  {
   "cell_type": "code",
   "execution_count": null,
   "id": "45d785d2",
   "metadata": {},
   "outputs": [],
   "source": []
  },
  {
   "cell_type": "code",
   "execution_count": null,
   "id": "8890dd11",
   "metadata": {},
   "outputs": [],
   "source": []
  },
  {
   "cell_type": "code",
   "execution_count": null,
   "id": "10084612",
   "metadata": {},
   "outputs": [],
   "source": [
    "bar = (Bar().add_xaxis(funnel_event_type).add_yaxis('a',funnel_event_cnt).set_global_opts(title_opts=opts.TitleOpts(title='퍼널분석')))\n",
    "\n",
    "bar.render_notebook()"
   ]
  },
  {
   "cell_type": "markdown",
   "id": "86b7030d",
   "metadata": {},
   "source": [
    "### user_session에 관한 분석"
   ]
  },
  {
   "cell_type": "code",
   "execution_count": 11,
   "id": "8d6bee59",
   "metadata": {
    "ExecuteTime": {
     "end_time": "2022-09-11T09:42:19.051949Z",
     "start_time": "2022-09-11T09:40:34.173953Z"
    }
   },
   "outputs": [
    {
     "name": "stdout",
     "output_type": "stream",
     "text": [
      "+--------------+-------------------+-----------------------+----------------------------+\n",
      "|count(user_id)|count(user_session)|count(DISTINCT user_id)|count(DISTINCT user_session)|\n",
      "+--------------+-------------------+-----------------------+----------------------------+\n",
      "|      67501979|           67501969|                3696117|                    13776050|\n",
      "+--------------+-------------------+-----------------------+----------------------------+\n",
      "\n"
     ]
    }
   ],
   "source": [
    "checked_count_user = commerce_df.select(count('user_id'), count('user_session'), \\\n",
    "                                            countDistinct('user_id'), countDistinct('user_session'))\n",
    "\n",
    "checked_count_user.show()"
   ]
  },
  {
   "cell_type": "code",
   "execution_count": 21,
   "id": "77cf512e",
   "metadata": {
    "ExecuteTime": {
     "end_time": "2022-09-11T09:57:57.131717Z",
     "start_time": "2022-09-11T09:56:32.623817Z"
    }
   },
   "outputs": [
    {
     "name": "stdout",
     "output_type": "stream",
     "text": [
      "+------------------------------------+-----+\n",
      "|user_session                        |count|\n",
      "+------------------------------------+-----+\n",
      "|d99d91bf-40f8-4e29-9593-54b4a1826542|4128 |\n",
      "|fc749a4e-c432-4dae-a0a1-04de89f1e4ea|2466 |\n",
      "|b556f0c7-3a23-44f5-9f34-e713fefa9686|1963 |\n",
      "|d6433d7b-3846-456a-88de-748c3fac2675|1658 |\n",
      "|88206fc3-b5ea-4e3b-be68-67edfbf7009b|1373 |\n",
      "+------------------------------------+-----+\n",
      "\n"
     ]
    }
   ],
   "source": [
    "# 'user_session'에 따른 행의 갯수를 파악하고 세부 내역 확인을 통해 관게를 파악\n",
    "\n",
    "checked_user_relation = commerce_df.select(commerce_df.user_session) \\\n",
    "                        .groupBy(commerce_df.user_session) \\\n",
    "                        .count() \\\n",
    "                        .orderBy(\"count\", ascending=False) \\\n",
    "                        .limit(5)\n",
    "\n",
    "checked_user_relation.show(truncate=False)"
   ]
  },
  {
   "cell_type": "code",
   "execution_count": 40,
   "id": "da11d324",
   "metadata": {
    "ExecuteTime": {
     "end_time": "2022-09-11T10:23:06.710355Z",
     "start_time": "2022-09-11T10:21:17.599353Z"
    }
   },
   "outputs": [
    {
     "name": "stdout",
     "output_type": "stream",
     "text": [
      "+---------+\n",
      "|user_id  |\n",
      "+---------+\n",
      "|573277455|\n",
      "+---------+\n",
      "\n"
     ]
    }
   ],
   "source": [
    "checked_user_relation_detail = commerce_df.select(commerce_df.user_id) \\\n",
    "                            .distinct() \\\n",
    "                            .filter(commerce_df.user_session == 'd99d91bf-40f8-4e29-9593-54b4a1826542') \\\n",
    "\n",
    "checked_user_relation_detail.show(truncate=False)"
   ]
  },
  {
   "cell_type": "markdown",
   "id": "19f681b7",
   "metadata": {},
   "source": [
    "'user_id'와 'user_session'이 1:N 관계이다."
   ]
  },
  {
   "cell_type": "markdown",
   "id": "7b4a9722",
   "metadata": {},
   "source": [
    "그렇다면 세션이 null인 경우는 어떤 경우일지?"
   ]
  },
  {
   "cell_type": "code",
   "execution_count": 14,
   "id": "6ac9afb2",
   "metadata": {
    "ExecuteTime": {
     "end_time": "2022-09-10T10:44:50.950824Z",
     "start_time": "2022-09-10T10:43:42.007361Z"
    }
   },
   "outputs": [
    {
     "name": "stdout",
     "output_type": "stream",
     "text": [
      "+--------------------+----------+----------+-------------------+--------------------+-------+-------+---------+------------+\n",
      "|          event_time|event_type|product_id|        category_id|       category_code|  brand|  price|  user_id|user_session|\n",
      "+--------------------+----------+----------+-------------------+--------------------+-------+-------+---------+------------+\n",
      "|2019-11-09 15:32:...|      cart|  19700004|2053013559104766575|                null|kabrita|  37.77|539704497|        null|\n",
      "|2019-11-09 17:15:...|      cart|   1005083|2053013555631882655|electronics.smart...|  honor| 566.27|568843390|        null|\n",
      "|2019-11-13 04:02:...|      cart|   4804008|2053013554658804075|electronics.audio...|bluedio|  97.81|570411102|        null|\n",
      "|2019-11-13 07:18:...|      cart|   1004767|2053013555631882655|electronics.smart...|samsung| 243.51|570878749|        null|\n",
      "|2019-11-23 12:53:...|      cart|   7600528|2053013552821698803|                null|tp-link|  16.73|575357602|        null|\n",
      "|2019-11-25 05:04:...|      cart|   1802104|2053013554415534427|electronics.video.tv|    arg| 360.09|573722572|        null|\n",
      "|2019-11-25 07:03:...|      cart|  21403753|2053013561579406073|  electronics.clocks|   null| 181.47|576301354|        null|\n",
      "|2019-11-26 07:48:...|      cart|   4804718|2053013554658804075|electronics.audio...|  apple| 334.58|576935861|        null|\n",
      "|2019-11-27 07:02:...|      cart|  12719553|2053013553559896355|                null|   null|   55.6|577167045|        null|\n",
      "|2019-11-29 17:25:...|      cart|   1005116|2053013555631882655|electronics.smart...|  apple|1001.42|579123407|        null|\n",
      "+--------------------+----------+----------+-------------------+--------------------+-------+-------+---------+------------+\n",
      "\n"
     ]
    }
   ],
   "source": [
    "# user_session이 null인 경우 확인하기\n",
    "\n",
    "commerce_df.filter(commerce_df.user_session.isNull()).show()"
   ]
  },
  {
   "cell_type": "markdown",
   "id": "f76f9d18",
   "metadata": {
    "ExecuteTime": {
     "end_time": "2022-09-11T09:33:04.227892Z",
     "start_time": "2022-09-11T09:33:04.227892Z"
    }
   },
   "source": [
    "모든 경우가 'event_type'이 'cart'인 경우에서 발생했다. 'user_session' 에 대해서는 일정 시간 이상 행동이 없는 경우 종료된다고 나와있기 때문에 아마 선행된 view와 연결된 경우라고 생각된다."
   ]
  },
  {
   "cell_type": "code",
   "execution_count": null,
   "id": "3252d074",
   "metadata": {},
   "outputs": [],
   "source": [
    "commerce_df.filter(commerce_df.user_id == '539704497').show()"
   ]
  },
  {
   "cell_type": "code",
   "execution_count": 16,
   "id": "38a6069d",
   "metadata": {
    "ExecuteTime": {
     "end_time": "2022-09-10T10:50:14.455878Z",
     "start_time": "2022-09-10T10:47:53.827617Z"
    }
   },
   "outputs": [
    {
     "name": "stdout",
     "output_type": "stream",
     "text": [
      "+---------+-----+\n",
      "|  user_id|count|\n",
      "+---------+-----+\n",
      "|568778435|22542|\n",
      "|569335945|14810|\n",
      "|512475445| 6074|\n",
      "|568793129| 4453|\n",
      "|567475167| 3617|\n",
      "+---------+-----+\n",
      "\n"
     ]
    }
   ],
   "source": [
    "# id, session 관계 확인 - 수정\n",
    "\n",
    "checked_id_session = commerce_df.select(commerce_df.user_id, commerce_df.user_session) \\\n",
    "    .distinct() \\\n",
    "    .count()\n",
    "\n",
    "checked_id_session.show()"
   ]
  },
  {
   "cell_type": "code",
   "execution_count": 29,
   "id": "38008145",
   "metadata": {
    "ExecuteTime": {
     "end_time": "2022-09-10T11:13:29.707451Z",
     "start_time": "2022-09-10T11:12:04.192449Z"
    }
   },
   "outputs": [
    {
     "name": "stdout",
     "output_type": "stream",
     "text": [
      "+---------+--------------------+-----+\n",
      "|  user_id|        user_session|count|\n",
      "+---------+--------------------+-----+\n",
      "|520772685|816a59f3-f5ae-4cc...|    1|\n",
      "|513200477|742aba02-727b-4d1...|    1|\n",
      "|553802615|e09684bb-0c95-4f6...|    1|\n",
      "|542346595|75c35801-ce60-44b...|    1|\n",
      "|558726315|e43aa696-aefc-406...|    1|\n",
      "+---------+--------------------+-----+\n",
      "\n"
     ]
    }
   ],
   "source": [
    "# id, session 관계 확인\n",
    "\n",
    "checked_id_session = commerce_df.select(commerce_df.user_id, commerce_df.user_session) \\\n",
    "    .distinct() \\\n",
    "    .groupBy(commerce_df.user_id, commerce_df.user_session) \\\n",
    "    .count() \\\n",
    "    .orderBy(\"count\", ascending=False) \\\n",
    "    .limit(5)\n",
    "    \n",
    "checked_id_session.show()"
   ]
  },
  {
   "cell_type": "markdown",
   "id": "b80bb071",
   "metadata": {},
   "source": [
    "event type 관련 확인하기."
   ]
  },
  {
   "cell_type": "code",
   "execution_count": 15,
   "id": "382ad59f",
   "metadata": {
    "ExecuteTime": {
     "end_time": "2022-09-10T04:39:56.628833Z",
     "start_time": "2022-09-10T04:38:10.878186Z"
    }
   },
   "outputs": [
    {
     "data": {
      "text/html": [
       "<div>\n",
       "<style scoped>\n",
       "    .dataframe tbody tr th:only-of-type {\n",
       "        vertical-align: middle;\n",
       "    }\n",
       "\n",
       "    .dataframe tbody tr th {\n",
       "        vertical-align: top;\n",
       "    }\n",
       "\n",
       "    .dataframe thead th {\n",
       "        text-align: right;\n",
       "    }\n",
       "</style>\n",
       "<table border=\"1\" class=\"dataframe\">\n",
       "  <thead>\n",
       "    <tr style=\"text-align: right;\">\n",
       "      <th></th>\n",
       "      <th>event_type</th>\n",
       "      <th>count</th>\n",
       "    </tr>\n",
       "  </thead>\n",
       "  <tbody>\n",
       "    <tr>\n",
       "      <th>0</th>\n",
       "      <td>view</td>\n",
       "      <td>13767353</td>\n",
       "    </tr>\n",
       "    <tr>\n",
       "      <th>1</th>\n",
       "      <td>cart</td>\n",
       "      <td>1743354</td>\n",
       "    </tr>\n",
       "    <tr>\n",
       "      <th>2</th>\n",
       "      <td>purchase</td>\n",
       "      <td>773214</td>\n",
       "    </tr>\n",
       "  </tbody>\n",
       "</table>\n",
       "</div>"
      ],
      "text/plain": [
       "  event_type     count\n",
       "0       view  13767353\n",
       "1       cart   1743354\n",
       "2   purchase    773214"
      ]
     },
     "execution_count": 15,
     "metadata": {},
     "output_type": "execute_result"
    }
   ],
   "source": [
    "checked_event_type = commerce_df.select(commerce_df.event_type, commerce_df.user_id, commerce_df.user_session) \\\n",
    "    .distinct() \\\n",
    "    .groupBy(commerce_df.event_type) \\\n",
    "    .count() \\\n",
    "    .orderBy(\"count\", ascending=False)\n",
    "    \n",
    "checked_event_type_df = checked_event_type.toPandas()\n",
    "checked_event_type_df"
   ]
  },
  {
   "cell_type": "code",
   "execution_count": 16,
   "id": "f0f399c6",
   "metadata": {
    "ExecuteTime": {
     "end_time": "2022-09-10T04:42:07.511182Z",
     "start_time": "2022-09-10T04:41:21.424488Z"
    }
   },
   "outputs": [
    {
     "data": {
      "text/html": [
       "<div>\n",
       "<style scoped>\n",
       "    .dataframe tbody tr th:only-of-type {\n",
       "        vertical-align: middle;\n",
       "    }\n",
       "\n",
       "    .dataframe tbody tr th {\n",
       "        vertical-align: top;\n",
       "    }\n",
       "\n",
       "    .dataframe thead th {\n",
       "        text-align: right;\n",
       "    }\n",
       "</style>\n",
       "<table border=\"1\" class=\"dataframe\">\n",
       "  <thead>\n",
       "    <tr style=\"text-align: right;\">\n",
       "      <th></th>\n",
       "      <th>event_type</th>\n",
       "      <th>count</th>\n",
       "    </tr>\n",
       "  </thead>\n",
       "  <tbody>\n",
       "    <tr>\n",
       "      <th>0</th>\n",
       "      <td>view</td>\n",
       "      <td>63556110</td>\n",
       "    </tr>\n",
       "    <tr>\n",
       "      <th>1</th>\n",
       "      <td>cart</td>\n",
       "      <td>3028930</td>\n",
       "    </tr>\n",
       "    <tr>\n",
       "      <th>2</th>\n",
       "      <td>purchase</td>\n",
       "      <td>916939</td>\n",
       "    </tr>\n",
       "  </tbody>\n",
       "</table>\n",
       "</div>"
      ],
      "text/plain": [
       "  event_type     count\n",
       "0       view  63556110\n",
       "1       cart   3028930\n",
       "2   purchase    916939"
      ]
     },
     "execution_count": 16,
     "metadata": {},
     "output_type": "execute_result"
    }
   ],
   "source": [
    "checked_event_type_not_distinct = commerce_df.select(commerce_df.event_type, commerce_df.user_id, commerce_df.user_session) \\\n",
    "    .groupBy(commerce_df.event_type) \\\n",
    "    .count() \\\n",
    "    .orderBy(\"count\", ascending=False)\n",
    "    \n",
    "checked_event_type_not_distinct_df = checked_event_type_not_distinct.toPandas()\n",
    "checked_event_type_not_distinct_df"
   ]
  },
  {
   "cell_type": "code",
   "execution_count": null,
   "id": "3dd68eab",
   "metadata": {},
   "outputs": [],
   "source": [
    "# Top 5 workout types\n",
    "\n",
    "highest_sport_users_df = ranked_sport_users_df.limit(5).toPandas()\n",
    "\n",
    "# Rename column name : 'count' --> Users count\n",
    "highest_sport_users_df.rename(columns = {'count':'Users count'}, inplace = True)\n",
    "\n",
    "# Caculate the total users, we will this result to compute percentage later\n",
    "total_sports_users = ranked_sport_users_df.groupBy().sum().collect()[0][0]"
   ]
  },
  {
   "cell_type": "code",
   "execution_count": 125,
   "id": "21eac7b4",
   "metadata": {
    "ExecuteTime": {
     "end_time": "2022-09-11T13:16:38.595752Z",
     "start_time": "2022-09-11T13:16:38.542759Z"
    }
   },
   "outputs": [
    {
     "ename": "NameError",
     "evalue": "name 'Funnel' is not defined",
     "output_type": "error",
     "traceback": [
      "\u001b[1;31m---------------------------------------------------------------------------\u001b[0m",
      "\u001b[1;31mNameError\u001b[0m                                 Traceback (most recent call last)",
      "Input \u001b[1;32mIn [125]\u001b[0m, in \u001b[0;36m<cell line: 5>\u001b[1;34m()\u001b[0m\n\u001b[0;32m      3\u001b[0m attr \u001b[38;5;241m=\u001b[39m [\u001b[38;5;124m\"\u001b[39m\u001b[38;5;124mA\u001b[39m\u001b[38;5;124m\"\u001b[39m, \u001b[38;5;124m\"\u001b[39m\u001b[38;5;124mB\u001b[39m\u001b[38;5;124m\"\u001b[39m, \u001b[38;5;124m\"\u001b[39m\u001b[38;5;124mC\u001b[39m\u001b[38;5;124m\"\u001b[39m, \u001b[38;5;124m\"\u001b[39m\u001b[38;5;124mD\u001b[39m\u001b[38;5;124m\"\u001b[39m, \u001b[38;5;124m\"\u001b[39m\u001b[38;5;124mE\u001b[39m\u001b[38;5;124m\"\u001b[39m, \u001b[38;5;124m\"\u001b[39m\u001b[38;5;124mF\u001b[39m\u001b[38;5;124m\"\u001b[39m]\n\u001b[0;32m      4\u001b[0m value \u001b[38;5;241m=\u001b[39m [\u001b[38;5;241m20\u001b[39m, \u001b[38;5;241m40\u001b[39m, \u001b[38;5;241m60\u001b[39m, \u001b[38;5;241m80\u001b[39m, \u001b[38;5;241m100\u001b[39m, \u001b[38;5;241m120\u001b[39m]\n\u001b[1;32m----> 5\u001b[0m funnel \u001b[38;5;241m=\u001b[39m \u001b[43mFunnel\u001b[49m(\u001b[38;5;124m\"\u001b[39m\u001b[38;5;124m퍼널 그래프\u001b[39m\u001b[38;5;124m\"\u001b[39m)\n\u001b[0;32m      6\u001b[0m funnel\u001b[38;5;241m.\u001b[39madd(\n\u001b[0;32m      7\u001b[0m     \u001b[38;5;124m\"\u001b[39m\u001b[38;5;124m퍼널\u001b[39m\u001b[38;5;124m\"\u001b[39m,\n\u001b[0;32m      8\u001b[0m     attr,\n\u001b[1;32m   (...)\u001b[0m\n\u001b[0;32m     12\u001b[0m     label_text_color\u001b[38;5;241m=\u001b[39m\u001b[38;5;124m\"\u001b[39m\u001b[38;5;124m#fff\u001b[39m\u001b[38;5;124m\"\u001b[39m,\n\u001b[0;32m     13\u001b[0m )\n\u001b[0;32m     14\u001b[0m funnel\u001b[38;5;241m.\u001b[39mwidth\u001b[38;5;241m=\u001b[39m\u001b[38;5;241m700\u001b[39m\n",
      "\u001b[1;31mNameError\u001b[0m: name 'Funnel' is not defined"
     ]
    }
   ],
   "source": [
    "# 퍼널 차트 그려보기\n",
    "\n",
    "attr = [\"A\", \"B\", \"C\", \"D\", \"E\", \"F\"]\n",
    "value = [20, 40, 60, 80, 100, 120]\n",
    "funnel = Funnel(\"퍼널 그래프\")\n",
    "funnel.add(\n",
    "    \"퍼널\",\n",
    "    attr,\n",
    "    value,\n",
    "    is_label_show=True,\n",
    "    label_pos=\"inside\",\n",
    "    label_text_color=\"#fff\",\n",
    ")\n",
    "funnel.width=700\n",
    "funnel.height=500\n",
    "funnel"
   ]
  },
  {
   "cell_type": "code",
   "execution_count": 124,
   "id": "d7200071",
   "metadata": {
    "ExecuteTime": {
     "end_time": "2022-09-11T13:16:35.603600Z",
     "start_time": "2022-09-11T13:16:25.079691Z"
    }
   },
   "outputs": [
    {
     "name": "stdout",
     "output_type": "stream",
     "text": [
      "Collecting pyecharts\n",
      "  Downloading pyecharts-1.9.1-py3-none-any.whl (135 kB)\n",
      "     -------------------------------------- 135.6/135.6 kB 4.0 MB/s eta 0:00:00\n",
      "Collecting prettytable\n",
      "  Downloading prettytable-3.4.1-py3-none-any.whl (26 kB)\n",
      "Collecting simplejson\n",
      "  Downloading simplejson-3.17.6-cp39-cp39-win_amd64.whl (75 kB)\n",
      "     ---------------------------------------- 75.8/75.8 kB 4.1 MB/s eta 0:00:00\n",
      "Requirement already satisfied: jinja2 in c:\\users\\u7rye\\anaconda3\\lib\\site-packages (from pyecharts) (2.11.3)\n",
      "Requirement already satisfied: MarkupSafe>=0.23 in c:\\users\\u7rye\\anaconda3\\lib\\site-packages (from jinja2->pyecharts) (1.1.1)\n",
      "Requirement already satisfied: wcwidth in c:\\users\\u7rye\\anaconda3\\lib\\site-packages (from prettytable->pyecharts) (0.2.5)\n",
      "Installing collected packages: simplejson, prettytable, pyecharts\n",
      "Successfully installed prettytable-3.4.1 pyecharts-1.9.1 simplejson-3.17.6\n"
     ]
    },
    {
     "name": "stderr",
     "output_type": "stream",
     "text": [
      "WARNING: Ignoring invalid distribution -onlpy (c:\\users\\u7rye\\anaconda3\\lib\\site-packages)\n",
      "WARNING: Ignoring invalid distribution -onlpy (c:\\users\\u7rye\\anaconda3\\lib\\site-packages)\n",
      "WARNING: Ignoring invalid distribution -onlpy (c:\\users\\u7rye\\anaconda3\\lib\\site-packages)\n",
      "WARNING: Ignoring invalid distribution -onlpy (c:\\users\\u7rye\\anaconda3\\lib\\site-packages)\n",
      "WARNING: Ignoring invalid distribution -onlpy (c:\\users\\u7rye\\anaconda3\\lib\\site-packages)\n",
      "WARNING: Ignoring invalid distribution -onlpy (c:\\users\\u7rye\\anaconda3\\lib\\site-packages)\n",
      "WARNING: Ignoring invalid distribution -onlpy (c:\\users\\u7rye\\anaconda3\\lib\\site-packages)\n",
      "WARNING: Ignoring invalid distribution -onlpy (c:\\users\\u7rye\\anaconda3\\lib\\site-packages)\n",
      "WARNING: Ignoring invalid distribution -onlpy (c:\\users\\u7rye\\anaconda3\\lib\\site-packages)\n",
      "WARNING: There was an error checking the latest version of pip.\n"
     ]
    }
   ],
   "source": [
    "!pip install pyecharts"
   ]
  },
  {
   "cell_type": "code",
   "execution_count": 127,
   "id": "a16572f3",
   "metadata": {
    "ExecuteTime": {
     "end_time": "2022-09-11T13:17:29.353509Z",
     "start_time": "2022-09-11T13:17:29.311511Z"
    }
   },
   "outputs": [
    {
     "ename": "ModuleNotFoundError",
     "evalue": "No module named 'pyecharts'",
     "output_type": "error",
     "traceback": [
      "\u001b[1;31m---------------------------------------------------------------------------\u001b[0m",
      "\u001b[1;31mModuleNotFoundError\u001b[0m                       Traceback (most recent call last)",
      "Input \u001b[1;32mIn [127]\u001b[0m, in \u001b[0;36m<cell line: 1>\u001b[1;34m()\u001b[0m\n\u001b[1;32m----> 1\u001b[0m \u001b[38;5;28;01mfrom\u001b[39;00m \u001b[38;5;21;01mpyecharts\u001b[39;00m \u001b[38;5;28;01mimport\u001b[39;00m Funnel\n",
      "\u001b[1;31mModuleNotFoundError\u001b[0m: No module named 'pyecharts'"
     ]
    }
   ],
   "source": [
    "from pyecharts import Funnel"
   ]
  },
  {
   "cell_type": "code",
   "execution_count": null,
   "id": "45956dba",
   "metadata": {},
   "outputs": [],
   "source": []
  },
  {
   "cell_type": "code",
   "execution_count": null,
   "id": "c91edab1",
   "metadata": {},
   "outputs": [],
   "source": []
  },
  {
   "cell_type": "code",
   "execution_count": null,
   "id": "29da1cfd",
   "metadata": {},
   "outputs": [],
   "source": []
  },
  {
   "cell_type": "code",
   "execution_count": null,
   "id": "4406be5a",
   "metadata": {
    "ExecuteTime": {
     "end_time": "2022-09-09T11:59:18.271518Z",
     "start_time": "2022-09-09T11:58:36.636852Z"
    }
   },
   "outputs": [],
   "source": [
    "# event_type 종류 확인\n",
    "\n",
    "commerce_df.select('event_type').distinct().show()"
   ]
  },
  {
   "cell_type": "markdown",
   "id": "d1f693c4",
   "metadata": {},
   "source": [
    "kaggle data 설명에는 event_type에 'remove_from_cart'가 있었으나 해당 데이터셋에서는 확인되지 않았음."
   ]
  },
  {
   "cell_type": "code",
   "execution_count": null,
   "id": "f713bc95",
   "metadata": {
    "ExecuteTime": {
     "end_time": "2022-09-09T12:00:28.410200Z",
     "start_time": "2022-09-09T11:59:29.388620Z"
    }
   },
   "outputs": [],
   "source": [
    "# evnet_type == remove_from_cart 값 확인\n",
    "\n",
    "df_event_type_remove_cart = commerce_df.select('*').where(commerce_df.event_type == 'remove_from_cart')\n",
    "df_event_type_remove_cart.show()"
   ]
  },
  {
   "cell_type": "markdown",
   "id": "0e05a2bd",
   "metadata": {},
   "source": [
    "### 전체 데이터셋 시각화"
   ]
  },
  {
   "cell_type": "code",
   "execution_count": null,
   "id": "bb9f9fd5",
   "metadata": {},
   "outputs": [],
   "source": [
    "print(commerce_df_pandas.info())"
   ]
  },
  {
   "cell_type": "code",
   "execution_count": null,
   "id": "7b6e4906",
   "metadata": {},
   "outputs": [],
   "source": [
    "# evnet_type == view 값 확인\n",
    "\n",
    "df_event_type_view = commerce_df.select('*').where(commerce_df.event_type == 'view')\n",
    "df_event_type_view.show()"
   ]
  },
  {
   "cell_type": "code",
   "execution_count": null,
   "id": "2244ddab",
   "metadata": {},
   "outputs": [],
   "source": [
    "# evnet_type == cart 값 확인\n",
    "\n",
    "df_event_type_cart = commerce_df.select('*').where(commerce_df.event_type == 'cart')\n",
    "df_event_type_cart.show()"
   ]
  },
  {
   "cell_type": "code",
   "execution_count": null,
   "id": "7aed3b81",
   "metadata": {},
   "outputs": [],
   "source": [
    "# evnet_type == purchase 값 확인\n",
    "\n",
    "df_event_type_purchase = commerce_df.select('*').where(commerce_df.event_type == 'purchase')\n",
    "df_event_type_purchase.show()"
   ]
  },
  {
   "cell_type": "markdown",
   "id": "b4197960",
   "metadata": {},
   "source": [
    "kaggle 데이터 설명에는 event_type에 'remove_from_cart'가 있다고 하였지만 실제로는 확인되지 않음."
   ]
  },
  {
   "cell_type": "code",
   "execution_count": null,
   "id": "75adea02",
   "metadata": {},
   "outputs": [],
   "source": [
    "df_event_type_purchase.count()"
   ]
  },
  {
   "cell_type": "code",
   "execution_count": null,
   "id": "b2fb5092",
   "metadata": {},
   "outputs": [],
   "source": [
    "df_event_type_cart.count()"
   ]
  },
  {
   "cell_type": "code",
   "execution_count": null,
   "id": "7cc9093c",
   "metadata": {},
   "outputs": [],
   "source": [
    "df_event_type_view.count()"
   ]
  },
  {
   "cell_type": "markdown",
   "id": "5db9089c",
   "metadata": {},
   "source": [
    "### 매출 시각화"
   ]
  },
  {
   "cell_type": "code",
   "execution_count": null,
   "id": "a4a65e49",
   "metadata": {},
   "outputs": [],
   "source": [
    "sum_sales_by_date = df_sales.groupby('event_date')['price'].sum()\n",
    "sum_sales_by_date.head()"
   ]
  },
  {
   "cell_type": "code",
   "execution_count": null,
   "id": "c9b0d0a7",
   "metadata": {},
   "outputs": [],
   "source": [
    "# 그래프 그리기\n",
    "\n",
    "sum_sales_by_date.plot()\n",
    "plt.title(\"일자별 총 매출\")\n",
    "plt.xlabel(\"Date\")\n",
    "plt.ylabel(\"Sales\")\n",
    "\n",
    "plt.show()"
   ]
  },
  {
   "cell_type": "code",
   "execution_count": null,
   "id": "770de998",
   "metadata": {},
   "outputs": [],
   "source": []
  },
  {
   "cell_type": "code",
   "execution_count": null,
   "id": "8de62039",
   "metadata": {},
   "outputs": [],
   "source": []
  },
  {
   "cell_type": "code",
   "execution_count": null,
   "id": "369cf383",
   "metadata": {},
   "outputs": [],
   "source": []
  },
  {
   "cell_type": "code",
   "execution_count": null,
   "id": "b56c39fd",
   "metadata": {},
   "outputs": [],
   "source": []
  },
  {
   "cell_type": "code",
   "execution_count": null,
   "id": "444bd7e5",
   "metadata": {},
   "outputs": [],
   "source": []
  },
  {
   "cell_type": "code",
   "execution_count": null,
   "id": "62e30c30",
   "metadata": {},
   "outputs": [],
   "source": [
    "# brand null값 확인\n",
    "\n",
    "commerce_df.select(*(sum(col(c).isNull().cast(\"int\")).alias(c) for c in commerce_df.columns)).show()"
   ]
  },
  {
   "cell_type": "markdown",
   "id": "506a0b1d",
   "metadata": {},
   "source": [
    "'category_id', 'category_code', 'brand'의 미싱값이 이상함. id, brand는 있는데 코드는 없거나. id, code, "
   ]
  },
  {
   "cell_type": "code",
   "execution_count": null,
   "id": "edb3a114",
   "metadata": {},
   "outputs": [],
   "source": [
    "# category_code, brand 종류 확인\n",
    "\n",
    "commerce_df.select(\"category_code\",\"brand\").distinct().show()"
   ]
  }
 ],
 "metadata": {
  "kernelspec": {
   "display_name": "test_pyspark",
   "language": "python",
   "name": "test_pyspark"
  },
  "language_info": {
   "codemirror_mode": {
    "name": "ipython",
    "version": 3
   },
   "file_extension": ".py",
   "mimetype": "text/x-python",
   "name": "python",
   "nbconvert_exporter": "python",
   "pygments_lexer": "ipython3",
   "version": "3.10.4"
  },
  "toc": {
   "base_numbering": 1,
   "nav_menu": {},
   "number_sections": true,
   "sideBar": true,
   "skip_h1_title": false,
   "title_cell": "Table of Contents",
   "title_sidebar": "Contents",
   "toc_cell": false,
   "toc_position": {},
   "toc_section_display": true,
   "toc_window_display": false
  },
  "varInspector": {
   "cols": {
    "lenName": 16,
    "lenType": 16,
    "lenVar": 40
   },
   "kernels_config": {
    "python": {
     "delete_cmd_postfix": "",
     "delete_cmd_prefix": "del ",
     "library": "var_list.py",
     "varRefreshCmd": "print(var_dic_list())"
    },
    "r": {
     "delete_cmd_postfix": ") ",
     "delete_cmd_prefix": "rm(",
     "library": "var_list.r",
     "varRefreshCmd": "cat(var_dic_list()) "
    }
   },
   "types_to_exclude": [
    "module",
    "function",
    "builtin_function_or_method",
    "instance",
    "_Feature"
   ],
   "window_display": false
  }
 },
 "nbformat": 4,
 "nbformat_minor": 5
}
